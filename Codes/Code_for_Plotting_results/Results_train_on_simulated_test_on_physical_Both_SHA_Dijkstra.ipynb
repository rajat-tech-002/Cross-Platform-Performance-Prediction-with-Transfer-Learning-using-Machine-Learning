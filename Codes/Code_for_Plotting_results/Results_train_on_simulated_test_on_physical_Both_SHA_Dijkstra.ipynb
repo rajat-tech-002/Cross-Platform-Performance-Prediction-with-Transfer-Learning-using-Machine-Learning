{
 "cells": [
  {
   "cell_type": "code",
   "execution_count": 1,
   "metadata": {},
   "outputs": [],
   "source": [
    "import pandas as pd\n",
    "import matplotlib.pyplot as plt\n",
    "from matplotlib import pyplot\n",
    "import numpy as np\n",
    "plt.rcParams.update({'figure.max_open_warning': 0})"
   ]
  },
  {
   "cell_type": "code",
   "execution_count": 24,
   "metadata": {},
   "outputs": [],
   "source": [
    "df = pd.read_csv('C:\\\\Users\\\\Rajat\\\\Desktop\\\\PROJECT_MODE\\\\Paper_3_Rajat\\\\Transfer_Learning\\\\Phy_to_Sim_SHA_Dijkstra\\\\result_transfer_Sim_to_Phy_dijkstra_and_sha.csv')"
   ]
  },
  {
   "cell_type": "code",
   "execution_count": 5,
   "metadata": {},
   "outputs": [
    {
     "data": {
      "text/html": [
       "<div>\n",
       "<style scoped>\n",
       "    .dataframe tbody tr th:only-of-type {\n",
       "        vertical-align: middle;\n",
       "    }\n",
       "\n",
       "    .dataframe tbody tr th {\n",
       "        vertical-align: top;\n",
       "    }\n",
       "\n",
       "    .dataframe thead th {\n",
       "        text-align: right;\n",
       "    }\n",
       "</style>\n",
       "<table border=\"1\" class=\"dataframe\">\n",
       "  <thead>\n",
       "    <tr style=\"text-align: right;\">\n",
       "      <th></th>\n",
       "      <th>model_name</th>\n",
       "      <th>r2_dijkstra</th>\n",
       "      <th>ape_dijkstra</th>\n",
       "      <th>r2_sha</th>\n",
       "      <th>ape_sha</th>\n",
       "    </tr>\n",
       "  </thead>\n",
       "  <tbody>\n",
       "    <tr>\n",
       "      <th>0</th>\n",
       "      <td>best_svr</td>\n",
       "      <td>0.234433</td>\n",
       "      <td>0.133559</td>\n",
       "      <td>0.138841</td>\n",
       "      <td>0.139812</td>\n",
       "    </tr>\n",
       "    <tr>\n",
       "      <th>1</th>\n",
       "      <td>best_lr</td>\n",
       "      <td>0.497401</td>\n",
       "      <td>0.102197</td>\n",
       "      <td>-0.740383</td>\n",
       "      <td>0.215772</td>\n",
       "    </tr>\n",
       "    <tr>\n",
       "      <th>2</th>\n",
       "      <td>best_rr</td>\n",
       "      <td>0.597931</td>\n",
       "      <td>0.083885</td>\n",
       "      <td>0.003595</td>\n",
       "      <td>0.156975</td>\n",
       "    </tr>\n",
       "    <tr>\n",
       "      <th>3</th>\n",
       "      <td>best_knn</td>\n",
       "      <td>0.060386</td>\n",
       "      <td>0.151155</td>\n",
       "      <td>0.290695</td>\n",
       "      <td>0.134173</td>\n",
       "    </tr>\n",
       "    <tr>\n",
       "      <th>4</th>\n",
       "      <td>best_gpr</td>\n",
       "      <td>0.061222</td>\n",
       "      <td>0.158275</td>\n",
       "      <td>0.071567</td>\n",
       "      <td>0.170846</td>\n",
       "    </tr>\n",
       "    <tr>\n",
       "      <th>5</th>\n",
       "      <td>best_dt</td>\n",
       "      <td>0.279915</td>\n",
       "      <td>0.125111</td>\n",
       "      <td>0.371370</td>\n",
       "      <td>0.127567</td>\n",
       "    </tr>\n",
       "    <tr>\n",
       "      <th>6</th>\n",
       "      <td>best_rf</td>\n",
       "      <td>0.383679</td>\n",
       "      <td>0.115233</td>\n",
       "      <td>0.154591</td>\n",
       "      <td>0.123744</td>\n",
       "    </tr>\n",
       "    <tr>\n",
       "      <th>7</th>\n",
       "      <td>best_etr</td>\n",
       "      <td>0.317127</td>\n",
       "      <td>0.119848</td>\n",
       "      <td>0.214182</td>\n",
       "      <td>0.133961</td>\n",
       "    </tr>\n",
       "    <tr>\n",
       "      <th>8</th>\n",
       "      <td>best_gbr</td>\n",
       "      <td>0.282579</td>\n",
       "      <td>0.124432</td>\n",
       "      <td>0.201752</td>\n",
       "      <td>0.140544</td>\n",
       "    </tr>\n",
       "    <tr>\n",
       "      <th>9</th>\n",
       "      <td>best_xgb</td>\n",
       "      <td>0.236327</td>\n",
       "      <td>0.128393</td>\n",
       "      <td>0.366160</td>\n",
       "      <td>0.135724</td>\n",
       "    </tr>\n",
       "    <tr>\n",
       "      <th>10</th>\n",
       "      <td>best_dnn</td>\n",
       "      <td>0.228609</td>\n",
       "      <td>0.139118</td>\n",
       "      <td>0.136632</td>\n",
       "      <td>0.169927</td>\n",
       "    </tr>\n",
       "  </tbody>\n",
       "</table>\n",
       "</div>"
      ],
      "text/plain": [
       "   model_name  r2_dijkstra  ape_dijkstra    r2_sha   ape_sha\n",
       "0    best_svr     0.234433      0.133559  0.138841  0.139812\n",
       "1     best_lr     0.497401      0.102197 -0.740383  0.215772\n",
       "2     best_rr     0.597931      0.083885  0.003595  0.156975\n",
       "3    best_knn     0.060386      0.151155  0.290695  0.134173\n",
       "4    best_gpr     0.061222      0.158275  0.071567  0.170846\n",
       "5     best_dt     0.279915      0.125111  0.371370  0.127567\n",
       "6     best_rf     0.383679      0.115233  0.154591  0.123744\n",
       "7    best_etr     0.317127      0.119848  0.214182  0.133961\n",
       "8    best_gbr     0.282579      0.124432  0.201752  0.140544\n",
       "9    best_xgb     0.236327      0.128393  0.366160  0.135724\n",
       "10   best_dnn     0.228609      0.139118  0.136632  0.169927"
      ]
     },
     "execution_count": 5,
     "metadata": {},
     "output_type": "execute_result"
    }
   ],
   "source": [
    "df"
   ]
  },
  {
   "cell_type": "code",
   "execution_count": 6,
   "metadata": {},
   "outputs": [
    {
     "data": {
      "text/plain": [
       "0     best_svr\n",
       "1      best_lr\n",
       "2      best_rr\n",
       "3     best_knn\n",
       "4     best_gpr\n",
       "5      best_dt\n",
       "6      best_rf\n",
       "7     best_etr\n",
       "8     best_gbr\n",
       "9     best_xgb\n",
       "10    best_dnn\n",
       "Name: model_name, dtype: object"
      ]
     },
     "execution_count": 6,
     "metadata": {},
     "output_type": "execute_result"
    }
   ],
   "source": [
    "ls  = df['model_name']\n",
    "ls"
   ]
  },
  {
   "cell_type": "code",
   "execution_count": 7,
   "metadata": {},
   "outputs": [],
   "source": [
    "def convert_to_num(arr, ind):\n",
    "    # print(arr[ind])\n",
    "    arr = arr[ind]\n",
    "    arr = [float(s) for s in arr[1:-1].split(',')]\n",
    "    # print(arr)\n",
    "    return arr"
   ]
  },
  {
   "cell_type": "code",
   "execution_count": 8,
   "metadata": {},
   "outputs": [],
   "source": [
    "def convert_to_num_mape(arr, ind):\n",
    "    # print(arr[ind])\n",
    "    arr = arr[ind]\n",
    "    arr = [float(s) for s in arr[1:-1].split(',')]\n",
    "    arr = [x*100 for x in arr]\n",
    "    # print(arr)\n",
    "    return arr"
   ]
  },
  {
   "cell_type": "code",
   "execution_count": 16,
   "metadata": {},
   "outputs": [],
   "source": [
    "r2_dijkstra = []\n",
    "r2_sha = []\n",
    "ape_dijkstra = []\n",
    "ape_sha = []\n",
    "for i in range(11):\n",
    "    temp = df.iloc[i]['r2_dijkstra']\n",
    "    r2_dijkstra.append(temp)\n",
    "for i in range(11):\n",
    "    temp = df.iloc[i]['r2_sha']\n",
    "    r2_sha.append(temp)\n",
    "for i in range(11):\n",
    "    temp = df.iloc[i]['ape_dijkstra']\n",
    "    ape_dijkstra.append(temp)\n",
    "for i in range(11):\n",
    "    temp = df.iloc[i]['ape_sha']\n",
    "    ape_sha.append(temp)    \n",
    "ape_sha = [x*100 for x in ape_sha]\n",
    "ape_dijkstra = [x*100 for x in ape_dijkstra]"
   ]
  },
  {
   "cell_type": "code",
   "execution_count": 17,
   "metadata": {},
   "outputs": [
    {
     "name": "stdout",
     "output_type": "stream",
     "text": [
      "['svr', 'lr', 'rr', 'knn', 'gpr', 'dt', 'rf', 'etr', 'gbr', 'xgb', 'dnn']\n"
     ]
    },
    {
     "data": {
      "text/plain": [
       "([13.3558871,\n",
       "  10.219743600000001,\n",
       "  8.388545,\n",
       "  15.1155483,\n",
       "  15.8275214,\n",
       "  12.511077400000001,\n",
       "  11.5232609,\n",
       "  11.9847679,\n",
       "  12.443208300000002,\n",
       "  12.839345499999999,\n",
       "  13.9118102],\n",
       " [13.9811786,\n",
       "  21.5771555,\n",
       "  15.6974841,\n",
       "  13.4173464,\n",
       "  17.084601600000003,\n",
       "  12.756731400000001,\n",
       "  12.374422800000001,\n",
       "  13.396051700000001,\n",
       "  14.054361600000002,\n",
       "  13.572425099999998,\n",
       "  16.9927317],\n",
       " 12.556428690909092,\n",
       " 14.99131731818182)"
      ]
     },
     "execution_count": 17,
     "metadata": {},
     "output_type": "execute_result"
    }
   ],
   "source": [
    "print(ls)\n",
    "ape_dijkstra, ape_sha, np.mean(ape_dijkstra), np.mean(ape_sha)\n"
   ]
  },
  {
   "cell_type": "code",
   "execution_count": 18,
   "metadata": {},
   "outputs": [
    {
     "data": {
      "text/plain": [
       "(0.2616110554, 0.2999253772, 13.230798520000002, 12.260332000000002)"
      ]
     },
     "execution_count": 18,
     "metadata": {},
     "output_type": "execute_result"
    }
   ],
   "source": [
    "np.mean(r2_sha[5:10]), np.mean(r2_dijkstra[5:10]), np.mean(ape_sha[5:10]), np.mean(ape_dijkstra[5:10])"
   ]
  },
  {
   "cell_type": "code",
   "execution_count": 19,
   "metadata": {},
   "outputs": [],
   "source": [
    "def find_y_r2(r2):\n",
    "    y = []\n",
    "    for i in range(len(r2)):\n",
    "        y.append(np.mean(r2[i]))\n",
    "    return y"
   ]
  },
  {
   "cell_type": "code",
   "execution_count": 20,
   "metadata": {},
   "outputs": [],
   "source": [
    "def find_y_mape(mape):\n",
    "    y = []\n",
    "    for i in range(len(mape)):\n",
    "        y_temp = [x * 100 for x in mape[i]]\n",
    "        y.append(np.median(y_temp))\n",
    "    return y"
   ]
  },
  {
   "cell_type": "code",
   "execution_count": 21,
   "metadata": {},
   "outputs": [],
   "source": [
    "import matplotlib as mpl\n",
    "font = {'family' : 'normal',\n",
    "        'weight' : 'bold',\n",
    "        'size'   : 18}\n",
    "\n",
    "mpl.rc('font', **font)"
   ]
  },
  {
   "cell_type": "markdown",
   "metadata": {},
   "source": [
    "# SHA"
   ]
  },
  {
   "cell_type": "code",
   "execution_count": 22,
   "metadata": {},
   "outputs": [
    {
     "name": "stderr",
     "output_type": "stream",
     "text": [
      "C:\\Users\\Rajat\\Anaconda3\\lib\\site-packages\\ipykernel_launcher.py:27: UserWarning: In Matplotlib 3.3 individual lines on a stem plot will be added as a LineCollection instead of individual lines. This significantly improves the performance of a stem plot. To remove this warning and switch to the new behaviour, set the \"use_line_collection\" keyword argument to True.\n",
      "C:\\Users\\Rajat\\Anaconda3\\lib\\site-packages\\ipykernel_launcher.py:36: UserWarning: In Matplotlib 3.3 individual lines on a stem plot will be added as a LineCollection instead of individual lines. This significantly improves the performance of a stem plot. To remove this warning and switch to the new behaviour, set the \"use_line_collection\" keyword argument to True.\n",
      "findfont: Font family ['normal'] not found. Falling back to DejaVu Sans.\n",
      "findfont: Font family ['normal'] not found. Falling back to DejaVu Sans.\n",
      "C:\\Users\\Rajat\\Anaconda3\\lib\\site-packages\\ipykernel_launcher.py:67: UserWarning: Matplotlib is currently using module://ipykernel.pylab.backend_inline, which is a non-GUI backend, so cannot show the figure.\n"
     ]
    },
    {
     "data": {
      "image/png": "[encoded data removed]",
      "text/plain": [
       "<Figure size 792x576 with 1 Axes>"
      ]
     },
     "metadata": {
      "needs_background": "light"
     },
     "output_type": "display_data"
    }
   ],
   "source": [
    "ls = ['svr', 'lr', 'rr', 'knn', 'gpr','dt','rf','etr',\n",
    "          'gbr', 'xgb','dnn']\n",
    "fig, ax = plt.subplots(1,1, figsize = (11, 8)) # create 2x2 array of subplots\n",
    "# color = 'tab:red'\n",
    "# y_r2 = r2_qsort_s\n",
    "y_mape = ape_sha\n",
    "# px = ax.bar(ls,y_r2,color = 'mediumorchid', label = 'R2')\n",
    "# ax.legend(frameon=True, loc='upper left', prop={'size': 20})\n",
    "\n",
    "# ax[i,j].bar(ls, y,color = 'blue')\n",
    "# ax.set_xticklabels(ls, rotation = 90, fontsize = 35, fontweight = 'bold')\n",
    "\n",
    "# if j == 4:\n",
    "#    ax[i,j].set_ylabel('MedAPE score')\n",
    "# ax.set_title(dataset_names[cb[j]] + ' (' + dataset[cb[j]] + ')', fontsize = 25, fontweight = 'bold') \n",
    "# ax.set_ylim(-0.5,1.5)\n",
    "\n",
    "# ax.grid()\n",
    "\n",
    "ax_temp = ax\n",
    "\n",
    "# create data\n",
    "x = ls\n",
    "values = y_mape\n",
    "\n",
    "# stem function: first way\n",
    "ax_temp.stem(x, values)\n",
    "# plt.ylim(0, 1.2)\n",
    "#plt.show()\n",
    "\n",
    "# stem function: If no X provided, a sequence of numbers is created by python:\n",
    "# plt.stem(values)\n",
    "#plt.show()\n",
    "\n",
    "# stem function: second way\n",
    "(markerline, stemlines, baseline) = ax_temp.stem(x, values, linefmt='-*', markerfmt='bs', basefmt='k-',label='APE score')\n",
    "plt.setp(baseline, visible = False)\n",
    "plt.setp(stemlines, 'linewidth', 12)\n",
    "#plt.show()\n",
    "\n",
    "    \n",
    "    \n",
    "# ax_temp = ax.twinx()  # instantiate a second axes that shares the same x-axis\n",
    "# line2 = ax_temp.bar(ls,y_mape, color = 'mediumorchid',label='APE score') # add boxplot to 1st subplot\n",
    "# line, = ax.plot([1, 2, 3], label='Inline label')\n",
    "# ax_temp.legend(frameon= True, loc='upper right', prop={'size': 20})\n",
    "plt.title('Absolute Percentage Error', fontsize = 30, fontweight = 'bold')\n",
    "# ax_temp.boxplot(y_mape,labels = ls)\n",
    "# ax[i,j].bar(ls, y,color = 'blue')\n",
    "ax_temp.set_xticklabels(ls, rotation = 90, fontsize = 35, fontweight = 'bold')\n",
    "# ax_temp.set_yticklabels(fontsize = 15)\n",
    "ax_temp.ticklabel_format(style='sci', axis='y', scilimits=(0,0))\n",
    "# ax_temp.legend(['MedAPE score'])\n",
    "\n",
    "fig.tight_layout()  # otherwise the right y-label is slightly clipped\n",
    "ax_temp.set_ylim(0,30)\n",
    "\n",
    "# plt.show()\n",
    "# extent = ax.get_tightbbox(fig.canvas.get_renderer()).transformed(fig.dpi_scale_trans.inverted())\n",
    "# fig.savefig('cb_1.pdf', bbox_inches = extent)\n",
    "ax_temp.grid()\n",
    "name = 'transfer_learning_sha'\n",
    "plt.rc('font', size=25)\n",
    "fig.savefig(name+ '.eps')\n",
    "\n",
    "\n",
    "fig.show()\n"
   ]
  },
  {
   "cell_type": "markdown",
   "metadata": {},
   "source": [
    "# Dijkstra"
   ]
  },
  {
   "cell_type": "code",
   "execution_count": 23,
   "metadata": {},
   "outputs": [
    {
     "name": "stderr",
     "output_type": "stream",
     "text": [
      "C:\\Users\\Rajat\\Anaconda3\\lib\\site-packages\\ipykernel_launcher.py:27: UserWarning: In Matplotlib 3.3 individual lines on a stem plot will be added as a LineCollection instead of individual lines. This significantly improves the performance of a stem plot. To remove this warning and switch to the new behaviour, set the \"use_line_collection\" keyword argument to True.\n",
      "C:\\Users\\Rajat\\Anaconda3\\lib\\site-packages\\ipykernel_launcher.py:36: UserWarning: In Matplotlib 3.3 individual lines on a stem plot will be added as a LineCollection instead of individual lines. This significantly improves the performance of a stem plot. To remove this warning and switch to the new behaviour, set the \"use_line_collection\" keyword argument to True.\n",
      "findfont: Font family ['normal'] not found. Falling back to DejaVu Sans.\n",
      "C:\\Users\\Rajat\\Anaconda3\\lib\\site-packages\\ipykernel_launcher.py:67: UserWarning: Matplotlib is currently using module://ipykernel.pylab.backend_inline, which is a non-GUI backend, so cannot show the figure.\n"
     ]
    },
    {
     "data": {
      "image/png": "[encoded data removed]",
      "text/plain": [
       "<Figure size 792x576 with 1 Axes>"
      ]
     },
     "metadata": {
      "needs_background": "light"
     },
     "output_type": "display_data"
    }
   ],
   "source": [
    "ls = ['svr', 'lr', 'rr', 'knn', 'gpr','dt','rf','etr',\n",
    "          'gbr', 'xgb','dnn']\n",
    "fig, ax = plt.subplots(1,1, figsize = (11, 8)) # create 2x2 array of subplots\n",
    "# color = 'tab:red'\n",
    "# y_r2 = r2_qsort_s\n",
    "y_mape = ape_dijkstra\n",
    "# px = ax.bar(ls,y_r2,color = 'mediumorchid', label = 'R2')\n",
    "# ax.legend(frameon=True, loc='upper left', prop={'size': 20})\n",
    "\n",
    "# ax[i,j].bar(ls, y,color = 'blue')\n",
    "# ax.set_xticklabels(ls, rotation = 90, fontsize = 35, fontweight = 'bold')\n",
    "\n",
    "# if j == 4:\n",
    "#    ax[i,j].set_ylabel('MedAPE score')\n",
    "# ax.set_title(dataset_names[cb[j]] + ' (' + dataset[cb[j]] + ')', fontsize = 25, fontweight = 'bold') \n",
    "# ax.set_ylim(-0.5,1.5)\n",
    "\n",
    "# ax.grid()\n",
    "\n",
    "ax_temp = ax\n",
    "\n",
    "# create data\n",
    "x = ls\n",
    "values = y_mape\n",
    "\n",
    "# stem function: first way\n",
    "ax_temp.stem(x, values)\n",
    "# plt.ylim(0, 1.2)\n",
    "#plt.show()\n",
    "\n",
    "# stem function: If no X provided, a sequence of numbers is created by python:\n",
    "# plt.stem(values)\n",
    "#plt.show()\n",
    "\n",
    "# stem function: second way\n",
    "(markerline, stemlines, baseline) = ax_temp.stem(x, values, linefmt='-*', markerfmt='bs', basefmt='k-',label='APE score')\n",
    "plt.setp(baseline, visible = False)\n",
    "plt.setp(stemlines, 'linewidth', 12)\n",
    "#plt.show()\n",
    "\n",
    "    \n",
    "    \n",
    "# ax_temp = ax.twinx()  # instantiate a second axes that shares the same x-axis\n",
    "# line2 = ax_temp.bar(ls,y_mape, color = 'mediumorchid',label='APE score') # add boxplot to 1st subplot\n",
    "# line, = ax.plot([1, 2, 3], label='Inline label')\n",
    "# ax_temp.legend(frameon= True, loc='upper right', prop={'size': 20})\n",
    "plt.title('Absolute Percentage Error', fontsize = 30, fontweight = 'bold')\n",
    "# ax_temp.boxplot(y_mape,labels = ls)\n",
    "# ax[i,j].bar(ls, y,color = 'blue')\n",
    "ax_temp.set_xticklabels(ls, rotation = 90, fontsize = 35, fontweight = 'bold')\n",
    "# ax_temp.set_yticklabels(fontsize = 15)\n",
    "ax_temp.ticklabel_format(style='sci', axis='y', scilimits=(0,0))\n",
    "# ax_temp.legend(['MedAPE score'])\n",
    "\n",
    "fig.tight_layout()  # otherwise the right y-label is slightly clipped\n",
    "ax_temp.set_ylim(0,30)\n",
    "\n",
    "# plt.show()\n",
    "# extent = ax.get_tightbbox(fig.canvas.get_renderer()).transformed(fig.dpi_scale_trans.inverted())\n",
    "# fig.savefig('cb_1.pdf', bbox_inches = extent)\n",
    "ax_temp.grid()\n",
    "name = 'transfer_learning_dijkstra'\n",
    "plt.rc('font', size=25)\n",
    "fig.savefig(name+ '.eps')\n",
    "\n",
    "\n",
    "fig.show()\n"
   ]
  },
  {
   "cell_type": "code",
   "execution_count": null,
   "metadata": {},
   "outputs": [],
   "source": []
  },
  {
   "cell_type": "code",
   "execution_count": null,
   "metadata": {},
   "outputs": [],
   "source": []
  }
 ],
 "metadata": {
  "kernelspec": {
   "display_name": "Python 3",
   "language": "python",
   "name": "python3"
  },
  "language_info": {
   "codemirror_mode": {
    "name": "ipython",
    "version": 3
   },
   "file_extension": ".py",
   "mimetype": "text/x-python",
   "name": "python",
   "nbconvert_exporter": "python",
   "pygments_lexer": "ipython3",
   "version": "3.7.3"
  }
 },
 "nbformat": 4,
 "nbformat_minor": 2
}
