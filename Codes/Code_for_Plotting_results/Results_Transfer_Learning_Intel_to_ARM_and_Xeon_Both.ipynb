{
 "cells": [
  {
   "cell_type": "code",
   "execution_count": 1,
   "metadata": {},
   "outputs": [],
   "source": [
    "import pandas as pd\n",
    "import matplotlib.pyplot as plt\n",
    "from matplotlib import pyplot\n",
    "import numpy as np\n",
    "plt.rcParams.update({'figure.max_open_warning': 0})"
   ]
  },
  {
   "cell_type": "code",
   "execution_count": 2,
   "metadata": {},
   "outputs": [],
   "source": [
    "import matplotlib as mpl\n",
    "font = {'family' : 'normal',\n",
    "        'weight' : 'bold',\n",
    "        'size'   : 30}\n",
    "\n",
    "mpl.rc('font', **font)"
   ]
  },
  {
   "cell_type": "code",
   "execution_count": 3,
   "metadata": {},
   "outputs": [],
   "source": [
    "df = pd.read_csv('\\\\Results_CSV\\\\Results_Transfer_Learning_Sim_to_Physical\\\\result_tl.csv')"
   ]
  },
  {
   "cell_type": "code",
   "execution_count": 6,
   "metadata": {},
   "outputs": [
    {
     "data": {
      "text/html": [
       "<div>\n",
       "<style scoped>\n",
       "    .dataframe tbody tr th:only-of-type {\n",
       "        vertical-align: middle;\n",
       "    }\n",
       "\n",
       "    .dataframe tbody tr th {\n",
       "        vertical-align: top;\n",
       "    }\n",
       "\n",
       "    .dataframe thead th {\n",
       "        text-align: right;\n",
       "    }\n",
       "</style>\n",
       "<table border=\"1\" class=\"dataframe\">\n",
       "  <thead>\n",
       "    <tr style=\"text-align: right;\">\n",
       "      <th></th>\n",
       "      <th>models</th>\n",
       "      <th>r2_qsort_s</th>\n",
       "      <th>ape_qsort_s</th>\n",
       "      <th>r2_qsort_p</th>\n",
       "      <th>ape_qsort_p</th>\n",
       "    </tr>\n",
       "  </thead>\n",
       "  <tbody>\n",
       "    <tr>\n",
       "      <th>0</th>\n",
       "      <td>svr</td>\n",
       "      <td>0.918108</td>\n",
       "      <td>0.163349</td>\n",
       "      <td>-0.030197</td>\n",
       "      <td>0.224167</td>\n",
       "    </tr>\n",
       "    <tr>\n",
       "      <th>1</th>\n",
       "      <td>lr</td>\n",
       "      <td>-0.400000</td>\n",
       "      <td>1.200000</td>\n",
       "      <td>-0.600000</td>\n",
       "      <td>1.400000</td>\n",
       "    </tr>\n",
       "    <tr>\n",
       "      <th>2</th>\n",
       "      <td>rr</td>\n",
       "      <td>0.845162</td>\n",
       "      <td>0.234457</td>\n",
       "      <td>0.061225</td>\n",
       "      <td>0.237564</td>\n",
       "    </tr>\n",
       "    <tr>\n",
       "      <th>3</th>\n",
       "      <td>knn</td>\n",
       "      <td>0.618170</td>\n",
       "      <td>0.232887</td>\n",
       "      <td>-0.342189</td>\n",
       "      <td>0.214369</td>\n",
       "    </tr>\n",
       "    <tr>\n",
       "      <th>4</th>\n",
       "      <td>gpr</td>\n",
       "      <td>0.209078</td>\n",
       "      <td>0.700095</td>\n",
       "      <td>0.127807</td>\n",
       "      <td>0.227634</td>\n",
       "    </tr>\n",
       "    <tr>\n",
       "      <th>5</th>\n",
       "      <td>dt</td>\n",
       "      <td>0.848682</td>\n",
       "      <td>0.167914</td>\n",
       "      <td>-0.010785</td>\n",
       "      <td>0.230402</td>\n",
       "    </tr>\n",
       "    <tr>\n",
       "      <th>6</th>\n",
       "      <td>rf</td>\n",
       "      <td>0.879630</td>\n",
       "      <td>0.158508</td>\n",
       "      <td>0.261504</td>\n",
       "      <td>0.212435</td>\n",
       "    </tr>\n",
       "    <tr>\n",
       "      <th>7</th>\n",
       "      <td>etr</td>\n",
       "      <td>0.889580</td>\n",
       "      <td>0.154486</td>\n",
       "      <td>0.039261</td>\n",
       "      <td>0.214084</td>\n",
       "    </tr>\n",
       "    <tr>\n",
       "      <th>8</th>\n",
       "      <td>gbr</td>\n",
       "      <td>0.904771</td>\n",
       "      <td>0.141672</td>\n",
       "      <td>0.058790</td>\n",
       "      <td>0.221617</td>\n",
       "    </tr>\n",
       "    <tr>\n",
       "      <th>9</th>\n",
       "      <td>xgb</td>\n",
       "      <td>0.836674</td>\n",
       "      <td>0.198839</td>\n",
       "      <td>0.134290</td>\n",
       "      <td>0.236240</td>\n",
       "    </tr>\n",
       "    <tr>\n",
       "      <th>10</th>\n",
       "      <td>dnn</td>\n",
       "      <td>0.915252</td>\n",
       "      <td>0.224727</td>\n",
       "      <td>-0.075609</td>\n",
       "      <td>0.221345</td>\n",
       "    </tr>\n",
       "  </tbody>\n",
       "</table>\n",
       "</div>"
      ],
      "text/plain": [
       "   models  r2_qsort_s  ape_qsort_s  r2_qsort_p  ape_qsort_p\n",
       "0     svr    0.918108     0.163349   -0.030197     0.224167\n",
       "1      lr   -0.400000     1.200000   -0.600000     1.400000\n",
       "2      rr    0.845162     0.234457    0.061225     0.237564\n",
       "3     knn    0.618170     0.232887   -0.342189     0.214369\n",
       "4     gpr    0.209078     0.700095    0.127807     0.227634\n",
       "5      dt    0.848682     0.167914   -0.010785     0.230402\n",
       "6      rf    0.879630     0.158508    0.261504     0.212435\n",
       "7     etr    0.889580     0.154486    0.039261     0.214084\n",
       "8     gbr    0.904771     0.141672    0.058790     0.221617\n",
       "9     xgb    0.836674     0.198839    0.134290     0.236240\n",
       "10    dnn    0.915252     0.224727   -0.075609     0.221345"
      ]
     },
     "execution_count": 6,
     "metadata": {},
     "output_type": "execute_result"
    }
   ],
   "source": [
    "df"
   ]
  },
  {
   "cell_type": "code",
   "execution_count": 7,
   "metadata": {},
   "outputs": [
    {
     "data": {
      "text/plain": [
       "0     svr\n",
       "1      lr\n",
       "2      rr\n",
       "3     knn\n",
       "4     gpr\n",
       "5      dt\n",
       "6      rf\n",
       "7     etr\n",
       "8     gbr\n",
       "9     xgb\n",
       "10    dnn\n",
       "Name: models, dtype: object"
      ]
     },
     "execution_count": 7,
     "metadata": {},
     "output_type": "execute_result"
    }
   ],
   "source": [
    "ls  = df['models']\n",
    "ls"
   ]
  },
  {
   "cell_type": "code",
   "execution_count": 8,
   "metadata": {},
   "outputs": [
    {
     "data": {
      "text/plain": [
       "numpy.float64"
      ]
     },
     "execution_count": 8,
     "metadata": {},
     "output_type": "execute_result"
    }
   ],
   "source": [
    "k = df.iloc[0]['r2_qsort_s']\n",
    "type(k)"
   ]
  },
  {
   "cell_type": "code",
   "execution_count": 9,
   "metadata": {},
   "outputs": [],
   "source": [
    "r2_qsort_s = []\n",
    "ape_qsort_s = []\n",
    "for i in range(11):\n",
    "    temp = df.iloc[i]['r2_qsort_s']\n",
    "    r2_qsort_s.append(temp)\n",
    "for i in range(11):\n",
    "    temp = df.iloc[i]['ape_qsort_s']\n",
    "    ape_qsort_s.append(temp)\n",
    "for i in range(11):\n",
    "    ape_qsort_s[i] = ape_qsort_s[i]*100"
   ]
  },
  {
   "cell_type": "code",
   "execution_count": 13,
   "metadata": {},
   "outputs": [
    {
     "data": {
      "text/plain": [
       "([16.334893,\n",
       "  120.0,\n",
       "  23.445695,\n",
       "  23.288742300000003,\n",
       "  70.009461,\n",
       "  16.791379,\n",
       "  15.850754,\n",
       "  15.448622,\n",
       "  14.167187,\n",
       "  19.883855,\n",
       "  22.4726887],\n",
       " 0     svr\n",
       " 1      lr\n",
       " 2      rr\n",
       " 3     knn\n",
       " 4     gpr\n",
       " 5      dt\n",
       " 6      rf\n",
       " 7     etr\n",
       " 8     gbr\n",
       " 9     xgb\n",
       " 10    dnn\n",
       " Name: models, dtype: object,\n",
       " 16.428359399999998)"
      ]
     },
     "execution_count": 13,
     "metadata": {},
     "output_type": "execute_result"
    }
   ],
   "source": [
    "ape_qsort_s, ls, np.mean(ape_qsort_s[5:10])"
   ]
  },
  {
   "cell_type": "code",
   "execution_count": 26,
   "metadata": {},
   "outputs": [
    {
     "name": "stdout",
     "output_type": "stream",
     "text": [
      "0.8881539758000001 15.718566999999998\n"
     ]
    }
   ],
   "source": [
    "main_index = [0,5,6,7,8]\n",
    "s_r2= 0\n",
    "s_ape = 0\n",
    "for i in main_index:\n",
    "    s_r2 = s_r2 + r2_qsort_s[i]\n",
    "for i in main_index:\n",
    "    s_ape = s_ape + ape_qsort_s[i]\n",
    "print(s_r2/5, s_ape/5)    "
   ]
  },
  {
   "cell_type": "code",
   "execution_count": 66,
   "metadata": {},
   "outputs": [
    {
     "name": "stderr",
     "output_type": "stream",
     "text": [
      "C:\\Users\\Rajat\\Anaconda3\\lib\\site-packages\\ipykernel_launcher.py:27: UserWarning: In Matplotlib 3.3 individual lines on a stem plot will be added as a LineCollection instead of individual lines. This significantly improves the performance of a stem plot. To remove this warning and switch to the new behaviour, set the \"use_line_collection\" keyword argument to True.\n",
      "C:\\Users\\Rajat\\Anaconda3\\lib\\site-packages\\ipykernel_launcher.py:36: UserWarning: In Matplotlib 3.3 individual lines on a stem plot will be added as a LineCollection instead of individual lines. This significantly improves the performance of a stem plot. To remove this warning and switch to the new behaviour, set the \"use_line_collection\" keyword argument to True.\n",
      "C:\\Users\\Rajat\\Anaconda3\\lib\\site-packages\\ipykernel_launcher.py:67: UserWarning: Matplotlib is currently using module://ipykernel.pylab.backend_inline, which is a non-GUI backend, so cannot show the figure.\n"
     ]
    },
    {
     "data": {
      "image/png": "[encoded data removed]",
      "text/plain": [
       "<Figure size 792x576 with 1 Axes>"
      ]
     },
     "metadata": {
      "needs_background": "light"
     },
     "output_type": "display_data"
    }
   ],
   "source": [
    "ls = ['svr', 'lr', 'rr', 'knn', 'gpr','dt','rf','etr',\n",
    "          'gbr', 'xgb','dnn']\n",
    "fig, ax = plt.subplots(1,1, figsize = (11, 8)) # create 2x2 array of subplots\n",
    "# color = 'tab:red'\n",
    "# y_r2 = r2_qsort_s\n",
    "y_mape = ape_qsort_s\n",
    "# px = ax.bar(ls,y_r2,color = 'mediumorchid', label = 'R2')\n",
    "# ax.legend(frameon=True, loc='upper left', prop={'size': 20})\n",
    "\n",
    "# ax[i,j].bar(ls, y,color = 'blue')\n",
    "# ax.set_xticklabels(ls, rotation = 90, fontsize = 35, fontweight = 'bold')\n",
    "\n",
    "# if j == 4:\n",
    "#    ax[i,j].set_ylabel('MedAPE score')\n",
    "# ax.set_title(dataset_names[cb[j]] + ' (' + dataset[cb[j]] + ')', fontsize = 25, fontweight = 'bold') \n",
    "# ax.set_ylim(-0.5,1.5)\n",
    "\n",
    "# ax.grid()\n",
    "\n",
    "ax_temp = ax\n",
    "\n",
    "# create data\n",
    "x = ls\n",
    "values = y_mape\n",
    "\n",
    "# stem function: first way\n",
    "ax_temp.stem(x, values)\n",
    "# plt.ylim(0, 1.2)\n",
    "#plt.show()\n",
    "\n",
    "# stem function: If no X provided, a sequence of numbers is created by python:\n",
    "# plt.stem(values)\n",
    "#plt.show()\n",
    "\n",
    "# stem function: second way\n",
    "(markerline, stemlines, baseline) = ax_temp.stem(x, values, linefmt='-*', markerfmt='bs', basefmt='k-',label='APE score')\n",
    "plt.setp(baseline, visible = False)\n",
    "plt.setp(stemlines, 'linewidth', 12)\n",
    "#plt.show()\n",
    "\n",
    "    \n",
    "    \n",
    "# ax_temp = ax.twinx()  # instantiate a second axes that shares the same x-axis\n",
    "# line2 = ax_temp.bar(ls,y_mape, color = 'mediumorchid',label='APE score') # add boxplot to 1st subplot\n",
    "# line, = ax.plot([1, 2, 3], label='Inline label')\n",
    "# ax_temp.legend(frameon= True, loc='upper right', prop={'size': 20})\n",
    "plt.title('Absolute Percentage Error', fontsize = 30, fontweight = 'bold')\n",
    "# ax_temp.boxplot(y_mape,labels = ls)\n",
    "# ax[i,j].bar(ls, y,color = 'blue')\n",
    "ax_temp.set_xticklabels(ls, rotation = 90, fontsize = 35, fontweight = 'bold')\n",
    "# ax_temp.set_yticklabels(fontsize = 15)\n",
    "ax_temp.ticklabel_format(style='sci', axis='y', scilimits=(0,0))\n",
    "# ax_temp.legend(['MedAPE score'])\n",
    "\n",
    "fig.tight_layout()  # otherwise the right y-label is slightly clipped\n",
    "ax_temp.set_ylim(0,50)\n",
    "\n",
    "# plt.show()\n",
    "# extent = ax.get_tightbbox(fig.canvas.get_renderer()).transformed(fig.dpi_scale_trans.inverted())\n",
    "# fig.savefig('cb_1.pdf', bbox_inches = extent)\n",
    "ax_temp.grid()\n",
    "name = 'transfer_learning_qsort_simulated'\n",
    "plt.rc('font', size=25)\n",
    "fig.savefig(name+ '.eps')\n",
    "\n",
    "\n",
    "fig.show()\n"
   ]
  },
  {
   "cell_type": "code",
   "execution_count": 16,
   "metadata": {},
   "outputs": [],
   "source": [
    "r2_qsort_p = []\n",
    "ape_qsort_p = []\n",
    "for i in range(11):\n",
    "    temp = df.iloc[i]['r2_qsort_p']\n",
    "    r2_qsort_p.append(temp)\n",
    "for i in range(11):\n",
    "    temp = df.iloc[i]['ape_qsort_p']\n",
    "    ape_qsort_p.append(temp)\n",
    "for i in range(11):\n",
    "    ape_qsort_p[i] = ape_qsort_p[i]*100"
   ]
  },
  {
   "cell_type": "code",
   "execution_count": 19,
   "metadata": {},
   "outputs": [
    {
     "data": {
      "text/plain": [
       "(0     svr\n",
       " 1      lr\n",
       " 2      rr\n",
       " 3     knn\n",
       " 4     gpr\n",
       " 5      dt\n",
       " 6      rf\n",
       " 7     etr\n",
       " 8     gbr\n",
       " 9     xgb\n",
       " 10    dnn\n",
       " Name: models, dtype: object,\n",
       " [22.4167473,\n",
       "  140.0,\n",
       "  23.756366,\n",
       "  21.436934,\n",
       "  22.763375999999997,\n",
       "  23.040182,\n",
       "  21.243521,\n",
       "  21.408400000000004,\n",
       "  22.161718999999998,\n",
       "  23.624029,\n",
       "  22.1345352],\n",
       " 22.295570200000004)"
      ]
     },
     "execution_count": 19,
     "metadata": {},
     "output_type": "execute_result"
    }
   ],
   "source": [
    "ls, ape_qsort_p, np.mean(ape_qsort_p[5:10])"
   ]
  },
  {
   "cell_type": "code",
   "execution_count": 67,
   "metadata": {},
   "outputs": [
    {
     "name": "stderr",
     "output_type": "stream",
     "text": [
      "C:\\Users\\Rajat\\Anaconda3\\lib\\site-packages\\ipykernel_launcher.py:27: UserWarning: In Matplotlib 3.3 individual lines on a stem plot will be added as a LineCollection instead of individual lines. This significantly improves the performance of a stem plot. To remove this warning and switch to the new behaviour, set the \"use_line_collection\" keyword argument to True.\n",
      "C:\\Users\\Rajat\\Anaconda3\\lib\\site-packages\\ipykernel_launcher.py:36: UserWarning: In Matplotlib 3.3 individual lines on a stem plot will be added as a LineCollection instead of individual lines. This significantly improves the performance of a stem plot. To remove this warning and switch to the new behaviour, set the \"use_line_collection\" keyword argument to True.\n",
      "C:\\Users\\Rajat\\Anaconda3\\lib\\site-packages\\ipykernel_launcher.py:67: UserWarning: Matplotlib is currently using module://ipykernel.pylab.backend_inline, which is a non-GUI backend, so cannot show the figure.\n"
     ]
    },
    {
     "data": {
      "image/png": "[encoded data removed]",
      "text/plain": [
       "<Figure size 792x576 with 1 Axes>"
      ]
     },
     "metadata": {
      "needs_background": "light"
     },
     "output_type": "display_data"
    }
   ],
   "source": [
    "ls = ['svr', 'lr', 'rr', 'knn', 'gpr','dt','rf','etr',\n",
    "          'gbr', 'xgb','dnn']\n",
    "fig, ax = plt.subplots(1,1, figsize = (11, 8)) # create 2x2 array of subplots\n",
    "# color = 'tab:red'\n",
    "# y_r2 = r2_qsort_s\n",
    "y_mape = ape_qsort_p\n",
    "# px = ax.bar(ls,y_r2,color = 'mediumorchid', label = 'R2')\n",
    "# ax.legend(frameon=True, loc='upper left', prop={'size': 20})\n",
    "\n",
    "# ax[i,j].bar(ls, y,color = 'blue')\n",
    "# ax.set_xticklabels(ls, rotation = 90, fontsize = 35, fontweight = 'bold')\n",
    "\n",
    "# if j == 4:\n",
    "#    ax[i,j].set_ylabel('MedAPE score')\n",
    "# ax.set_title(dataset_names[cb[j]] + ' (' + dataset[cb[j]] + ')', fontsize = 25, fontweight = 'bold') \n",
    "# ax.set_ylim(-0.5,1.5)\n",
    "\n",
    "# ax.grid()\n",
    "\n",
    "ax_temp = ax\n",
    "\n",
    "# create data\n",
    "x = ls\n",
    "values = y_mape\n",
    "\n",
    "# stem function: first way\n",
    "ax_temp.stem(x, values)\n",
    "# plt.ylim(0, 1.2)\n",
    "#plt.show()\n",
    "\n",
    "# stem function: If no X provided, a sequence of numbers is created by python:\n",
    "# plt.stem(values)\n",
    "#plt.show()\n",
    "\n",
    "# stem function: second way\n",
    "(markerline, stemlines, baseline) = ax_temp.stem(x, values, linefmt='-*', markerfmt='bs', basefmt='k-',label='APE score')\n",
    "plt.setp(baseline, visible = False)\n",
    "plt.setp(stemlines, 'linewidth', 12)\n",
    "#plt.show()\n",
    "\n",
    "    \n",
    "    \n",
    "# ax_temp = ax.twinx()  # instantiate a second axes that shares the same x-axis\n",
    "# line2 = ax_temp.bar(ls,y_mape, color = 'mediumorchid',label='APE score') # add boxplot to 1st subplot\n",
    "# line, = ax.plot([1, 2, 3], label='Inline label')\n",
    "# ax_temp.legend(frameon= True, loc='upper right', prop={'size': 20})\n",
    "plt.title('Absolute Percentage Error', fontsize = 30, fontweight = 'bold')\n",
    "# ax_temp.boxplot(y_mape,labels = ls)\n",
    "# ax[i,j].bar(ls, y,color = 'blue')\n",
    "ax_temp.set_xticklabels(ls, rotation = 90, fontsize = 35, fontweight = 'bold')\n",
    "# ax_temp.set_yticklabels(fontsize = 15)\n",
    "ax_temp.ticklabel_format(style='sci', axis='y', scilimits=(0,0))\n",
    "# ax_temp.legend(['MedAPE score'])\n",
    "\n",
    "fig.tight_layout()  # otherwise the right y-label is slightly clipped\n",
    "ax_temp.set_ylim(0,50)\n",
    "\n",
    "# plt.show()\n",
    "# extent = ax.get_tightbbox(fig.canvas.get_renderer()).transformed(fig.dpi_scale_trans.inverted())\n",
    "# fig.savefig('cb_1.pdf', bbox_inches = extent)\n",
    "ax_temp.grid()\n",
    "name = 'transfer_learning_qsort_physical'\n",
    "plt.rc('font', size=25)\n",
    "fig.savefig(name+ '.eps')\n",
    "\n",
    "\n",
    "fig.show()\n"
   ]
  },
  {
   "cell_type": "code",
   "execution_count": null,
   "metadata": {},
   "outputs": [],
   "source": []
  }
 ],
 "metadata": {
  "kernelspec": {
   "display_name": "Python 3",
   "language": "python",
   "name": "python3"
  },
  "language_info": {
   "codemirror_mode": {
    "name": "ipython",
    "version": 3
   },
   "file_extension": ".py",
   "mimetype": "text/x-python",
   "name": "python",
   "nbconvert_exporter": "python",
   "pygments_lexer": "ipython3",
   "version": "3.7.3"
  }
 },
 "nbformat": 4,
 "nbformat_minor": 2
}
