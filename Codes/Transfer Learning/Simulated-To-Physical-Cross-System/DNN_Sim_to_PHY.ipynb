{
 "cells": [
  {
   "cell_type": "code",
   "execution_count": 0,
   "metadata": {
    "colab": {},
    "colab_type": "code",
    "id": "B20-BaAfPY7y"
   },
   "outputs": [],
   "source": [
    "from sklearn.preprocessing import StandardScaler\n",
    "from sklearn.preprocessing import MinMaxScaler\n",
    "from sklearn.model_selection import train_test_split\n",
    "from sklearn.metrics import mean_squared_error, r2_score\n",
    "from sklearn.metrics import mean_absolute_error\n",
    "from sklearn.model_selection import GridSearchCV \n",
    "from sklearn.model_selection import KFold\n",
    "from sklearn.metrics import accuracy_score\n",
    "from keras.layers import Dense, Dropout\n",
    "from keras.models import Sequential\n",
    "from keras.optimizers import SGD\n",
    "from matplotlib import pyplot as plt\n",
    "import matplotlib as mpl\n",
    "import seaborn as sns\n",
    "import numpy as np\n",
    "import pandas as pd\n",
    "import category_encoders as ce\n",
    "import os\n",
    "import pickle\n",
    "import gc\n",
    "from tqdm import tqdm\n",
    "from sklearn.model_selection import ShuffleSplit\n",
    "from sklearn.svm import SVR\n",
    "from sklearn.linear_model import LinearRegression\n",
    "from sklearn import linear_model\n",
    "from sklearn.neighbors import KNeighborsRegressor\n",
    "from sklearn.gaussian_process import GaussianProcessRegressor\n",
    "from sklearn.tree import DecisionTreeRegressor\n",
    "from sklearn.ensemble import RandomForestRegressor\n",
    "from sklearn.ensemble import ExtraTreesRegressor\n",
    "from sklearn import ensemble\n",
    "import xgboost as xgb\n",
    "from numpy import loadtxt\n",
    "from keras.utils.vis_utils import plot_model\n",
    "import pydot"
   ]
  },
  {
   "cell_type": "code",
   "execution_count": 3,
   "metadata": {
    "colab": {
     "base_uri": "https://localhost:8080/",
     "height": 292
    },
    "colab_type": "code",
    "id": "DCM-6XSaPlnW",
    "outputId": "1f8357e4-4c40-4484-e307-137813c28b40"
   },
   "outputs": [
    {
     "name": "stdout",
     "output_type": "stream",
     "text": [
      "Collecting category_encoders\n",
      "\u001b[?25l  Downloading https://files.pythonhosted.org/packages/a0/52/c54191ad3782de633ea3d6ee3bb2837bda0cf3bc97644bb6375cf14150a0/category_encoders-2.1.0-py2.py3-none-any.whl (100kB)\n",
      "\r",
      "\u001b[K     |███▎                            | 10kB 29.5MB/s eta 0:00:01\r",
      "\u001b[K     |██████▌                         | 20kB 1.7MB/s eta 0:00:01\r",
      "\u001b[K     |█████████▉                      | 30kB 2.5MB/s eta 0:00:01\r",
      "\u001b[K     |█████████████                   | 40kB 1.7MB/s eta 0:00:01\r",
      "\u001b[K     |████████████████▍               | 51kB 2.1MB/s eta 0:00:01\r",
      "\u001b[K     |███████████████████▋            | 61kB 2.5MB/s eta 0:00:01\r",
      "\u001b[K     |██████████████████████▉         | 71kB 2.9MB/s eta 0:00:01\r",
      "\u001b[K     |██████████████████████████▏     | 81kB 3.3MB/s eta 0:00:01\r",
      "\u001b[K     |█████████████████████████████▍  | 92kB 3.7MB/s eta 0:00:01\r",
      "\u001b[K     |████████████████████████████████| 102kB 2.4MB/s \n",
      "\u001b[?25hRequirement already satisfied: numpy>=1.11.3 in /usr/local/lib/python3.6/dist-packages (from category_encoders) (1.18.2)\n",
      "Requirement already satisfied: scipy>=0.19.0 in /usr/local/lib/python3.6/dist-packages (from category_encoders) (1.4.1)\n",
      "Requirement already satisfied: pandas>=0.21.1 in /usr/local/lib/python3.6/dist-packages (from category_encoders) (0.25.3)\n",
      "Requirement already satisfied: statsmodels>=0.6.1 in /usr/local/lib/python3.6/dist-packages (from category_encoders) (0.10.2)\n",
      "Requirement already satisfied: patsy>=0.4.1 in /usr/local/lib/python3.6/dist-packages (from category_encoders) (0.5.1)\n",
      "Requirement already satisfied: scikit-learn>=0.20.0 in /usr/local/lib/python3.6/dist-packages (from category_encoders) (0.22.2.post1)\n",
      "Requirement already satisfied: python-dateutil>=2.6.1 in /usr/local/lib/python3.6/dist-packages (from pandas>=0.21.1->category_encoders) (2.8.1)\n",
      "Requirement already satisfied: pytz>=2017.2 in /usr/local/lib/python3.6/dist-packages (from pandas>=0.21.1->category_encoders) (2018.9)\n",
      "Requirement already satisfied: six in /usr/local/lib/python3.6/dist-packages (from patsy>=0.4.1->category_encoders) (1.12.0)\n",
      "Requirement already satisfied: joblib>=0.11 in /usr/local/lib/python3.6/dist-packages (from scikit-learn>=0.20.0->category_encoders) (0.14.1)\n",
      "Installing collected packages: category-encoders\n",
      "Successfully installed category-encoders-2.1.0\n"
     ]
    }
   ],
   "source": [
    "pip install category_encoders"
   ]
  },
  {
   "cell_type": "code",
   "execution_count": 0,
   "metadata": {
    "colab": {},
    "colab_type": "code",
    "id": "IoISvsWDPY8P"
   },
   "outputs": [],
   "source": [
    "def encode_text_features(encode_decode, data_frame, encoder_isa=None, encoder_mem_type=None):\n",
    "    # Implement Categorical OneHot encoding for ISA and mem-type\n",
    "    if encode_decode == 'encode':\n",
    "        encoder_isa = ce.one_hot.OneHotEncoder(cols=['isa'])\n",
    "        encoder_mem_type = ce.one_hot.OneHotEncoder(cols=['mem-type'])\n",
    "        encoder_isa.fit(data_frame, verbose=1)\n",
    "        df_new1 = encoder_isa.transform(data_frame)\n",
    "        encoder_mem_type.fit(df_new1, verbose=1)\n",
    "        df_new = encoder_mem_type.transform(df_new1)\n",
    "        encoded_data_frame = df_new\n",
    "    else:\n",
    "        df_new1 = encoder_isa.transform(data_frame)\n",
    "        df_new = encoder_mem_type.transform(df_new1)\n",
    "        encoded_data_frame = df_new\n",
    "        \n",
    "    return encoded_data_frame, encoder_isa, encoder_mem_type"
   ]
  },
  {
   "cell_type": "code",
   "execution_count": 0,
   "metadata": {
    "colab": {},
    "colab_type": "code",
    "id": "Sq7T5i17PY8b"
   },
   "outputs": [],
   "source": [
    "all_datasets = '\\\\Dataset_CSV\\\\all_datasets\\\\'\n",
    "df = pd.read_csv('sha_simulated.csv')\n",
    "dfn = pd.read_csv( 'sha_physical.csv')"
   ]
  },
  {
   "cell_type": "code",
   "execution_count": 57,
   "metadata": {
    "colab": {
     "base_uri": "https://localhost:8080/",
     "height": 241
    },
    "colab_type": "code",
    "id": "SGDXIFQDPY8n",
    "outputId": "9bbd59b0-fadc-48d2-8e2a-541f4c6b2b96"
   },
   "outputs": [
    {
     "data": {
      "text/html": [
       "<div>\n",
       "<style scoped>\n",
       "    .dataframe tbody tr th:only-of-type {\n",
       "        vertical-align: middle;\n",
       "    }\n",
       "\n",
       "    .dataframe tbody tr th {\n",
       "        vertical-align: top;\n",
       "    }\n",
       "\n",
       "    .dataframe thead th {\n",
       "        text-align: right;\n",
       "    }\n",
       "</style>\n",
       "<table border=\"1\" class=\"dataframe\">\n",
       "  <thead>\n",
       "    <tr style=\"text-align: right;\">\n",
       "      <th></th>\n",
       "      <th>arch</th>\n",
       "      <th>cpu-clock</th>\n",
       "      <th>isa</th>\n",
       "      <th>l1d_assoc</th>\n",
       "      <th>l1d_cache_lines</th>\n",
       "      <th>l1d_shared_by_threads</th>\n",
       "      <th>l1d_size</th>\n",
       "      <th>l2_assoc</th>\n",
       "      <th>l2_cache_lines</th>\n",
       "      <th>l2_shared_by_threads</th>\n",
       "      <th>l2_size</th>\n",
       "      <th>l3_assoc</th>\n",
       "      <th>l3_cache_lines</th>\n",
       "      <th>l3_shared_by_threads</th>\n",
       "      <th>l3_size</th>\n",
       "      <th>mem-size</th>\n",
       "      <th>mem-type</th>\n",
       "      <th>mem_clock</th>\n",
       "      <th>num-cpus</th>\n",
       "      <th>runtime</th>\n",
       "    </tr>\n",
       "  </thead>\n",
       "  <tbody>\n",
       "    <tr>\n",
       "      <th>0</th>\n",
       "      <td>IntelCorei97900X_DDR42666_2GB</td>\n",
       "      <td>3.3</td>\n",
       "      <td>X86_64</td>\n",
       "      <td>8</td>\n",
       "      <td>64</td>\n",
       "      <td>1</td>\n",
       "      <td>32</td>\n",
       "      <td>16</td>\n",
       "      <td>64</td>\n",
       "      <td>1</td>\n",
       "      <td>1024</td>\n",
       "      <td>16</td>\n",
       "      <td>64</td>\n",
       "      <td>10</td>\n",
       "      <td>16</td>\n",
       "      <td>2</td>\n",
       "      <td>DDR4</td>\n",
       "      <td>2666</td>\n",
       "      <td>10</td>\n",
       "      <td>20380</td>\n",
       "    </tr>\n",
       "    <tr>\n",
       "      <th>1</th>\n",
       "      <td>IntelCorei97900X_DDR42666_3GB</td>\n",
       "      <td>3.3</td>\n",
       "      <td>X86_64</td>\n",
       "      <td>8</td>\n",
       "      <td>64</td>\n",
       "      <td>1</td>\n",
       "      <td>32</td>\n",
       "      <td>16</td>\n",
       "      <td>64</td>\n",
       "      <td>1</td>\n",
       "      <td>1024</td>\n",
       "      <td>16</td>\n",
       "      <td>64</td>\n",
       "      <td>10</td>\n",
       "      <td>16</td>\n",
       "      <td>3</td>\n",
       "      <td>DDR4</td>\n",
       "      <td>2666</td>\n",
       "      <td>10</td>\n",
       "      <td>20380</td>\n",
       "    </tr>\n",
       "    <tr>\n",
       "      <th>2</th>\n",
       "      <td>IntelCorei97900X_DDR42666_4GB</td>\n",
       "      <td>3.3</td>\n",
       "      <td>X86_64</td>\n",
       "      <td>8</td>\n",
       "      <td>64</td>\n",
       "      <td>1</td>\n",
       "      <td>32</td>\n",
       "      <td>16</td>\n",
       "      <td>64</td>\n",
       "      <td>1</td>\n",
       "      <td>1024</td>\n",
       "      <td>16</td>\n",
       "      <td>64</td>\n",
       "      <td>10</td>\n",
       "      <td>16</td>\n",
       "      <td>4</td>\n",
       "      <td>DDR4</td>\n",
       "      <td>2666</td>\n",
       "      <td>10</td>\n",
       "      <td>20380</td>\n",
       "    </tr>\n",
       "    <tr>\n",
       "      <th>3</th>\n",
       "      <td>IntelCorei97900X_DDR42666_6GB</td>\n",
       "      <td>3.3</td>\n",
       "      <td>X86_64</td>\n",
       "      <td>8</td>\n",
       "      <td>64</td>\n",
       "      <td>1</td>\n",
       "      <td>32</td>\n",
       "      <td>16</td>\n",
       "      <td>64</td>\n",
       "      <td>1</td>\n",
       "      <td>1024</td>\n",
       "      <td>16</td>\n",
       "      <td>64</td>\n",
       "      <td>10</td>\n",
       "      <td>16</td>\n",
       "      <td>6</td>\n",
       "      <td>DDR4</td>\n",
       "      <td>2666</td>\n",
       "      <td>10</td>\n",
       "      <td>20380</td>\n",
       "    </tr>\n",
       "    <tr>\n",
       "      <th>4</th>\n",
       "      <td>IntelCorei97900X_DDR42666_7GB</td>\n",
       "      <td>3.3</td>\n",
       "      <td>X86_64</td>\n",
       "      <td>8</td>\n",
       "      <td>64</td>\n",
       "      <td>1</td>\n",
       "      <td>32</td>\n",
       "      <td>16</td>\n",
       "      <td>64</td>\n",
       "      <td>1</td>\n",
       "      <td>1024</td>\n",
       "      <td>16</td>\n",
       "      <td>64</td>\n",
       "      <td>10</td>\n",
       "      <td>16</td>\n",
       "      <td>7</td>\n",
       "      <td>DDR4</td>\n",
       "      <td>2666</td>\n",
       "      <td>10</td>\n",
       "      <td>20380</td>\n",
       "    </tr>\n",
       "  </tbody>\n",
       "</table>\n",
       "</div>"
      ],
      "text/plain": [
       "                            arch  cpu-clock  ... num-cpus  runtime\n",
       "0  IntelCorei97900X_DDR42666_2GB        3.3  ...       10    20380\n",
       "1  IntelCorei97900X_DDR42666_3GB        3.3  ...       10    20380\n",
       "2  IntelCorei97900X_DDR42666_4GB        3.3  ...       10    20380\n",
       "3  IntelCorei97900X_DDR42666_6GB        3.3  ...       10    20380\n",
       "4  IntelCorei97900X_DDR42666_7GB        3.3  ...       10    20380\n",
       "\n",
       "[5 rows x 20 columns]"
      ]
     },
     "execution_count": 57,
     "metadata": {
      "tags": []
     },
     "output_type": "execute_result"
    }
   ],
   "source": [
    "df.head()"
   ]
  },
  {
   "cell_type": "code",
   "execution_count": 58,
   "metadata": {
    "colab": {
     "base_uri": "https://localhost:8080/",
     "height": 241
    },
    "colab_type": "code",
    "id": "aATDyN0fPY9l",
    "outputId": "e143052c-72ab-48c2-8b1d-e9643f3ab6f7"
   },
   "outputs": [
    {
     "data": {
      "text/html": [
       "<div>\n",
       "<style scoped>\n",
       "    .dataframe tbody tr th:only-of-type {\n",
       "        vertical-align: middle;\n",
       "    }\n",
       "\n",
       "    .dataframe tbody tr th {\n",
       "        vertical-align: top;\n",
       "    }\n",
       "\n",
       "    .dataframe thead th {\n",
       "        text-align: right;\n",
       "    }\n",
       "</style>\n",
       "<table border=\"1\" class=\"dataframe\">\n",
       "  <thead>\n",
       "    <tr style=\"text-align: right;\">\n",
       "      <th></th>\n",
       "      <th>arch</th>\n",
       "      <th>cpu-clock</th>\n",
       "      <th>isa</th>\n",
       "      <th>l1d_assoc</th>\n",
       "      <th>l1d_cache_lines</th>\n",
       "      <th>l1d_shared_by_threads</th>\n",
       "      <th>l1d_size</th>\n",
       "      <th>l2_assoc</th>\n",
       "      <th>l2_cache_lines</th>\n",
       "      <th>l2_shared_by_threads</th>\n",
       "      <th>l2_size</th>\n",
       "      <th>l3_assoc</th>\n",
       "      <th>l3_cache_lines</th>\n",
       "      <th>l3_shared_by_threads</th>\n",
       "      <th>l3_size</th>\n",
       "      <th>mem-size</th>\n",
       "      <th>mem-type</th>\n",
       "      <th>mem_clock</th>\n",
       "      <th>bus_speed</th>\n",
       "      <th>num-cpus</th>\n",
       "      <th>runtime</th>\n",
       "    </tr>\n",
       "  </thead>\n",
       "  <tbody>\n",
       "    <tr>\n",
       "      <th>0</th>\n",
       "      <td>InteCorei78700_DDR42666_16GB</td>\n",
       "      <td>3.168</td>\n",
       "      <td>X86_64</td>\n",
       "      <td>8</td>\n",
       "      <td>64</td>\n",
       "      <td>1</td>\n",
       "      <td>32</td>\n",
       "      <td>4</td>\n",
       "      <td>64</td>\n",
       "      <td>1</td>\n",
       "      <td>256</td>\n",
       "      <td>16</td>\n",
       "      <td>64</td>\n",
       "      <td>6</td>\n",
       "      <td>12288</td>\n",
       "      <td>16</td>\n",
       "      <td>DDR4</td>\n",
       "      <td>2666</td>\n",
       "      <td>4096</td>\n",
       "      <td>1</td>\n",
       "      <td>15577.5596</td>\n",
       "    </tr>\n",
       "    <tr>\n",
       "      <th>1</th>\n",
       "      <td>InteCorei78700_DDR42666_16GB</td>\n",
       "      <td>3.168</td>\n",
       "      <td>X86_64</td>\n",
       "      <td>8</td>\n",
       "      <td>64</td>\n",
       "      <td>1</td>\n",
       "      <td>32</td>\n",
       "      <td>4</td>\n",
       "      <td>64</td>\n",
       "      <td>1</td>\n",
       "      <td>256</td>\n",
       "      <td>16</td>\n",
       "      <td>64</td>\n",
       "      <td>6</td>\n",
       "      <td>12288</td>\n",
       "      <td>16</td>\n",
       "      <td>DDR4</td>\n",
       "      <td>2666</td>\n",
       "      <td>4096</td>\n",
       "      <td>10</td>\n",
       "      <td>15415.2836</td>\n",
       "    </tr>\n",
       "    <tr>\n",
       "      <th>2</th>\n",
       "      <td>InteCorei78700_DDR42666_16GB</td>\n",
       "      <td>3.168</td>\n",
       "      <td>X86_64</td>\n",
       "      <td>8</td>\n",
       "      <td>64</td>\n",
       "      <td>1</td>\n",
       "      <td>32</td>\n",
       "      <td>4</td>\n",
       "      <td>64</td>\n",
       "      <td>1</td>\n",
       "      <td>256</td>\n",
       "      <td>16</td>\n",
       "      <td>64</td>\n",
       "      <td>6</td>\n",
       "      <td>12288</td>\n",
       "      <td>16</td>\n",
       "      <td>DDR4</td>\n",
       "      <td>2666</td>\n",
       "      <td>4096</td>\n",
       "      <td>11</td>\n",
       "      <td>15420.6975</td>\n",
       "    </tr>\n",
       "    <tr>\n",
       "      <th>3</th>\n",
       "      <td>InteCorei78700_DDR42666_16GB</td>\n",
       "      <td>3.168</td>\n",
       "      <td>X86_64</td>\n",
       "      <td>8</td>\n",
       "      <td>64</td>\n",
       "      <td>1</td>\n",
       "      <td>32</td>\n",
       "      <td>4</td>\n",
       "      <td>64</td>\n",
       "      <td>1</td>\n",
       "      <td>256</td>\n",
       "      <td>16</td>\n",
       "      <td>64</td>\n",
       "      <td>6</td>\n",
       "      <td>12288</td>\n",
       "      <td>16</td>\n",
       "      <td>DDR4</td>\n",
       "      <td>2666</td>\n",
       "      <td>4096</td>\n",
       "      <td>12</td>\n",
       "      <td>15477.0441</td>\n",
       "    </tr>\n",
       "    <tr>\n",
       "      <th>4</th>\n",
       "      <td>InteCorei78700_DDR42666_16GB</td>\n",
       "      <td>3.168</td>\n",
       "      <td>X86_64</td>\n",
       "      <td>8</td>\n",
       "      <td>64</td>\n",
       "      <td>1</td>\n",
       "      <td>32</td>\n",
       "      <td>4</td>\n",
       "      <td>64</td>\n",
       "      <td>1</td>\n",
       "      <td>256</td>\n",
       "      <td>16</td>\n",
       "      <td>64</td>\n",
       "      <td>6</td>\n",
       "      <td>12288</td>\n",
       "      <td>16</td>\n",
       "      <td>DDR4</td>\n",
       "      <td>2666</td>\n",
       "      <td>4096</td>\n",
       "      <td>2</td>\n",
       "      <td>15895.5527</td>\n",
       "    </tr>\n",
       "  </tbody>\n",
       "</table>\n",
       "</div>"
      ],
      "text/plain": [
       "                           arch  cpu-clock  ... num-cpus     runtime\n",
       "0  InteCorei78700_DDR42666_16GB      3.168  ...        1  15577.5596\n",
       "1  InteCorei78700_DDR42666_16GB      3.168  ...       10  15415.2836\n",
       "2  InteCorei78700_DDR42666_16GB      3.168  ...       11  15420.6975\n",
       "3  InteCorei78700_DDR42666_16GB      3.168  ...       12  15477.0441\n",
       "4  InteCorei78700_DDR42666_16GB      3.168  ...        2  15895.5527\n",
       "\n",
       "[5 rows x 21 columns]"
      ]
     },
     "execution_count": 58,
     "metadata": {
      "tags": []
     },
     "output_type": "execute_result"
    }
   ],
   "source": [
    "dfn.head()"
   ]
  },
  {
   "cell_type": "code",
   "execution_count": 59,
   "metadata": {
    "colab": {
     "base_uri": "https://localhost:8080/",
     "height": 255
    },
    "colab_type": "code",
    "id": "24Pvfj2GPY9z",
    "outputId": "6a5558e9-525b-4e63-f4b6-1073563eb59a"
   },
   "outputs": [
    {
     "data": {
      "text/plain": [
       "(Index(['arch', 'cpu-clock', 'isa', 'l1d_assoc', 'l1d_cache_lines',\n",
       "        'l1d_shared_by_threads', 'l1d_size', 'l2_assoc', 'l2_cache_lines',\n",
       "        'l2_shared_by_threads', 'l2_size', 'l3_assoc', 'l3_cache_lines',\n",
       "        'l3_shared_by_threads', 'l3_size', 'mem-size', 'mem-type', 'mem_clock',\n",
       "        'num-cpus', 'runtime'],\n",
       "       dtype='object'),\n",
       " 20,\n",
       " Index(['arch', 'cpu-clock', 'isa', 'l1d_assoc', 'l1d_cache_lines',\n",
       "        'l1d_shared_by_threads', 'l1d_size', 'l2_assoc', 'l2_cache_lines',\n",
       "        'l2_shared_by_threads', 'l2_size', 'l3_assoc', 'l3_cache_lines',\n",
       "        'l3_shared_by_threads', 'l3_size', 'mem-size', 'mem-type', 'mem_clock',\n",
       "        'bus_speed', 'num-cpus', 'runtime'],\n",
       "       dtype='object'),\n",
       " 21)"
      ]
     },
     "execution_count": 59,
     "metadata": {
      "tags": []
     },
     "output_type": "execute_result"
    }
   ],
   "source": [
    "df.columns, len(df.columns), dfn.columns, len(dfn.columns) # bus-speed is extra in physical"
   ]
  },
  {
   "cell_type": "code",
   "execution_count": 60,
   "metadata": {
    "colab": {
     "base_uri": "https://localhost:8080/",
     "height": 34
    },
    "colab_type": "code",
    "id": "VEbKBnGIPY9_",
    "outputId": "8d5dc011-134a-4669-d767-bf01bdbcecaa"
   },
   "outputs": [
    {
     "data": {
      "text/plain": [
       "(475, 52)"
      ]
     },
     "execution_count": 60,
     "metadata": {
      "tags": []
     },
     "output_type": "execute_result"
    }
   ],
   "source": [
    "len(df),len(dfn)"
   ]
  },
  {
   "cell_type": "code",
   "execution_count": 0,
   "metadata": {
    "colab": {},
    "colab_type": "code",
    "id": "NdUy29hmPY-F"
   },
   "outputs": [],
   "source": [
    "encoded_data_frame, encoder_isa, encoder_mem_type = encode_text_features('encode', df, encoder_isa = None, encoder_mem_type=None)"
   ]
  },
  {
   "cell_type": "code",
   "execution_count": 0,
   "metadata": {
    "colab": {},
    "colab_type": "code",
    "id": "w9OfqWqhPY-L"
   },
   "outputs": [],
   "source": [
    "encoded_data_frame_n, encoder_isa_n, encoder_mem_type_n = encode_text_features('encode', dfn, encoder_isa = None, encoder_mem_type=None)"
   ]
  },
  {
   "cell_type": "code",
   "execution_count": 63,
   "metadata": {
    "colab": {
     "base_uri": "https://localhost:8080/",
     "height": 241
    },
    "colab_type": "code",
    "id": "vV0ZAkEEPY-T",
    "outputId": "423e1cbc-6301-4215-d298-e5d6bd5a5d2d"
   },
   "outputs": [
    {
     "data": {
      "text/html": [
       "<div>\n",
       "<style scoped>\n",
       "    .dataframe tbody tr th:only-of-type {\n",
       "        vertical-align: middle;\n",
       "    }\n",
       "\n",
       "    .dataframe tbody tr th {\n",
       "        vertical-align: top;\n",
       "    }\n",
       "\n",
       "    .dataframe thead th {\n",
       "        text-align: right;\n",
       "    }\n",
       "</style>\n",
       "<table border=\"1\" class=\"dataframe\">\n",
       "  <thead>\n",
       "    <tr style=\"text-align: right;\">\n",
       "      <th></th>\n",
       "      <th>arch</th>\n",
       "      <th>cpu-clock</th>\n",
       "      <th>isa_1</th>\n",
       "      <th>isa_2</th>\n",
       "      <th>l1d_assoc</th>\n",
       "      <th>l1d_cache_lines</th>\n",
       "      <th>l1d_shared_by_threads</th>\n",
       "      <th>l1d_size</th>\n",
       "      <th>l2_assoc</th>\n",
       "      <th>l2_cache_lines</th>\n",
       "      <th>l2_shared_by_threads</th>\n",
       "      <th>l2_size</th>\n",
       "      <th>l3_assoc</th>\n",
       "      <th>l3_cache_lines</th>\n",
       "      <th>l3_shared_by_threads</th>\n",
       "      <th>l3_size</th>\n",
       "      <th>mem-size</th>\n",
       "      <th>mem-type_1</th>\n",
       "      <th>mem-type_2</th>\n",
       "      <th>mem-type_3</th>\n",
       "      <th>mem-type_4</th>\n",
       "      <th>mem_clock</th>\n",
       "      <th>num-cpus</th>\n",
       "      <th>runtime</th>\n",
       "    </tr>\n",
       "  </thead>\n",
       "  <tbody>\n",
       "    <tr>\n",
       "      <th>0</th>\n",
       "      <td>IntelCorei97900X_DDR42666_2GB</td>\n",
       "      <td>3.3</td>\n",
       "      <td>1</td>\n",
       "      <td>0</td>\n",
       "      <td>8</td>\n",
       "      <td>64</td>\n",
       "      <td>1</td>\n",
       "      <td>32</td>\n",
       "      <td>16</td>\n",
       "      <td>64</td>\n",
       "      <td>1</td>\n",
       "      <td>1024</td>\n",
       "      <td>16</td>\n",
       "      <td>64</td>\n",
       "      <td>10</td>\n",
       "      <td>16</td>\n",
       "      <td>2</td>\n",
       "      <td>1</td>\n",
       "      <td>0</td>\n",
       "      <td>0</td>\n",
       "      <td>0</td>\n",
       "      <td>2666</td>\n",
       "      <td>10</td>\n",
       "      <td>20380</td>\n",
       "    </tr>\n",
       "    <tr>\n",
       "      <th>1</th>\n",
       "      <td>IntelCorei97900X_DDR42666_3GB</td>\n",
       "      <td>3.3</td>\n",
       "      <td>1</td>\n",
       "      <td>0</td>\n",
       "      <td>8</td>\n",
       "      <td>64</td>\n",
       "      <td>1</td>\n",
       "      <td>32</td>\n",
       "      <td>16</td>\n",
       "      <td>64</td>\n",
       "      <td>1</td>\n",
       "      <td>1024</td>\n",
       "      <td>16</td>\n",
       "      <td>64</td>\n",
       "      <td>10</td>\n",
       "      <td>16</td>\n",
       "      <td>3</td>\n",
       "      <td>1</td>\n",
       "      <td>0</td>\n",
       "      <td>0</td>\n",
       "      <td>0</td>\n",
       "      <td>2666</td>\n",
       "      <td>10</td>\n",
       "      <td>20380</td>\n",
       "    </tr>\n",
       "    <tr>\n",
       "      <th>2</th>\n",
       "      <td>IntelCorei97900X_DDR42666_4GB</td>\n",
       "      <td>3.3</td>\n",
       "      <td>1</td>\n",
       "      <td>0</td>\n",
       "      <td>8</td>\n",
       "      <td>64</td>\n",
       "      <td>1</td>\n",
       "      <td>32</td>\n",
       "      <td>16</td>\n",
       "      <td>64</td>\n",
       "      <td>1</td>\n",
       "      <td>1024</td>\n",
       "      <td>16</td>\n",
       "      <td>64</td>\n",
       "      <td>10</td>\n",
       "      <td>16</td>\n",
       "      <td>4</td>\n",
       "      <td>1</td>\n",
       "      <td>0</td>\n",
       "      <td>0</td>\n",
       "      <td>0</td>\n",
       "      <td>2666</td>\n",
       "      <td>10</td>\n",
       "      <td>20380</td>\n",
       "    </tr>\n",
       "    <tr>\n",
       "      <th>3</th>\n",
       "      <td>IntelCorei97900X_DDR42666_6GB</td>\n",
       "      <td>3.3</td>\n",
       "      <td>1</td>\n",
       "      <td>0</td>\n",
       "      <td>8</td>\n",
       "      <td>64</td>\n",
       "      <td>1</td>\n",
       "      <td>32</td>\n",
       "      <td>16</td>\n",
       "      <td>64</td>\n",
       "      <td>1</td>\n",
       "      <td>1024</td>\n",
       "      <td>16</td>\n",
       "      <td>64</td>\n",
       "      <td>10</td>\n",
       "      <td>16</td>\n",
       "      <td>6</td>\n",
       "      <td>1</td>\n",
       "      <td>0</td>\n",
       "      <td>0</td>\n",
       "      <td>0</td>\n",
       "      <td>2666</td>\n",
       "      <td>10</td>\n",
       "      <td>20380</td>\n",
       "    </tr>\n",
       "    <tr>\n",
       "      <th>4</th>\n",
       "      <td>IntelCorei97900X_DDR42666_7GB</td>\n",
       "      <td>3.3</td>\n",
       "      <td>1</td>\n",
       "      <td>0</td>\n",
       "      <td>8</td>\n",
       "      <td>64</td>\n",
       "      <td>1</td>\n",
       "      <td>32</td>\n",
       "      <td>16</td>\n",
       "      <td>64</td>\n",
       "      <td>1</td>\n",
       "      <td>1024</td>\n",
       "      <td>16</td>\n",
       "      <td>64</td>\n",
       "      <td>10</td>\n",
       "      <td>16</td>\n",
       "      <td>7</td>\n",
       "      <td>1</td>\n",
       "      <td>0</td>\n",
       "      <td>0</td>\n",
       "      <td>0</td>\n",
       "      <td>2666</td>\n",
       "      <td>10</td>\n",
       "      <td>20380</td>\n",
       "    </tr>\n",
       "  </tbody>\n",
       "</table>\n",
       "</div>"
      ],
      "text/plain": [
       "                            arch  cpu-clock  ...  num-cpus  runtime\n",
       "0  IntelCorei97900X_DDR42666_2GB        3.3  ...        10    20380\n",
       "1  IntelCorei97900X_DDR42666_3GB        3.3  ...        10    20380\n",
       "2  IntelCorei97900X_DDR42666_4GB        3.3  ...        10    20380\n",
       "3  IntelCorei97900X_DDR42666_6GB        3.3  ...        10    20380\n",
       "4  IntelCorei97900X_DDR42666_7GB        3.3  ...        10    20380\n",
       "\n",
       "[5 rows x 24 columns]"
      ]
     },
     "execution_count": 63,
     "metadata": {
      "tags": []
     },
     "output_type": "execute_result"
    }
   ],
   "source": [
    "encoded_data_frame.head()"
   ]
  },
  {
   "cell_type": "code",
   "execution_count": 64,
   "metadata": {
    "colab": {
     "base_uri": "https://localhost:8080/",
     "height": 241
    },
    "colab_type": "code",
    "id": "jV5-CA2OPY-Z",
    "outputId": "8acdc320-442d-48de-cba1-653a70a595d6"
   },
   "outputs": [
    {
     "data": {
      "text/html": [
       "<div>\n",
       "<style scoped>\n",
       "    .dataframe tbody tr th:only-of-type {\n",
       "        vertical-align: middle;\n",
       "    }\n",
       "\n",
       "    .dataframe tbody tr th {\n",
       "        vertical-align: top;\n",
       "    }\n",
       "\n",
       "    .dataframe thead th {\n",
       "        text-align: right;\n",
       "    }\n",
       "</style>\n",
       "<table border=\"1\" class=\"dataframe\">\n",
       "  <thead>\n",
       "    <tr style=\"text-align: right;\">\n",
       "      <th></th>\n",
       "      <th>arch</th>\n",
       "      <th>cpu-clock</th>\n",
       "      <th>isa_1</th>\n",
       "      <th>l1d_assoc</th>\n",
       "      <th>l1d_cache_lines</th>\n",
       "      <th>l1d_shared_by_threads</th>\n",
       "      <th>l1d_size</th>\n",
       "      <th>l2_assoc</th>\n",
       "      <th>l2_cache_lines</th>\n",
       "      <th>l2_shared_by_threads</th>\n",
       "      <th>l2_size</th>\n",
       "      <th>l3_assoc</th>\n",
       "      <th>l3_cache_lines</th>\n",
       "      <th>l3_shared_by_threads</th>\n",
       "      <th>l3_size</th>\n",
       "      <th>mem-size</th>\n",
       "      <th>mem-type_1</th>\n",
       "      <th>mem-type_2</th>\n",
       "      <th>mem_clock</th>\n",
       "      <th>bus_speed</th>\n",
       "      <th>num-cpus</th>\n",
       "      <th>runtime</th>\n",
       "    </tr>\n",
       "  </thead>\n",
       "  <tbody>\n",
       "    <tr>\n",
       "      <th>0</th>\n",
       "      <td>InteCorei78700_DDR42666_16GB</td>\n",
       "      <td>3.168</td>\n",
       "      <td>1</td>\n",
       "      <td>8</td>\n",
       "      <td>64</td>\n",
       "      <td>1</td>\n",
       "      <td>32</td>\n",
       "      <td>4</td>\n",
       "      <td>64</td>\n",
       "      <td>1</td>\n",
       "      <td>256</td>\n",
       "      <td>16</td>\n",
       "      <td>64</td>\n",
       "      <td>6</td>\n",
       "      <td>12288</td>\n",
       "      <td>16</td>\n",
       "      <td>1</td>\n",
       "      <td>0</td>\n",
       "      <td>2666</td>\n",
       "      <td>4096</td>\n",
       "      <td>1</td>\n",
       "      <td>15577.5596</td>\n",
       "    </tr>\n",
       "    <tr>\n",
       "      <th>1</th>\n",
       "      <td>InteCorei78700_DDR42666_16GB</td>\n",
       "      <td>3.168</td>\n",
       "      <td>1</td>\n",
       "      <td>8</td>\n",
       "      <td>64</td>\n",
       "      <td>1</td>\n",
       "      <td>32</td>\n",
       "      <td>4</td>\n",
       "      <td>64</td>\n",
       "      <td>1</td>\n",
       "      <td>256</td>\n",
       "      <td>16</td>\n",
       "      <td>64</td>\n",
       "      <td>6</td>\n",
       "      <td>12288</td>\n",
       "      <td>16</td>\n",
       "      <td>1</td>\n",
       "      <td>0</td>\n",
       "      <td>2666</td>\n",
       "      <td>4096</td>\n",
       "      <td>10</td>\n",
       "      <td>15415.2836</td>\n",
       "    </tr>\n",
       "    <tr>\n",
       "      <th>2</th>\n",
       "      <td>InteCorei78700_DDR42666_16GB</td>\n",
       "      <td>3.168</td>\n",
       "      <td>1</td>\n",
       "      <td>8</td>\n",
       "      <td>64</td>\n",
       "      <td>1</td>\n",
       "      <td>32</td>\n",
       "      <td>4</td>\n",
       "      <td>64</td>\n",
       "      <td>1</td>\n",
       "      <td>256</td>\n",
       "      <td>16</td>\n",
       "      <td>64</td>\n",
       "      <td>6</td>\n",
       "      <td>12288</td>\n",
       "      <td>16</td>\n",
       "      <td>1</td>\n",
       "      <td>0</td>\n",
       "      <td>2666</td>\n",
       "      <td>4096</td>\n",
       "      <td>11</td>\n",
       "      <td>15420.6975</td>\n",
       "    </tr>\n",
       "    <tr>\n",
       "      <th>3</th>\n",
       "      <td>InteCorei78700_DDR42666_16GB</td>\n",
       "      <td>3.168</td>\n",
       "      <td>1</td>\n",
       "      <td>8</td>\n",
       "      <td>64</td>\n",
       "      <td>1</td>\n",
       "      <td>32</td>\n",
       "      <td>4</td>\n",
       "      <td>64</td>\n",
       "      <td>1</td>\n",
       "      <td>256</td>\n",
       "      <td>16</td>\n",
       "      <td>64</td>\n",
       "      <td>6</td>\n",
       "      <td>12288</td>\n",
       "      <td>16</td>\n",
       "      <td>1</td>\n",
       "      <td>0</td>\n",
       "      <td>2666</td>\n",
       "      <td>4096</td>\n",
       "      <td>12</td>\n",
       "      <td>15477.0441</td>\n",
       "    </tr>\n",
       "    <tr>\n",
       "      <th>4</th>\n",
       "      <td>InteCorei78700_DDR42666_16GB</td>\n",
       "      <td>3.168</td>\n",
       "      <td>1</td>\n",
       "      <td>8</td>\n",
       "      <td>64</td>\n",
       "      <td>1</td>\n",
       "      <td>32</td>\n",
       "      <td>4</td>\n",
       "      <td>64</td>\n",
       "      <td>1</td>\n",
       "      <td>256</td>\n",
       "      <td>16</td>\n",
       "      <td>64</td>\n",
       "      <td>6</td>\n",
       "      <td>12288</td>\n",
       "      <td>16</td>\n",
       "      <td>1</td>\n",
       "      <td>0</td>\n",
       "      <td>2666</td>\n",
       "      <td>4096</td>\n",
       "      <td>2</td>\n",
       "      <td>15895.5527</td>\n",
       "    </tr>\n",
       "  </tbody>\n",
       "</table>\n",
       "</div>"
      ],
      "text/plain": [
       "                           arch  cpu-clock  ...  num-cpus     runtime\n",
       "0  InteCorei78700_DDR42666_16GB      3.168  ...         1  15577.5596\n",
       "1  InteCorei78700_DDR42666_16GB      3.168  ...        10  15415.2836\n",
       "2  InteCorei78700_DDR42666_16GB      3.168  ...        11  15420.6975\n",
       "3  InteCorei78700_DDR42666_16GB      3.168  ...        12  15477.0441\n",
       "4  InteCorei78700_DDR42666_16GB      3.168  ...         2  15895.5527\n",
       "\n",
       "[5 rows x 22 columns]"
      ]
     },
     "execution_count": 64,
     "metadata": {
      "tags": []
     },
     "output_type": "execute_result"
    }
   ],
   "source": [
    "encoded_data_frame_n.head()"
   ]
  },
  {
   "cell_type": "code",
   "execution_count": 65,
   "metadata": {
    "colab": {
     "base_uri": "https://localhost:8080/",
     "height": 136
    },
    "colab_type": "code",
    "id": "blMY6nwRPY-f",
    "outputId": "f1f5de72-6c11-4b81-9266-b369452fef88"
   },
   "outputs": [
    {
     "data": {
      "text/plain": [
       "Index(['arch', 'cpu-clock', 'isa_1', 'isa_2', 'l1d_assoc', 'l1d_cache_lines',\n",
       "       'l1d_shared_by_threads', 'l1d_size', 'l2_assoc', 'l2_cache_lines',\n",
       "       'l2_shared_by_threads', 'l2_size', 'l3_assoc', 'l3_cache_lines',\n",
       "       'l3_shared_by_threads', 'l3_size', 'mem-size', 'mem-type_1',\n",
       "       'mem-type_2', 'mem-type_3', 'mem-type_4', 'mem_clock', 'num-cpus',\n",
       "       'runtime'],\n",
       "      dtype='object')"
      ]
     },
     "execution_count": 65,
     "metadata": {
      "tags": []
     },
     "output_type": "execute_result"
    }
   ],
   "source": [
    "encoded_data_frame.columns"
   ]
  },
  {
   "cell_type": "code",
   "execution_count": 66,
   "metadata": {
    "colab": {
     "base_uri": "https://localhost:8080/",
     "height": 119
    },
    "colab_type": "code",
    "id": "c3gTDhCAPY-l",
    "outputId": "353eed44-7e84-49be-ea4b-3d0f1da17e3e"
   },
   "outputs": [
    {
     "data": {
      "text/plain": [
       "Index(['arch', 'cpu-clock', 'isa_1', 'l1d_assoc', 'l1d_cache_lines',\n",
       "       'l1d_shared_by_threads', 'l1d_size', 'l2_assoc', 'l2_cache_lines',\n",
       "       'l2_shared_by_threads', 'l2_size', 'l3_assoc', 'l3_cache_lines',\n",
       "       'l3_shared_by_threads', 'l3_size', 'mem-size', 'mem-type_1',\n",
       "       'mem-type_2', 'mem_clock', 'bus_speed', 'num-cpus', 'runtime'],\n",
       "      dtype='object')"
      ]
     },
     "execution_count": 66,
     "metadata": {
      "tags": []
     },
     "output_type": "execute_result"
    }
   ],
   "source": [
    "encoded_data_frame_n.columns"
   ]
  },
  {
   "cell_type": "code",
   "execution_count": 0,
   "metadata": {
    "colab": {},
    "colab_type": "code",
    "id": "gdW80wzNPY-r"
   },
   "outputs": [],
   "source": [
    "total_data_n = encoded_data_frame_n.drop(columns = ['arch','bus_speed','mem-type_1','mem-type_2','isa_1'])"
   ]
  },
  {
   "cell_type": "code",
   "execution_count": 0,
   "metadata": {
    "colab": {},
    "colab_type": "code",
    "id": "FI5GNgHyPY-w"
   },
   "outputs": [],
   "source": [
    "total_data = encoded_data_frame.drop(columns = ['arch','mem-type_1','mem-type_2','mem-type_3','mem-type_4','isa_1', 'isa_2'])"
   ]
  },
  {
   "cell_type": "code",
   "execution_count": 69,
   "metadata": {
    "colab": {
     "base_uri": "https://localhost:8080/",
     "height": 187
    },
    "colab_type": "code",
    "id": "FwLKC55GPY-3",
    "outputId": "0480184d-6808-4733-a653-147d5b508314"
   },
   "outputs": [
    {
     "data": {
      "text/plain": [
       "(Index(['cpu-clock', 'l1d_assoc', 'l1d_cache_lines', 'l1d_shared_by_threads',\n",
       "        'l1d_size', 'l2_assoc', 'l2_cache_lines', 'l2_shared_by_threads',\n",
       "        'l2_size', 'l3_assoc', 'l3_cache_lines', 'l3_shared_by_threads',\n",
       "        'l3_size', 'mem-size', 'mem_clock', 'num-cpus', 'runtime'],\n",
       "       dtype='object'),\n",
       " Index(['cpu-clock', 'l1d_assoc', 'l1d_cache_lines', 'l1d_shared_by_threads',\n",
       "        'l1d_size', 'l2_assoc', 'l2_cache_lines', 'l2_shared_by_threads',\n",
       "        'l2_size', 'l3_assoc', 'l3_cache_lines', 'l3_shared_by_threads',\n",
       "        'l3_size', 'mem-size', 'mem_clock', 'num-cpus', 'runtime'],\n",
       "       dtype='object'))"
      ]
     },
     "execution_count": 69,
     "metadata": {
      "tags": []
     },
     "output_type": "execute_result"
    }
   ],
   "source": [
    "total_data.columns, total_data_n.columns"
   ]
  },
  {
   "cell_type": "code",
   "execution_count": 0,
   "metadata": {
    "colab": {},
    "colab_type": "code",
    "id": "__UxO5IZPY--"
   },
   "outputs": [],
   "source": [
    "total_data = total_data.fillna(0)\n",
    "total_data_n = total_data_n.fillna(0)"
   ]
  },
  {
   "cell_type": "code",
   "execution_count": 0,
   "metadata": {
    "colab": {},
    "colab_type": "code",
    "id": "kgRQWlyrPY_E"
   },
   "outputs": [],
   "source": [
    "X_sim = total_data.drop(columns = ['runtime']).to_numpy()\n",
    "Y_sim = total_data['runtime'].to_numpy()"
   ]
  },
  {
   "cell_type": "code",
   "execution_count": 0,
   "metadata": {
    "colab": {},
    "colab_type": "code",
    "id": "xj8_o2sGPY_J"
   },
   "outputs": [],
   "source": [
    "X_phy = total_data_n.drop(columns = ['runtime']).to_numpy()\n",
    "Y_phy = total_data_n['runtime'].to_numpy()"
   ]
  },
  {
   "cell_type": "code",
   "execution_count": 73,
   "metadata": {
    "colab": {
     "base_uri": "https://localhost:8080/",
     "height": 34
    },
    "colab_type": "code",
    "id": "_GYdAqd-PY_O",
    "outputId": "2484be37-dead-42cf-e2e4-c5e3bd11abba"
   },
   "outputs": [
    {
     "data": {
      "text/plain": [
       "((475, 16), (52, 16), (475,), (52,))"
      ]
     },
     "execution_count": 73,
     "metadata": {
      "tags": []
     },
     "output_type": "execute_result"
    }
   ],
   "source": [
    "X_sim.shape, X_phy.shape, Y_sim.shape, Y_phy.shape"
   ]
  },
  {
   "cell_type": "code",
   "execution_count": 74,
   "metadata": {
    "colab": {
     "base_uri": "https://localhost:8080/",
     "height": 85
    },
    "colab_type": "code",
    "id": "xQM6d2M2PY_U",
    "outputId": "6e181ffa-a572-46ff-f369-e33a5825f409"
   },
   "outputs": [
    {
     "data": {
      "text/plain": [
       "(array([20380, 20380, 20380, 20380, 20380, 25903, 25903, 25903, 25903,\n",
       "        25903]),\n",
       " array([15577.5596, 15415.2836, 15420.6975, 15477.0441, 15895.5527,\n",
       "        15544.3322, 15402.8958, 15603.265 , 15820.4545, 15275.8791]))"
      ]
     },
     "execution_count": 74,
     "metadata": {
      "tags": []
     },
     "output_type": "execute_result"
    }
   ],
   "source": [
    "Y_sim[:10], Y_phy[:10] "
   ]
  },
  {
   "cell_type": "code",
   "execution_count": 75,
   "metadata": {
    "colab": {
     "base_uri": "https://localhost:8080/",
     "height": 51
    },
    "colab_type": "code",
    "id": "wzbI3cIbPY_c",
    "outputId": "e35e9e5e-8716-4461-dc70-b20e258da9fc"
   },
   "outputs": [
    {
     "name": "stdout",
     "output_type": "stream",
     "text": [
      "(5, 16) (47, 16) (5,) (47,)\n",
      "(480, 16) (480,) (47, 16) (47,)\n"
     ]
    }
   ],
   "source": [
    "# Separating Physical data to 10% and 90%\n",
    "X_train_phy, X_test_phy, Y_train_phy, Y_test_phy = train_test_split(X_phy, Y_phy, test_size = 0.90, random_state = 0)\n",
    "print(X_train_phy.shape, X_test_phy.shape, Y_train_phy.shape, Y_test_phy.shape)\n",
    "X_train_sim = np.append(X_sim, X_train_phy,axis = 0)\n",
    "Y_train_sim = np.append(Y_sim, Y_train_phy,axis = 0)\n",
    "print(X_train_sim.shape, Y_train_sim.shape, X_test_phy.shape, Y_test_phy.shape)"
   ]
  },
  {
   "cell_type": "code",
   "execution_count": 76,
   "metadata": {
    "colab": {
     "base_uri": "https://localhost:8080/",
     "height": 34
    },
    "colab_type": "code",
    "id": "hd6E2_KdPY_h",
    "outputId": "45ff391f-eae9-4540-e27d-3f1dfde874ea"
   },
   "outputs": [
    {
     "name": "stdout",
     "output_type": "stream",
     "text": [
      "(475, 16) (475, 1) (5, 16) (5, 1) (47, 16) (47, 1)\n"
     ]
    }
   ],
   "source": [
    "scaler_x = StandardScaler()\n",
    "X_sim = scaler_x.fit_transform(X_sim)\n",
    "X_train_phy = scaler_x.fit_transform(X_train_phy)\n",
    "X_test_phy = scaler_x.fit_transform(X_test_phy)\n",
    "scaler_y = StandardScaler()\n",
    "Y_sim = np.reshape(Y_sim, (len(Y_sim),1))\n",
    "Y_test_phy = np.reshape(Y_test_phy, (len(Y_test_phy),1))\n",
    "Y_train_phy = np.reshape(Y_train_phy, (len(Y_train_phy),1))\n",
    "Y_sim = scaler_y.fit_transform(Y_sim)\n",
    "Y_test_phy = scaler_y.fit_transform(Y_test_phy)\n",
    "Y_train_phy = scaler_y.fit_transform(Y_train_phy)\n",
    "print(X_sim.shape, Y_sim.shape, X_train_phy.shape, Y_train_phy.shape, X_test_phy.shape, Y_test_phy.shape)"
   ]
  },
  {
   "cell_type": "code",
   "execution_count": 77,
   "metadata": {
    "colab": {
     "base_uri": "https://localhost:8080/",
     "height": 34
    },
    "colab_type": "code",
    "id": "UywpK2bLPY_m",
    "outputId": "3438eedf-8562-4adc-8ca9-841b8d4ea406"
   },
   "outputs": [
    {
     "data": {
      "text/plain": [
       "((480, 16), (47, 16), (480,), (47, 1))"
      ]
     },
     "execution_count": 77,
     "metadata": {
      "tags": []
     },
     "output_type": "execute_result"
    }
   ],
   "source": [
    "X_train = X_train_sim\n",
    "X_test = X_test_phy\n",
    "Y_train = Y_train_sim\n",
    "Y_test = Y_test_phy\n",
    "X_train.shape, X_test.shape, Y_train.shape, Y_test.shape"
   ]
  },
  {
   "cell_type": "code",
   "execution_count": 0,
   "metadata": {
    "colab": {},
    "colab_type": "code",
    "id": "eEfGmTi8PY_s"
   },
   "outputs": [],
   "source": [
    "def absolute_percentage_error(Y_test, Y_pred):\n",
    "    error = 0\n",
    "    for i in range(len(Y_test)):\n",
    "        if(Y_test[i]!= 0 ):\n",
    "            error = error + (abs(Y_test[i] - Y_pred[i]))/Y_test[i]\n",
    "        \n",
    "    error = error/ len(Y_test)\n",
    "    return error"
   ]
  },
  {
   "cell_type": "code",
   "execution_count": 79,
   "metadata": {
    "colab": {
     "base_uri": "https://localhost:8080/",
     "height": 306
    },
    "colab_type": "code",
    "id": "6YqBJdtvPY_y",
    "outputId": "dc7ede66-4583-4f35-ca81-48456c92561b"
   },
   "outputs": [
    {
     "name": "stdout",
     "output_type": "stream",
     "text": [
      "Model: \"sequential_2\"\n",
      "_________________________________________________________________\n",
      "Layer (type)                 Output Shape              Param #   \n",
      "=================================================================\n",
      "dense_5 (Dense)              (None, 64)                1088      \n",
      "_________________________________________________________________\n",
      "dense_6 (Dense)              (None, 64)                4160      \n",
      "_________________________________________________________________\n",
      "dense_7 (Dense)              (None, 64)                4160      \n",
      "_________________________________________________________________\n",
      "dense_8 (Dense)              (None, 1)                 65        \n",
      "=================================================================\n",
      "Total params: 9,473\n",
      "Trainable params: 9,473\n",
      "Non-trainable params: 0\n",
      "_________________________________________________________________\n",
      "Model : DNN 2 None\n"
     ]
    }
   ],
   "source": [
    "dnn_2 = Sequential()\n",
    "dnn_2.add(Dense(64, input_dim = 16, activation='relu'))\n",
    "# dnn_2.add(Dropout(0.4))\n",
    "dnn_2.add(Dense(64, activation='relu'))\n",
    "# dnn_2.add(Dropout(0.4))\n",
    "dnn_2.add(Dense(64, activation='relu'))\n",
    "# dnn_2.add(Dropout(0.4))\n",
    "dnn_2.add(Dense(1, activation='linear'))\n",
    "print('Model : DNN 2', dnn_2.summary())"
   ]
  },
  {
   "cell_type": "code",
   "execution_count": 80,
   "metadata": {
    "colab": {
     "base_uri": "https://localhost:8080/",
     "height": 1000
    },
    "colab_type": "code",
    "id": "_6Uox_BtPY_6",
    "outputId": "ffae39c6-88fe-4b31-8281-58958613173c"
   },
   "outputs": [
    {
     "name": "stdout",
     "output_type": "stream",
     "text": [
      "Epoch 1/100\n",
      " - 0s - loss: 0.4770 - mean_absolute_error: 0.4770\n",
      "Epoch 2/100\n",
      " - 0s - loss: 0.2147 - mean_absolute_error: 0.2147\n",
      "Epoch 3/100\n",
      " - 0s - loss: 0.1487 - mean_absolute_error: 0.1487\n",
      "Epoch 4/100\n",
      " - 0s - loss: 0.1314 - mean_absolute_error: 0.1314\n",
      "Epoch 5/100\n",
      " - 0s - loss: 0.1157 - mean_absolute_error: 0.1157\n",
      "Epoch 6/100\n",
      " - 0s - loss: 0.1130 - mean_absolute_error: 0.1130\n",
      "Epoch 7/100\n",
      " - 0s - loss: 0.0930 - mean_absolute_error: 0.0930\n",
      "Epoch 8/100\n",
      " - 0s - loss: 0.0978 - mean_absolute_error: 0.0978\n",
      "Epoch 9/100\n",
      " - 0s - loss: 0.0878 - mean_absolute_error: 0.0878\n",
      "Epoch 10/100\n",
      " - 0s - loss: 0.0911 - mean_absolute_error: 0.0911\n",
      "Epoch 11/100\n",
      " - 0s - loss: 0.0673 - mean_absolute_error: 0.0673\n",
      "Epoch 12/100\n",
      " - 0s - loss: 0.0635 - mean_absolute_error: 0.0635\n",
      "Epoch 13/100\n",
      " - 0s - loss: 0.0526 - mean_absolute_error: 0.0526\n",
      "Epoch 14/100\n",
      " - 0s - loss: 0.0568 - mean_absolute_error: 0.0568\n",
      "Epoch 15/100\n",
      " - 0s - loss: 0.0573 - mean_absolute_error: 0.0573\n",
      "Epoch 16/100\n",
      " - 0s - loss: 0.0535 - mean_absolute_error: 0.0535\n",
      "Epoch 17/100\n",
      " - 0s - loss: 0.0480 - mean_absolute_error: 0.0480\n",
      "Epoch 18/100\n",
      " - 0s - loss: 0.0580 - mean_absolute_error: 0.0580\n",
      "Epoch 19/100\n",
      " - 0s - loss: 0.0657 - mean_absolute_error: 0.0657\n",
      "Epoch 20/100\n",
      " - 0s - loss: 0.0776 - mean_absolute_error: 0.0776\n",
      "Epoch 21/100\n",
      " - 0s - loss: 0.0581 - mean_absolute_error: 0.0581\n",
      "Epoch 22/100\n",
      " - 0s - loss: 0.0531 - mean_absolute_error: 0.0531\n",
      "Epoch 23/100\n",
      " - 0s - loss: 0.0599 - mean_absolute_error: 0.0599\n",
      "Epoch 24/100\n",
      " - 0s - loss: 0.0515 - mean_absolute_error: 0.0515\n",
      "Epoch 25/100\n",
      " - 0s - loss: 0.0446 - mean_absolute_error: 0.0446\n",
      "Epoch 26/100\n",
      " - 0s - loss: 0.0413 - mean_absolute_error: 0.0413\n",
      "Epoch 27/100\n",
      " - 0s - loss: 0.0441 - mean_absolute_error: 0.0441\n",
      "Epoch 28/100\n",
      " - 0s - loss: 0.0480 - mean_absolute_error: 0.0480\n",
      "Epoch 29/100\n",
      " - 0s - loss: 0.0480 - mean_absolute_error: 0.0480\n",
      "Epoch 30/100\n",
      " - 0s - loss: 0.0467 - mean_absolute_error: 0.0467\n",
      "Epoch 31/100\n",
      " - 0s - loss: 0.0434 - mean_absolute_error: 0.0434\n",
      "Epoch 32/100\n",
      " - 0s - loss: 0.0558 - mean_absolute_error: 0.0558\n",
      "Epoch 33/100\n",
      " - 0s - loss: 0.0418 - mean_absolute_error: 0.0418\n",
      "Epoch 34/100\n",
      " - 0s - loss: 0.0471 - mean_absolute_error: 0.0471\n",
      "Epoch 35/100\n",
      " - 0s - loss: 0.0428 - mean_absolute_error: 0.0428\n",
      "Epoch 36/100\n",
      " - 0s - loss: 0.0494 - mean_absolute_error: 0.0494\n",
      "Epoch 37/100\n",
      " - 0s - loss: 0.0347 - mean_absolute_error: 0.0347\n",
      "Epoch 38/100\n",
      " - 0s - loss: 0.0440 - mean_absolute_error: 0.0440\n",
      "Epoch 39/100\n",
      " - 0s - loss: 0.0393 - mean_absolute_error: 0.0393\n",
      "Epoch 40/100\n",
      " - 0s - loss: 0.0380 - mean_absolute_error: 0.0380\n",
      "Epoch 41/100\n",
      " - 0s - loss: 0.0464 - mean_absolute_error: 0.0464\n",
      "Epoch 42/100\n",
      " - 0s - loss: 0.0388 - mean_absolute_error: 0.0388\n",
      "Epoch 43/100\n",
      " - 0s - loss: 0.0337 - mean_absolute_error: 0.0337\n",
      "Epoch 44/100\n",
      " - 0s - loss: 0.0374 - mean_absolute_error: 0.0374\n",
      "Epoch 45/100\n",
      " - 0s - loss: 0.0388 - mean_absolute_error: 0.0388\n",
      "Epoch 46/100\n",
      " - 0s - loss: 0.0368 - mean_absolute_error: 0.0368\n",
      "Epoch 47/100\n",
      " - 0s - loss: 0.0385 - mean_absolute_error: 0.0385\n",
      "Epoch 48/100\n",
      " - 0s - loss: 0.0451 - mean_absolute_error: 0.0451\n",
      "Epoch 49/100\n",
      " - 0s - loss: 0.0311 - mean_absolute_error: 0.0311\n",
      "Epoch 50/100\n",
      " - 0s - loss: 0.0528 - mean_absolute_error: 0.0528\n",
      "Epoch 51/100\n",
      " - 0s - loss: 0.0418 - mean_absolute_error: 0.0418\n",
      "Epoch 52/100\n",
      " - 0s - loss: 0.0359 - mean_absolute_error: 0.0359\n",
      "Epoch 53/100\n",
      " - 0s - loss: 0.0313 - mean_absolute_error: 0.0313\n",
      "Epoch 54/100\n",
      " - 0s - loss: 0.0325 - mean_absolute_error: 0.0325\n",
      "Epoch 55/100\n",
      " - 0s - loss: 0.0309 - mean_absolute_error: 0.0309\n",
      "Epoch 56/100\n",
      " - 0s - loss: 0.0331 - mean_absolute_error: 0.0331\n",
      "Epoch 57/100\n",
      " - 0s - loss: 0.0490 - mean_absolute_error: 0.0490\n",
      "Epoch 58/100\n",
      " - 0s - loss: 0.0280 - mean_absolute_error: 0.0280\n",
      "Epoch 59/100\n",
      " - 0s - loss: 0.0344 - mean_absolute_error: 0.0344\n",
      "Epoch 60/100\n",
      " - 0s - loss: 0.0338 - mean_absolute_error: 0.0338\n",
      "Epoch 61/100\n",
      " - 0s - loss: 0.0323 - mean_absolute_error: 0.0323\n",
      "Epoch 62/100\n",
      " - 0s - loss: 0.0366 - mean_absolute_error: 0.0366\n",
      "Epoch 63/100\n",
      " - 0s - loss: 0.0283 - mean_absolute_error: 0.0283\n",
      "Epoch 64/100\n",
      " - 0s - loss: 0.0343 - mean_absolute_error: 0.0343\n",
      "Epoch 65/100\n",
      " - 0s - loss: 0.0336 - mean_absolute_error: 0.0336\n",
      "Epoch 66/100\n",
      " - 0s - loss: 0.0302 - mean_absolute_error: 0.0302\n",
      "Epoch 67/100\n",
      " - 0s - loss: 0.0399 - mean_absolute_error: 0.0399\n",
      "Epoch 68/100\n",
      " - 0s - loss: 0.0333 - mean_absolute_error: 0.0333\n",
      "Epoch 69/100\n",
      " - 0s - loss: 0.0381 - mean_absolute_error: 0.0381\n",
      "Epoch 70/100\n",
      " - 0s - loss: 0.0402 - mean_absolute_error: 0.0402\n",
      "Epoch 71/100\n",
      " - 0s - loss: 0.0255 - mean_absolute_error: 0.0255\n",
      "Epoch 72/100\n",
      " - 0s - loss: 0.0310 - mean_absolute_error: 0.0310\n",
      "Epoch 73/100\n",
      " - 0s - loss: 0.0319 - mean_absolute_error: 0.0319\n",
      "Epoch 74/100\n",
      " - 0s - loss: 0.0370 - mean_absolute_error: 0.0370\n",
      "Epoch 75/100\n",
      " - 0s - loss: 0.0288 - mean_absolute_error: 0.0288\n",
      "Epoch 76/100\n",
      " - 0s - loss: 0.0290 - mean_absolute_error: 0.0290\n",
      "Epoch 77/100\n",
      " - 0s - loss: 0.0272 - mean_absolute_error: 0.0272\n",
      "Epoch 78/100\n",
      " - 0s - loss: 0.0279 - mean_absolute_error: 0.0279\n",
      "Epoch 79/100\n",
      " - 0s - loss: 0.0283 - mean_absolute_error: 0.0283\n",
      "Epoch 80/100\n",
      " - 0s - loss: 0.0257 - mean_absolute_error: 0.0257\n",
      "Epoch 81/100\n",
      " - 0s - loss: 0.0403 - mean_absolute_error: 0.0403\n",
      "Epoch 82/100\n",
      " - 0s - loss: 0.0226 - mean_absolute_error: 0.0226\n",
      "Epoch 83/100\n",
      " - 0s - loss: 0.0316 - mean_absolute_error: 0.0316\n",
      "Epoch 84/100\n",
      " - 0s - loss: 0.0249 - mean_absolute_error: 0.0249\n",
      "Epoch 85/100\n",
      " - 0s - loss: 0.0228 - mean_absolute_error: 0.0228\n",
      "Epoch 86/100\n",
      " - 0s - loss: 0.0442 - mean_absolute_error: 0.0442\n",
      "Epoch 87/100\n",
      " - 0s - loss: 0.0313 - mean_absolute_error: 0.0313\n",
      "Epoch 88/100\n",
      " - 0s - loss: 0.0304 - mean_absolute_error: 0.0304\n",
      "Epoch 89/100\n",
      " - 0s - loss: 0.0274 - mean_absolute_error: 0.0274\n",
      "Epoch 90/100\n",
      " - 0s - loss: 0.0364 - mean_absolute_error: 0.0364\n",
      "Epoch 91/100\n",
      " - 0s - loss: 0.0314 - mean_absolute_error: 0.0314\n",
      "Epoch 92/100\n",
      " - 0s - loss: 0.0316 - mean_absolute_error: 0.0316\n",
      "Epoch 93/100\n",
      " - 0s - loss: 0.0349 - mean_absolute_error: 0.0349\n",
      "Epoch 94/100\n",
      " - 0s - loss: 0.0332 - mean_absolute_error: 0.0332\n",
      "Epoch 95/100\n",
      " - 0s - loss: 0.0319 - mean_absolute_error: 0.0319\n",
      "Epoch 96/100\n",
      " - 0s - loss: 0.0318 - mean_absolute_error: 0.0318\n",
      "Epoch 97/100\n",
      " - 0s - loss: 0.0254 - mean_absolute_error: 0.0254\n",
      "Epoch 98/100\n",
      " - 0s - loss: 0.0217 - mean_absolute_error: 0.0217\n",
      "Epoch 99/100\n",
      " - 0s - loss: 0.0262 - mean_absolute_error: 0.0262\n",
      "Epoch 100/100\n",
      " - 0s - loss: 0.0283 - mean_absolute_error: 0.0283\n"
     ]
    },
    {
     "data": {
      "text/plain": [
       "<keras.callbacks.History at 0x7f84880309e8>"
      ]
     },
     "execution_count": 80,
     "metadata": {
      "tags": []
     },
     "output_type": "execute_result"
    }
   ],
   "source": [
    "dnn_2.compile(loss='mae', optimizer='adam', metrics=['mae'])\n",
    "dnn_2.fit(X_sim, Y_sim, epochs = 100, batch_size = 10, verbose = 2)"
   ]
  },
  {
   "cell_type": "code",
   "execution_count": 81,
   "metadata": {
    "colab": {
     "base_uri": "https://localhost:8080/",
     "height": 119
    },
    "colab_type": "code",
    "id": "VRdnw9J7lmzM",
    "outputId": "164f8712-ae60-4d5d-d92e-68383a86af56"
   },
   "outputs": [
    {
     "name": "stdout",
     "output_type": "stream",
     "text": [
      "<keras.layers.core.Dense object at 0x7f8497bdccf8>\n",
      "<keras.layers.core.Dense object at 0x7f84a09ab8d0>\n",
      "<keras.layers.core.Dense object at 0x7f8497bdccf8> False\n",
      "<keras.layers.core.Dense object at 0x7f84a09ab8d0> False\n",
      "<keras.layers.core.Dense object at 0x7f8488058b70> True\n",
      "<keras.layers.core.Dense object at 0x7f8488035e10> True\n"
     ]
    }
   ],
   "source": [
    "# Freeze the layers except the last 2 dense layers\n",
    "for layer in dnn_2.layers[:-2]:\n",
    "    layer.trainable = False\n",
    "    print(layer)\n",
    "\n",
    "# Check the trainable status of the individual layers\n",
    "for layer in dnn_2.layers:\n",
    "    print(layer, layer.trainable)"
   ]
  },
  {
   "cell_type": "code",
   "execution_count": 82,
   "metadata": {
    "colab": {
     "base_uri": "https://localhost:8080/",
     "height": 1000
    },
    "colab_type": "code",
    "id": "vz67fVoLmf3x",
    "outputId": "dcc2e6f9-3c66-4b04-da35-096d695606d0"
   },
   "outputs": [
    {
     "name": "stdout",
     "output_type": "stream",
     "text": [
      "Epoch 1/100\n",
      " - 0s - loss: 0.5300 - mean_absolute_error: 0.5300\n",
      "Epoch 2/100\n",
      " - 0s - loss: 0.2146 - mean_absolute_error: 0.2146\n",
      "Epoch 3/100\n",
      " - 0s - loss: 0.2054 - mean_absolute_error: 0.2054\n",
      "Epoch 4/100\n",
      " - 0s - loss: 0.2204 - mean_absolute_error: 0.2204\n",
      "Epoch 5/100\n",
      " - 0s - loss: 0.1814 - mean_absolute_error: 0.1814\n",
      "Epoch 6/100\n",
      " - 0s - loss: 0.2032 - mean_absolute_error: 0.2032\n",
      "Epoch 7/100\n",
      " - 0s - loss: 0.1429 - mean_absolute_error: 0.1429\n",
      "Epoch 8/100\n",
      " - 0s - loss: 0.1194 - mean_absolute_error: 0.1194\n",
      "Epoch 9/100\n",
      " - 0s - loss: 0.1525 - mean_absolute_error: 0.1525\n",
      "Epoch 10/100\n",
      " - 0s - loss: 0.1176 - mean_absolute_error: 0.1176\n",
      "Epoch 11/100\n",
      " - 0s - loss: 0.1398 - mean_absolute_error: 0.1398\n",
      "Epoch 12/100\n"
     ]
    },
    {
     "name": "stderr",
     "output_type": "stream",
     "text": [
      "/usr/local/lib/python3.6/dist-packages/keras/engine/training.py:493: UserWarning: Discrepancy between trainable weights and collected trainable weights, did you set `model.trainable` without calling `model.compile` after ?\n",
      "  'Discrepancy between trainable weights and collected trainable'\n"
     ]
    },
    {
     "name": "stdout",
     "output_type": "stream",
     "text": [
      " - 0s - loss: 0.1016 - mean_absolute_error: 0.1016\n",
      "Epoch 13/100\n",
      " - 0s - loss: 0.1112 - mean_absolute_error: 0.1112\n",
      "Epoch 14/100\n",
      " - 0s - loss: 0.1601 - mean_absolute_error: 0.1601\n",
      "Epoch 15/100\n",
      " - 0s - loss: 0.1693 - mean_absolute_error: 0.1693\n",
      "Epoch 16/100\n",
      " - 0s - loss: 0.1777 - mean_absolute_error: 0.1777\n",
      "Epoch 17/100\n",
      " - 0s - loss: 0.1066 - mean_absolute_error: 0.1066\n",
      "Epoch 18/100\n",
      " - 0s - loss: 0.0885 - mean_absolute_error: 0.0885\n",
      "Epoch 19/100\n",
      " - 0s - loss: 0.0962 - mean_absolute_error: 0.0962\n",
      "Epoch 20/100\n",
      " - 0s - loss: 0.0948 - mean_absolute_error: 0.0948\n",
      "Epoch 21/100\n",
      " - 0s - loss: 0.1329 - mean_absolute_error: 0.1329\n",
      "Epoch 22/100\n",
      " - 0s - loss: 0.0710 - mean_absolute_error: 0.0710\n",
      "Epoch 23/100\n",
      " - 0s - loss: 0.1161 - mean_absolute_error: 0.1161\n",
      "Epoch 24/100\n",
      " - 0s - loss: 0.1466 - mean_absolute_error: 0.1466\n",
      "Epoch 25/100\n",
      " - 0s - loss: 0.1583 - mean_absolute_error: 0.1583\n",
      "Epoch 26/100\n",
      " - 0s - loss: 0.0892 - mean_absolute_error: 0.0892\n",
      "Epoch 27/100\n",
      " - 0s - loss: 0.1514 - mean_absolute_error: 0.1514\n",
      "Epoch 28/100\n",
      " - 0s - loss: 0.1321 - mean_absolute_error: 0.1321\n",
      "Epoch 29/100\n",
      " - 0s - loss: 0.0866 - mean_absolute_error: 0.0866\n",
      "Epoch 30/100\n",
      " - 0s - loss: 0.1588 - mean_absolute_error: 0.1588\n",
      "Epoch 31/100\n",
      " - 0s - loss: 0.1054 - mean_absolute_error: 0.1054\n",
      "Epoch 32/100\n",
      " - 0s - loss: 0.1267 - mean_absolute_error: 0.1267\n",
      "Epoch 33/100\n",
      " - 0s - loss: 0.0873 - mean_absolute_error: 0.0873\n",
      "Epoch 34/100\n",
      " - 0s - loss: 0.1162 - mean_absolute_error: 0.1162\n",
      "Epoch 35/100\n",
      " - 0s - loss: 0.0981 - mean_absolute_error: 0.0981\n",
      "Epoch 36/100\n",
      " - 0s - loss: 0.1067 - mean_absolute_error: 0.1067\n",
      "Epoch 37/100\n",
      " - 0s - loss: 0.0949 - mean_absolute_error: 0.0949\n",
      "Epoch 38/100\n",
      " - 0s - loss: 0.1158 - mean_absolute_error: 0.1158\n",
      "Epoch 39/100\n",
      " - 0s - loss: 0.0873 - mean_absolute_error: 0.0873\n",
      "Epoch 40/100\n",
      " - 0s - loss: 0.1703 - mean_absolute_error: 0.1703\n",
      "Epoch 41/100\n",
      " - 0s - loss: 0.1457 - mean_absolute_error: 0.1457\n",
      "Epoch 42/100\n",
      " - 0s - loss: 0.0892 - mean_absolute_error: 0.0892\n",
      "Epoch 43/100\n",
      " - 0s - loss: 0.0962 - mean_absolute_error: 0.0962\n",
      "Epoch 44/100\n",
      " - 0s - loss: 0.0955 - mean_absolute_error: 0.0955\n",
      "Epoch 45/100\n",
      " - 0s - loss: 0.0938 - mean_absolute_error: 0.0938\n",
      "Epoch 46/100\n",
      " - 0s - loss: 0.1222 - mean_absolute_error: 0.1222\n",
      "Epoch 47/100\n",
      " - 0s - loss: 0.1062 - mean_absolute_error: 0.1062\n",
      "Epoch 48/100\n",
      " - 0s - loss: 0.0834 - mean_absolute_error: 0.0834\n",
      "Epoch 49/100\n",
      " - 0s - loss: 0.1003 - mean_absolute_error: 0.1003\n",
      "Epoch 50/100\n",
      " - 0s - loss: 0.1005 - mean_absolute_error: 0.1005\n",
      "Epoch 51/100\n",
      " - 0s - loss: 0.0837 - mean_absolute_error: 0.0837\n",
      "Epoch 52/100\n",
      " - 0s - loss: 0.0921 - mean_absolute_error: 0.0921\n",
      "Epoch 53/100\n",
      " - 0s - loss: 0.0797 - mean_absolute_error: 0.0797\n",
      "Epoch 54/100\n",
      " - 0s - loss: 0.0997 - mean_absolute_error: 0.0997\n",
      "Epoch 55/100\n",
      " - 0s - loss: 0.1015 - mean_absolute_error: 0.1015\n",
      "Epoch 56/100\n",
      " - 0s - loss: 0.0958 - mean_absolute_error: 0.0958\n",
      "Epoch 57/100\n",
      " - 0s - loss: 0.0845 - mean_absolute_error: 0.0845\n",
      "Epoch 58/100\n",
      " - 0s - loss: 0.0889 - mean_absolute_error: 0.0889\n",
      "Epoch 59/100\n",
      " - 0s - loss: 0.0745 - mean_absolute_error: 0.0745\n",
      "Epoch 60/100\n",
      " - 0s - loss: 0.1109 - mean_absolute_error: 0.1109\n",
      "Epoch 61/100\n",
      " - 0s - loss: 0.1094 - mean_absolute_error: 0.1094\n",
      "Epoch 62/100\n",
      " - 0s - loss: 0.1067 - mean_absolute_error: 0.1067\n",
      "Epoch 63/100\n",
      " - 0s - loss: 0.0928 - mean_absolute_error: 0.0928\n",
      "Epoch 64/100\n",
      " - 0s - loss: 0.0781 - mean_absolute_error: 0.0781\n",
      "Epoch 65/100\n",
      " - 0s - loss: 0.1624 - mean_absolute_error: 0.1624\n",
      "Epoch 66/100\n",
      " - 0s - loss: 0.1462 - mean_absolute_error: 0.1462\n",
      "Epoch 67/100\n",
      " - 0s - loss: 0.1014 - mean_absolute_error: 0.1014\n",
      "Epoch 68/100\n",
      " - 0s - loss: 0.1111 - mean_absolute_error: 0.1111\n",
      "Epoch 69/100\n",
      " - 0s - loss: 0.1217 - mean_absolute_error: 0.1217\n",
      "Epoch 70/100\n",
      " - 0s - loss: 0.1269 - mean_absolute_error: 0.1269\n",
      "Epoch 71/100\n",
      " - 0s - loss: 0.1217 - mean_absolute_error: 0.1217\n",
      "Epoch 72/100\n",
      " - 0s - loss: 0.1038 - mean_absolute_error: 0.1038\n",
      "Epoch 73/100\n",
      " - 0s - loss: 0.0885 - mean_absolute_error: 0.0885\n",
      "Epoch 74/100\n",
      " - 0s - loss: 0.0756 - mean_absolute_error: 0.0756\n",
      "Epoch 75/100\n",
      " - 0s - loss: 0.1213 - mean_absolute_error: 0.1213\n",
      "Epoch 76/100\n",
      " - 0s - loss: 0.1021 - mean_absolute_error: 0.1021\n",
      "Epoch 77/100\n",
      " - 0s - loss: 0.1022 - mean_absolute_error: 0.1022\n",
      "Epoch 78/100\n",
      " - 0s - loss: 0.0857 - mean_absolute_error: 0.0857\n",
      "Epoch 79/100\n",
      " - 0s - loss: 0.1124 - mean_absolute_error: 0.1124\n",
      "Epoch 80/100\n",
      " - 0s - loss: 0.0984 - mean_absolute_error: 0.0984\n",
      "Epoch 81/100\n",
      " - 0s - loss: 0.1064 - mean_absolute_error: 0.1064\n",
      "Epoch 82/100\n",
      " - 0s - loss: 0.0958 - mean_absolute_error: 0.0958\n",
      "Epoch 83/100\n",
      " - 0s - loss: 0.0801 - mean_absolute_error: 0.0801\n",
      "Epoch 84/100\n",
      " - 0s - loss: 0.0785 - mean_absolute_error: 0.0785\n",
      "Epoch 85/100\n",
      " - 0s - loss: 0.0948 - mean_absolute_error: 0.0948\n",
      "Epoch 86/100\n",
      " - 0s - loss: 0.0926 - mean_absolute_error: 0.0926\n",
      "Epoch 87/100\n",
      " - 0s - loss: 0.0800 - mean_absolute_error: 0.0800\n",
      "Epoch 88/100\n",
      " - 0s - loss: 0.0779 - mean_absolute_error: 0.0779\n",
      "Epoch 89/100\n",
      " - 0s - loss: 0.0842 - mean_absolute_error: 0.0842\n",
      "Epoch 90/100\n",
      " - 0s - loss: 0.0931 - mean_absolute_error: 0.0931\n",
      "Epoch 91/100\n",
      " - 0s - loss: 0.0931 - mean_absolute_error: 0.0931\n",
      "Epoch 92/100\n",
      " - 0s - loss: 0.0900 - mean_absolute_error: 0.0900\n",
      "Epoch 93/100\n",
      " - 0s - loss: 0.0967 - mean_absolute_error: 0.0967\n",
      "Epoch 94/100\n",
      " - 0s - loss: 0.0891 - mean_absolute_error: 0.0891\n",
      "Epoch 95/100\n",
      " - 0s - loss: 0.0902 - mean_absolute_error: 0.0902\n",
      "Epoch 96/100\n",
      " - 0s - loss: 0.0783 - mean_absolute_error: 0.0783\n",
      "Epoch 97/100\n",
      " - 0s - loss: 0.1029 - mean_absolute_error: 0.1029\n",
      "Epoch 98/100\n",
      " - 0s - loss: 0.0798 - mean_absolute_error: 0.0798\n",
      "Epoch 99/100\n",
      " - 0s - loss: 0.0921 - mean_absolute_error: 0.0921\n",
      "Epoch 100/100\n",
      " - 0s - loss: 0.1050 - mean_absolute_error: 0.1050\n"
     ]
    },
    {
     "data": {
      "text/plain": [
       "<keras.callbacks.History at 0x7f8480023390>"
      ]
     },
     "execution_count": 82,
     "metadata": {
      "tags": []
     },
     "output_type": "execute_result"
    }
   ],
   "source": [
    "dnn_2.fit(X_train_phy, Y_train_phy, epochs = 100, batch_size = 1, verbose = 2)"
   ]
  },
  {
   "cell_type": "code",
   "execution_count": 83,
   "metadata": {
    "colab": {
     "base_uri": "https://localhost:8080/",
     "height": 282
    },
    "colab_type": "code",
    "id": "1pyUnY8eRHyH",
    "outputId": "f3b8d90e-64e1-4f99-e2be-7602e09efb63"
   },
   "outputs": [
    {
     "data": {
      "text/plain": [
       "[<matplotlib.lines.Line2D at 0x7f84800232e8>]"
      ]
     },
     "execution_count": 83,
     "metadata": {
      "tags": []
     },
     "output_type": "execute_result"
    },
    {
     "data": {
      "image/png": "[encoded data removed]",
      "text/plain": [
       "<Figure size 432x288 with 1 Axes>"
      ]
     },
     "metadata": {
      "tags": []
     },
     "output_type": "display_data"
    }
   ],
   "source": [
    "Y_pred = dnn_2.predict(X_test_phy)\n",
    "plt.plot(Y_pred)\n",
    "plt.plot(Y_test_phy)"
   ]
  },
  {
   "cell_type": "code",
   "execution_count": 84,
   "metadata": {
    "colab": {
     "base_uri": "https://localhost:8080/",
     "height": 401
    },
    "colab_type": "code",
    "id": "r2KsMmqzRYz_",
    "outputId": "4e6a3d0d-4c31-4efe-c0d8-a64483395834"
   },
   "outputs": [
    {
     "name": "stdout",
     "output_type": "stream",
     "text": [
      "MSE: \n",
      " 22266993.7893044\n",
      "\n",
      "R2: \n",
      " 0.13663189387511754\n",
      "\n",
      "MAPE: \n",
      " 0.16992731674845277\n"
     ]
    },
    {
     "data": {
      "image/png": "[encoded data removed]",
      "text/plain": [
       "<Figure size 432x288 with 1 Axes>"
      ]
     },
     "metadata": {
      "tags": []
     },
     "output_type": "display_data"
    }
   ],
   "source": [
    "plt.figure()\n",
    "plt.plot(Y_test_phy, 'b')\n",
    "plt.plot(Y_pred, 'r')\n",
    "Y_test_phy = scaler_y.inverse_transform(Y_test_phy)\n",
    "Y_pred = scaler_y.inverse_transform(Y_pred)\n",
    "r2_scores = (r2_score(Y_test_phy, Y_pred))\n",
    "mse_scores = (mean_squared_error(Y_test_phy, Y_pred))\n",
    "mape_scores = (absolute_percentage_error(Y_test_phy, Y_pred))\n",
    "print('MSE: \\n', mse_scores)\n",
    "print('\\nR2: \\n', r2_scores)\n",
    "print('\\nMAPE: \\n', mape_scores[0])"
   ]
  },
  {
   "cell_type": "code",
   "execution_count": 0,
   "metadata": {
    "colab": {},
    "colab_type": "code",
    "id": "2cog4vU9SH6W"
   },
   "outputs": [],
   "source": []
  }
 ],
 "metadata": {
  "accelerator": "GPU",
  "colab": {
   "name": "DNN_transfer_learning.ipynb",
   "provenance": [],
   "toc_visible": true
  },
  "kernelspec": {
   "display_name": "Python 3",
   "language": "python",
   "name": "python3"
  },
  "language_info": {
   "codemirror_mode": {
    "name": "ipython",
    "version": 3
   },
   "file_extension": ".py",
   "mimetype": "text/x-python",
   "name": "python",
   "nbconvert_exporter": "python",
   "pygments_lexer": "ipython3",
   "version": "3.7.3"
  }
 },
 "nbformat": 4,
 "nbformat_minor": 1
}
