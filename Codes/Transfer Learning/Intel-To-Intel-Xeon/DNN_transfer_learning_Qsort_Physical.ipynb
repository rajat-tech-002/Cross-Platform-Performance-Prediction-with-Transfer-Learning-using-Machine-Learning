{
 "cells": [
  {
   "cell_type": "code",
   "execution_count": 0,
   "metadata": {
    "colab": {
     "base_uri": "https://localhost:8080/",
     "height": 80
    },
    "colab_type": "code",
    "id": "B20-BaAfPY7y",
    "outputId": "38a8ac8c-60f7-49ba-f04f-36a97f0335c2"
   },
   "outputs": [
    {
     "name": "stderr",
     "output_type": "stream",
     "text": [
      "Using TensorFlow backend.\n"
     ]
    },
    {
     "data": {
      "text/html": [
       "<p style=\"color: red;\">\n",
       "The default version of TensorFlow in Colab will switch to TensorFlow 2.x on the 27th of March, 2020.<br>\n",
       "We recommend you <a href=\"https://www.tensorflow.org/guide/migrate\" target=\"_blank\">upgrade</a> now\n",
       "or ensure your notebook will continue to use TensorFlow 1.x via the <code>%tensorflow_version 1.x</code> magic:\n",
       "<a href=\"https://colab.research.google.com/notebooks/tensorflow_version.ipynb\" target=\"_blank\">more info</a>.</p>\n"
      ],
      "text/plain": [
       "<IPython.core.display.HTML object>"
      ]
     },
     "metadata": {
      "tags": []
     },
     "output_type": "display_data"
    }
   ],
   "source": [
    "from sklearn.preprocessing import StandardScaler\n",
    "from sklearn.preprocessing import MinMaxScaler\n",
    "from sklearn.model_selection import train_test_split\n",
    "from sklearn.metrics import mean_squared_error, r2_score\n",
    "from sklearn.metrics import mean_absolute_error\n",
    "from sklearn.model_selection import GridSearchCV \n",
    "from sklearn.model_selection import KFold\n",
    "from sklearn.metrics import accuracy_score\n",
    "from keras.layers import Dense, Dropout\n",
    "from keras.models import Sequential\n",
    "from keras.optimizers import SGD\n",
    "from matplotlib import pyplot as plt\n",
    "import matplotlib as mpl\n",
    "import seaborn as sns\n",
    "import numpy as np\n",
    "import pandas as pd\n",
    "import category_encoders as ce\n",
    "import os\n",
    "import pickle\n",
    "import gc\n",
    "from tqdm import tqdm\n",
    "from sklearn.model_selection import ShuffleSplit\n",
    "from sklearn.svm import SVR\n",
    "from sklearn.linear_model import LinearRegression\n",
    "from sklearn import linear_model\n",
    "from sklearn.neighbors import KNeighborsRegressor\n",
    "from sklearn.gaussian_process import GaussianProcessRegressor\n",
    "from sklearn.tree import DecisionTreeRegressor\n",
    "from sklearn.ensemble import RandomForestRegressor\n",
    "from sklearn.ensemble import ExtraTreesRegressor\n",
    "from sklearn import ensemble\n",
    "import xgboost as xgb\n",
    "from numpy import loadtxt\n",
    "from keras.utils.vis_utils import plot_model\n",
    "import pydot"
   ]
  },
  {
   "cell_type": "code",
   "execution_count": 0,
   "metadata": {
    "colab": {
     "base_uri": "https://localhost:8080/",
     "height": 292
    },
    "colab_type": "code",
    "id": "DCM-6XSaPlnW",
    "outputId": "0620baca-e931-43ee-90ab-082aedc6422b"
   },
   "outputs": [
    {
     "name": "stdout",
     "output_type": "stream",
     "text": [
      "Collecting category_encoders\n",
      "\u001b[?25l  Downloading https://files.pythonhosted.org/packages/a0/52/c54191ad3782de633ea3d6ee3bb2837bda0cf3bc97644bb6375cf14150a0/category_encoders-2.1.0-py2.py3-none-any.whl (100kB)\n",
      "\u001b[K     |████████████████████████████████| 102kB 306kB/s \n",
      "\u001b[?25hRequirement already satisfied: patsy>=0.4.1 in /usr/local/lib/python3.6/dist-packages (from category_encoders) (0.5.1)\n",
      "Requirement already satisfied: scikit-learn>=0.20.0 in /usr/local/lib/python3.6/dist-packages (from category_encoders) (0.22.2.post1)\n",
      "Requirement already satisfied: numpy>=1.11.3 in /usr/local/lib/python3.6/dist-packages (from category_encoders) (1.18.2)\n",
      "Requirement already satisfied: statsmodels>=0.6.1 in /usr/local/lib/python3.6/dist-packages (from category_encoders) (0.10.2)\n",
      "Requirement already satisfied: scipy>=0.19.0 in /usr/local/lib/python3.6/dist-packages (from category_encoders) (1.4.1)\n",
      "Requirement already satisfied: pandas>=0.21.1 in /usr/local/lib/python3.6/dist-packages (from category_encoders) (0.25.3)\n",
      "Requirement already satisfied: six in /usr/local/lib/python3.6/dist-packages (from patsy>=0.4.1->category_encoders) (1.12.0)\n",
      "Requirement already satisfied: joblib>=0.11 in /usr/local/lib/python3.6/dist-packages (from scikit-learn>=0.20.0->category_encoders) (0.14.1)\n",
      "Requirement already satisfied: pytz>=2017.2 in /usr/local/lib/python3.6/dist-packages (from pandas>=0.21.1->category_encoders) (2018.9)\n",
      "Requirement already satisfied: python-dateutil>=2.6.1 in /usr/local/lib/python3.6/dist-packages (from pandas>=0.21.1->category_encoders) (2.8.1)\n",
      "Installing collected packages: category-encoders\n",
      "Successfully installed category-encoders-2.1.0\n"
     ]
    }
   ],
   "source": [
    "pip install category_encoders"
   ]
  },
  {
   "cell_type": "code",
   "execution_count": 0,
   "metadata": {
    "colab": {},
    "colab_type": "code",
    "id": "IoISvsWDPY8P"
   },
   "outputs": [],
   "source": [
    "def encode_text_features(encode_decode, data_frame, encoder_isa=None, encoder_mem_type=None):\n",
    "    # Implement Categorical OneHot encoding for ISA and mem-type\n",
    "    if encode_decode == 'encode':\n",
    "        encoder_isa = ce.one_hot.OneHotEncoder(cols=['isa'])\n",
    "        encoder_mem_type = ce.one_hot.OneHotEncoder(cols=['mem-type'])\n",
    "        encoder_isa.fit(data_frame, verbose=1)\n",
    "        df_new1 = encoder_isa.transform(data_frame)\n",
    "        encoder_mem_type.fit(df_new1, verbose=1)\n",
    "        df_new = encoder_mem_type.transform(df_new1)\n",
    "        encoded_data_frame = df_new\n",
    "    else:\n",
    "        df_new1 = encoder_isa.transform(data_frame)\n",
    "        df_new = encoder_mem_type.transform(df_new1)\n",
    "        encoded_data_frame = df_new\n",
    "        \n",
    "    return encoded_data_frame, encoder_isa, encoder_mem_type"
   ]
  },
  {
   "cell_type": "code",
   "execution_count": 0,
   "metadata": {
    "colab": {},
    "colab_type": "code",
    "id": "Sq7T5i17PY8b"
   },
   "outputs": [],
   "source": [
    "all_datasets = '\\\\Dataset_CSV\\\\Transfer_Learning\\\\Qsort_Intel_to_Intel-Xeon\\\\'\n",
    "df = pd.read_csv('Intel_Qsort_Physical.csv')\n",
    "dfn = pd.read_csv('Intel_Xeon_Qsort_Physical.csv')"
   ]
  },
  {
   "cell_type": "code",
   "execution_count": 0,
   "metadata": {
    "colab": {
     "base_uri": "https://localhost:8080/",
     "height": 241
    },
    "colab_type": "code",
    "id": "SGDXIFQDPY8n",
    "outputId": "e873438e-64c6-40da-d801-344f259d8aae"
   },
   "outputs": [
    {
     "data": {
      "text/html": [
       "<div>\n",
       "<style scoped>\n",
       "    .dataframe tbody tr th:only-of-type {\n",
       "        vertical-align: middle;\n",
       "    }\n",
       "\n",
       "    .dataframe tbody tr th {\n",
       "        vertical-align: top;\n",
       "    }\n",
       "\n",
       "    .dataframe thead th {\n",
       "        text-align: right;\n",
       "    }\n",
       "</style>\n",
       "<table border=\"1\" class=\"dataframe\">\n",
       "  <thead>\n",
       "    <tr style=\"text-align: right;\">\n",
       "      <th></th>\n",
       "      <th>arch</th>\n",
       "      <th>cpu-clock</th>\n",
       "      <th>isa</th>\n",
       "      <th>l1d_assoc</th>\n",
       "      <th>l1d_cache_lines</th>\n",
       "      <th>l1d_shared_by_threads</th>\n",
       "      <th>l1d_size</th>\n",
       "      <th>l2_assoc</th>\n",
       "      <th>l2_cache_lines</th>\n",
       "      <th>l2_shared_by_threads</th>\n",
       "      <th>l2_size</th>\n",
       "      <th>l3_assoc</th>\n",
       "      <th>l3_cache_lines</th>\n",
       "      <th>l3_shared_by_threads</th>\n",
       "      <th>l3_size</th>\n",
       "      <th>mem-size</th>\n",
       "      <th>mem-type</th>\n",
       "      <th>mem_clock</th>\n",
       "      <th>num-cpus</th>\n",
       "      <th>runtime</th>\n",
       "      <th>bus_speed</th>\n",
       "    </tr>\n",
       "  </thead>\n",
       "  <tbody>\n",
       "    <tr>\n",
       "      <th>0</th>\n",
       "      <td>IntelCore2Duo_DDR2667_2GB</td>\n",
       "      <td>1.6</td>\n",
       "      <td>X86_64</td>\n",
       "      <td>8</td>\n",
       "      <td>64</td>\n",
       "      <td>1</td>\n",
       "      <td>32</td>\n",
       "      <td>2</td>\n",
       "      <td>64</td>\n",
       "      <td>1</td>\n",
       "      <td>512</td>\n",
       "      <td>0</td>\n",
       "      <td>0</td>\n",
       "      <td>0</td>\n",
       "      <td>0</td>\n",
       "      <td>2</td>\n",
       "      <td>DDR2</td>\n",
       "      <td>667</td>\n",
       "      <td>1</td>\n",
       "      <td>7049.80</td>\n",
       "      <td>2048</td>\n",
       "    </tr>\n",
       "    <tr>\n",
       "      <th>1</th>\n",
       "      <td>IntelCore2Duo_DDR2667_2GB</td>\n",
       "      <td>1.6</td>\n",
       "      <td>X86_64</td>\n",
       "      <td>8</td>\n",
       "      <td>64</td>\n",
       "      <td>1</td>\n",
       "      <td>32</td>\n",
       "      <td>2</td>\n",
       "      <td>64</td>\n",
       "      <td>1</td>\n",
       "      <td>512</td>\n",
       "      <td>0</td>\n",
       "      <td>0</td>\n",
       "      <td>0</td>\n",
       "      <td>0</td>\n",
       "      <td>2</td>\n",
       "      <td>DDR2</td>\n",
       "      <td>667</td>\n",
       "      <td>2</td>\n",
       "      <td>5936.48</td>\n",
       "      <td>2048</td>\n",
       "    </tr>\n",
       "    <tr>\n",
       "      <th>2</th>\n",
       "      <td>IntelCore2Duo_DDR2667_2GB</td>\n",
       "      <td>1.6</td>\n",
       "      <td>X86_64</td>\n",
       "      <td>8</td>\n",
       "      <td>64</td>\n",
       "      <td>1</td>\n",
       "      <td>32</td>\n",
       "      <td>2</td>\n",
       "      <td>64</td>\n",
       "      <td>1</td>\n",
       "      <td>512</td>\n",
       "      <td>0</td>\n",
       "      <td>0</td>\n",
       "      <td>0</td>\n",
       "      <td>0</td>\n",
       "      <td>2</td>\n",
       "      <td>DDR2</td>\n",
       "      <td>667</td>\n",
       "      <td>3</td>\n",
       "      <td>6163.20</td>\n",
       "      <td>2048</td>\n",
       "    </tr>\n",
       "    <tr>\n",
       "      <th>3</th>\n",
       "      <td>IntelCore2Duo_DDR2667_2GB</td>\n",
       "      <td>1.6</td>\n",
       "      <td>X86_64</td>\n",
       "      <td>8</td>\n",
       "      <td>64</td>\n",
       "      <td>1</td>\n",
       "      <td>32</td>\n",
       "      <td>2</td>\n",
       "      <td>64</td>\n",
       "      <td>1</td>\n",
       "      <td>512</td>\n",
       "      <td>0</td>\n",
       "      <td>0</td>\n",
       "      <td>0</td>\n",
       "      <td>0</td>\n",
       "      <td>2</td>\n",
       "      <td>DDR2</td>\n",
       "      <td>667</td>\n",
       "      <td>4</td>\n",
       "      <td>5656.76</td>\n",
       "      <td>2048</td>\n",
       "    </tr>\n",
       "    <tr>\n",
       "      <th>4</th>\n",
       "      <td>IntelCore2Duo_DDR2667_2GB</td>\n",
       "      <td>1.6</td>\n",
       "      <td>X86_64</td>\n",
       "      <td>8</td>\n",
       "      <td>64</td>\n",
       "      <td>1</td>\n",
       "      <td>32</td>\n",
       "      <td>2</td>\n",
       "      <td>64</td>\n",
       "      <td>1</td>\n",
       "      <td>512</td>\n",
       "      <td>0</td>\n",
       "      <td>0</td>\n",
       "      <td>0</td>\n",
       "      <td>0</td>\n",
       "      <td>2</td>\n",
       "      <td>DDR2</td>\n",
       "      <td>667</td>\n",
       "      <td>5</td>\n",
       "      <td>5899.16</td>\n",
       "      <td>2048</td>\n",
       "    </tr>\n",
       "  </tbody>\n",
       "</table>\n",
       "</div>"
      ],
      "text/plain": [
       "                        arch  cpu-clock     isa  ...  num-cpus  runtime  bus_speed\n",
       "0  IntelCore2Duo_DDR2667_2GB        1.6  X86_64  ...         1  7049.80       2048\n",
       "1  IntelCore2Duo_DDR2667_2GB        1.6  X86_64  ...         2  5936.48       2048\n",
       "2  IntelCore2Duo_DDR2667_2GB        1.6  X86_64  ...         3  6163.20       2048\n",
       "3  IntelCore2Duo_DDR2667_2GB        1.6  X86_64  ...         4  5656.76       2048\n",
       "4  IntelCore2Duo_DDR2667_2GB        1.6  X86_64  ...         5  5899.16       2048\n",
       "\n",
       "[5 rows x 21 columns]"
      ]
     },
     "execution_count": 33,
     "metadata": {
      "tags": []
     },
     "output_type": "execute_result"
    }
   ],
   "source": [
    "df.head()"
   ]
  },
  {
   "cell_type": "code",
   "execution_count": 0,
   "metadata": {
    "colab": {
     "base_uri": "https://localhost:8080/",
     "height": 241
    },
    "colab_type": "code",
    "id": "aATDyN0fPY9l",
    "outputId": "d55eed9a-a601-4fd1-c3d2-531d72f8ddee"
   },
   "outputs": [
    {
     "data": {
      "text/html": [
       "<div>\n",
       "<style scoped>\n",
       "    .dataframe tbody tr th:only-of-type {\n",
       "        vertical-align: middle;\n",
       "    }\n",
       "\n",
       "    .dataframe tbody tr th {\n",
       "        vertical-align: top;\n",
       "    }\n",
       "\n",
       "    .dataframe thead th {\n",
       "        text-align: right;\n",
       "    }\n",
       "</style>\n",
       "<table border=\"1\" class=\"dataframe\">\n",
       "  <thead>\n",
       "    <tr style=\"text-align: right;\">\n",
       "      <th></th>\n",
       "      <th>arch</th>\n",
       "      <th>cpu-clock</th>\n",
       "      <th>isa</th>\n",
       "      <th>l1d_assoc</th>\n",
       "      <th>l1d_cache_lines</th>\n",
       "      <th>l1d_shared_by_threads</th>\n",
       "      <th>l1d_size</th>\n",
       "      <th>l2_assoc</th>\n",
       "      <th>l2_cache_lines</th>\n",
       "      <th>l2_shared_by_threads</th>\n",
       "      <th>l2_size</th>\n",
       "      <th>l3_assoc</th>\n",
       "      <th>l3_cache_lines</th>\n",
       "      <th>l3_shared_by_threads</th>\n",
       "      <th>l3_size</th>\n",
       "      <th>mem-size</th>\n",
       "      <th>mem-type</th>\n",
       "      <th>mem_clock</th>\n",
       "      <th>num-cpus</th>\n",
       "      <th>runtime</th>\n",
       "      <th>bus_speed</th>\n",
       "    </tr>\n",
       "  </thead>\n",
       "  <tbody>\n",
       "    <tr>\n",
       "      <th>0</th>\n",
       "      <td>IntelXeonE52620_DDR41866_16GB</td>\n",
       "      <td>2.4</td>\n",
       "      <td>X86_64</td>\n",
       "      <td>8</td>\n",
       "      <td>64</td>\n",
       "      <td>1</td>\n",
       "      <td>32</td>\n",
       "      <td>8</td>\n",
       "      <td>64</td>\n",
       "      <td>1</td>\n",
       "      <td>256</td>\n",
       "      <td>8</td>\n",
       "      <td>64</td>\n",
       "      <td>12</td>\n",
       "      <td>15360</td>\n",
       "      <td>16</td>\n",
       "      <td>DDR4</td>\n",
       "      <td>1866</td>\n",
       "      <td>1</td>\n",
       "      <td>12945.40</td>\n",
       "      <td>32768</td>\n",
       "    </tr>\n",
       "    <tr>\n",
       "      <th>1</th>\n",
       "      <td>IntelXeonE52620_DDR41866_16GB</td>\n",
       "      <td>2.4</td>\n",
       "      <td>X86_64</td>\n",
       "      <td>8</td>\n",
       "      <td>64</td>\n",
       "      <td>1</td>\n",
       "      <td>32</td>\n",
       "      <td>8</td>\n",
       "      <td>64</td>\n",
       "      <td>1</td>\n",
       "      <td>256</td>\n",
       "      <td>8</td>\n",
       "      <td>64</td>\n",
       "      <td>12</td>\n",
       "      <td>15360</td>\n",
       "      <td>16</td>\n",
       "      <td>DDR4</td>\n",
       "      <td>1866</td>\n",
       "      <td>2</td>\n",
       "      <td>10084.36</td>\n",
       "      <td>32768</td>\n",
       "    </tr>\n",
       "    <tr>\n",
       "      <th>2</th>\n",
       "      <td>IntelXeonE52620_DDR41866_16GB</td>\n",
       "      <td>2.4</td>\n",
       "      <td>X86_64</td>\n",
       "      <td>8</td>\n",
       "      <td>64</td>\n",
       "      <td>1</td>\n",
       "      <td>32</td>\n",
       "      <td>8</td>\n",
       "      <td>64</td>\n",
       "      <td>1</td>\n",
       "      <td>256</td>\n",
       "      <td>8</td>\n",
       "      <td>64</td>\n",
       "      <td>12</td>\n",
       "      <td>15360</td>\n",
       "      <td>16</td>\n",
       "      <td>DDR4</td>\n",
       "      <td>1866</td>\n",
       "      <td>3</td>\n",
       "      <td>9943.28</td>\n",
       "      <td>32768</td>\n",
       "    </tr>\n",
       "    <tr>\n",
       "      <th>3</th>\n",
       "      <td>IntelXeonE52620_DDR41866_16GB</td>\n",
       "      <td>2.4</td>\n",
       "      <td>X86_64</td>\n",
       "      <td>8</td>\n",
       "      <td>64</td>\n",
       "      <td>1</td>\n",
       "      <td>32</td>\n",
       "      <td>8</td>\n",
       "      <td>64</td>\n",
       "      <td>1</td>\n",
       "      <td>256</td>\n",
       "      <td>8</td>\n",
       "      <td>64</td>\n",
       "      <td>12</td>\n",
       "      <td>15360</td>\n",
       "      <td>16</td>\n",
       "      <td>DDR4</td>\n",
       "      <td>1866</td>\n",
       "      <td>4</td>\n",
       "      <td>9433.28</td>\n",
       "      <td>32768</td>\n",
       "    </tr>\n",
       "    <tr>\n",
       "      <th>4</th>\n",
       "      <td>IntelXeonE52620_DDR41866_16GB</td>\n",
       "      <td>2.4</td>\n",
       "      <td>X86_64</td>\n",
       "      <td>8</td>\n",
       "      <td>64</td>\n",
       "      <td>1</td>\n",
       "      <td>32</td>\n",
       "      <td>8</td>\n",
       "      <td>64</td>\n",
       "      <td>1</td>\n",
       "      <td>256</td>\n",
       "      <td>8</td>\n",
       "      <td>64</td>\n",
       "      <td>12</td>\n",
       "      <td>15360</td>\n",
       "      <td>16</td>\n",
       "      <td>DDR4</td>\n",
       "      <td>1866</td>\n",
       "      <td>5</td>\n",
       "      <td>8592.68</td>\n",
       "      <td>32768</td>\n",
       "    </tr>\n",
       "  </tbody>\n",
       "</table>\n",
       "</div>"
      ],
      "text/plain": [
       "                            arch  cpu-clock  ...   runtime  bus_speed\n",
       "0  IntelXeonE52620_DDR41866_16GB        2.4  ...  12945.40      32768\n",
       "1  IntelXeonE52620_DDR41866_16GB        2.4  ...  10084.36      32768\n",
       "2  IntelXeonE52620_DDR41866_16GB        2.4  ...   9943.28      32768\n",
       "3  IntelXeonE52620_DDR41866_16GB        2.4  ...   9433.28      32768\n",
       "4  IntelXeonE52620_DDR41866_16GB        2.4  ...   8592.68      32768\n",
       "\n",
       "[5 rows x 21 columns]"
      ]
     },
     "execution_count": 34,
     "metadata": {
      "tags": []
     },
     "output_type": "execute_result"
    }
   ],
   "source": [
    "dfn.head()"
   ]
  },
  {
   "cell_type": "code",
   "execution_count": 0,
   "metadata": {
    "colab": {
     "base_uri": "https://localhost:8080/",
     "height": 255
    },
    "colab_type": "code",
    "id": "24Pvfj2GPY9z",
    "outputId": "37344b91-88ca-4cc0-a139-aa2028a21354"
   },
   "outputs": [
    {
     "data": {
      "text/plain": [
       "(Index(['arch', 'cpu-clock', 'isa', 'l1d_assoc', 'l1d_cache_lines',\n",
       "        'l1d_shared_by_threads', 'l1d_size', 'l2_assoc', 'l2_cache_lines',\n",
       "        'l2_shared_by_threads', 'l2_size', 'l3_assoc', 'l3_cache_lines',\n",
       "        'l3_shared_by_threads', 'l3_size', 'mem-size', 'mem-type', 'mem_clock',\n",
       "        'num-cpus', 'runtime', 'bus_speed'],\n",
       "       dtype='object'),\n",
       " 21,\n",
       " Index(['arch', 'cpu-clock', 'isa', 'l1d_assoc', 'l1d_cache_lines',\n",
       "        'l1d_shared_by_threads', 'l1d_size', 'l2_assoc', 'l2_cache_lines',\n",
       "        'l2_shared_by_threads', 'l2_size', 'l3_assoc', 'l3_cache_lines',\n",
       "        'l3_shared_by_threads', 'l3_size', 'mem-size', 'mem-type', 'mem_clock',\n",
       "        'num-cpus', 'runtime', 'bus_speed'],\n",
       "       dtype='object'),\n",
       " 21)"
      ]
     },
     "execution_count": 35,
     "metadata": {
      "tags": []
     },
     "output_type": "execute_result"
    }
   ],
   "source": [
    "df.columns, len(df.columns), dfn.columns, len(dfn.columns) # bus-speed is extra in physical"
   ]
  },
  {
   "cell_type": "code",
   "execution_count": 0,
   "metadata": {
    "colab": {
     "base_uri": "https://localhost:8080/",
     "height": 34
    },
    "colab_type": "code",
    "id": "VEbKBnGIPY9_",
    "outputId": "1a0d55ad-341e-4908-c006-94774ff4a50d"
   },
   "outputs": [
    {
     "data": {
      "text/plain": [
       "(280, 40)"
      ]
     },
     "execution_count": 36,
     "metadata": {
      "tags": []
     },
     "output_type": "execute_result"
    }
   ],
   "source": [
    "len(df),len(dfn)"
   ]
  },
  {
   "cell_type": "code",
   "execution_count": 0,
   "metadata": {
    "colab": {},
    "colab_type": "code",
    "id": "NdUy29hmPY-F"
   },
   "outputs": [],
   "source": [
    "encoded_data_frame, encoder_isa, encoder_mem_type = encode_text_features('encode', df, encoder_isa = None, encoder_mem_type=None)"
   ]
  },
  {
   "cell_type": "code",
   "execution_count": 0,
   "metadata": {
    "colab": {},
    "colab_type": "code",
    "id": "w9OfqWqhPY-L"
   },
   "outputs": [],
   "source": [
    "encoded_data_frame_n, encoder_isa_n, encoder_mem_type_n = encode_text_features('encode', dfn, encoder_isa = None, encoder_mem_type=None)"
   ]
  },
  {
   "cell_type": "code",
   "execution_count": 0,
   "metadata": {
    "colab": {
     "base_uri": "https://localhost:8080/",
     "height": 241
    },
    "colab_type": "code",
    "id": "vV0ZAkEEPY-T",
    "outputId": "7d0050c2-65a8-4f6c-f45c-a2cde5a43a2b"
   },
   "outputs": [
    {
     "data": {
      "text/html": [
       "<div>\n",
       "<style scoped>\n",
       "    .dataframe tbody tr th:only-of-type {\n",
       "        vertical-align: middle;\n",
       "    }\n",
       "\n",
       "    .dataframe tbody tr th {\n",
       "        vertical-align: top;\n",
       "    }\n",
       "\n",
       "    .dataframe thead th {\n",
       "        text-align: right;\n",
       "    }\n",
       "</style>\n",
       "<table border=\"1\" class=\"dataframe\">\n",
       "  <thead>\n",
       "    <tr style=\"text-align: right;\">\n",
       "      <th></th>\n",
       "      <th>arch</th>\n",
       "      <th>cpu-clock</th>\n",
       "      <th>isa_1</th>\n",
       "      <th>l1d_assoc</th>\n",
       "      <th>l1d_cache_lines</th>\n",
       "      <th>l1d_shared_by_threads</th>\n",
       "      <th>l1d_size</th>\n",
       "      <th>l2_assoc</th>\n",
       "      <th>l2_cache_lines</th>\n",
       "      <th>l2_shared_by_threads</th>\n",
       "      <th>l2_size</th>\n",
       "      <th>l3_assoc</th>\n",
       "      <th>l3_cache_lines</th>\n",
       "      <th>l3_shared_by_threads</th>\n",
       "      <th>l3_size</th>\n",
       "      <th>mem-size</th>\n",
       "      <th>mem-type_1</th>\n",
       "      <th>mem-type_2</th>\n",
       "      <th>mem-type_3</th>\n",
       "      <th>mem_clock</th>\n",
       "      <th>num-cpus</th>\n",
       "      <th>runtime</th>\n",
       "      <th>bus_speed</th>\n",
       "    </tr>\n",
       "  </thead>\n",
       "  <tbody>\n",
       "    <tr>\n",
       "      <th>0</th>\n",
       "      <td>IntelCore2Duo_DDR2667_2GB</td>\n",
       "      <td>1.6</td>\n",
       "      <td>1</td>\n",
       "      <td>8</td>\n",
       "      <td>64</td>\n",
       "      <td>1</td>\n",
       "      <td>32</td>\n",
       "      <td>2</td>\n",
       "      <td>64</td>\n",
       "      <td>1</td>\n",
       "      <td>512</td>\n",
       "      <td>0</td>\n",
       "      <td>0</td>\n",
       "      <td>0</td>\n",
       "      <td>0</td>\n",
       "      <td>2</td>\n",
       "      <td>1</td>\n",
       "      <td>0</td>\n",
       "      <td>0</td>\n",
       "      <td>667</td>\n",
       "      <td>1</td>\n",
       "      <td>7049.80</td>\n",
       "      <td>2048</td>\n",
       "    </tr>\n",
       "    <tr>\n",
       "      <th>1</th>\n",
       "      <td>IntelCore2Duo_DDR2667_2GB</td>\n",
       "      <td>1.6</td>\n",
       "      <td>1</td>\n",
       "      <td>8</td>\n",
       "      <td>64</td>\n",
       "      <td>1</td>\n",
       "      <td>32</td>\n",
       "      <td>2</td>\n",
       "      <td>64</td>\n",
       "      <td>1</td>\n",
       "      <td>512</td>\n",
       "      <td>0</td>\n",
       "      <td>0</td>\n",
       "      <td>0</td>\n",
       "      <td>0</td>\n",
       "      <td>2</td>\n",
       "      <td>1</td>\n",
       "      <td>0</td>\n",
       "      <td>0</td>\n",
       "      <td>667</td>\n",
       "      <td>2</td>\n",
       "      <td>5936.48</td>\n",
       "      <td>2048</td>\n",
       "    </tr>\n",
       "    <tr>\n",
       "      <th>2</th>\n",
       "      <td>IntelCore2Duo_DDR2667_2GB</td>\n",
       "      <td>1.6</td>\n",
       "      <td>1</td>\n",
       "      <td>8</td>\n",
       "      <td>64</td>\n",
       "      <td>1</td>\n",
       "      <td>32</td>\n",
       "      <td>2</td>\n",
       "      <td>64</td>\n",
       "      <td>1</td>\n",
       "      <td>512</td>\n",
       "      <td>0</td>\n",
       "      <td>0</td>\n",
       "      <td>0</td>\n",
       "      <td>0</td>\n",
       "      <td>2</td>\n",
       "      <td>1</td>\n",
       "      <td>0</td>\n",
       "      <td>0</td>\n",
       "      <td>667</td>\n",
       "      <td>3</td>\n",
       "      <td>6163.20</td>\n",
       "      <td>2048</td>\n",
       "    </tr>\n",
       "    <tr>\n",
       "      <th>3</th>\n",
       "      <td>IntelCore2Duo_DDR2667_2GB</td>\n",
       "      <td>1.6</td>\n",
       "      <td>1</td>\n",
       "      <td>8</td>\n",
       "      <td>64</td>\n",
       "      <td>1</td>\n",
       "      <td>32</td>\n",
       "      <td>2</td>\n",
       "      <td>64</td>\n",
       "      <td>1</td>\n",
       "      <td>512</td>\n",
       "      <td>0</td>\n",
       "      <td>0</td>\n",
       "      <td>0</td>\n",
       "      <td>0</td>\n",
       "      <td>2</td>\n",
       "      <td>1</td>\n",
       "      <td>0</td>\n",
       "      <td>0</td>\n",
       "      <td>667</td>\n",
       "      <td>4</td>\n",
       "      <td>5656.76</td>\n",
       "      <td>2048</td>\n",
       "    </tr>\n",
       "    <tr>\n",
       "      <th>4</th>\n",
       "      <td>IntelCore2Duo_DDR2667_2GB</td>\n",
       "      <td>1.6</td>\n",
       "      <td>1</td>\n",
       "      <td>8</td>\n",
       "      <td>64</td>\n",
       "      <td>1</td>\n",
       "      <td>32</td>\n",
       "      <td>2</td>\n",
       "      <td>64</td>\n",
       "      <td>1</td>\n",
       "      <td>512</td>\n",
       "      <td>0</td>\n",
       "      <td>0</td>\n",
       "      <td>0</td>\n",
       "      <td>0</td>\n",
       "      <td>2</td>\n",
       "      <td>1</td>\n",
       "      <td>0</td>\n",
       "      <td>0</td>\n",
       "      <td>667</td>\n",
       "      <td>5</td>\n",
       "      <td>5899.16</td>\n",
       "      <td>2048</td>\n",
       "    </tr>\n",
       "  </tbody>\n",
       "</table>\n",
       "</div>"
      ],
      "text/plain": [
       "                        arch  cpu-clock  isa_1  ...  num-cpus  runtime  bus_speed\n",
       "0  IntelCore2Duo_DDR2667_2GB        1.6      1  ...         1  7049.80       2048\n",
       "1  IntelCore2Duo_DDR2667_2GB        1.6      1  ...         2  5936.48       2048\n",
       "2  IntelCore2Duo_DDR2667_2GB        1.6      1  ...         3  6163.20       2048\n",
       "3  IntelCore2Duo_DDR2667_2GB        1.6      1  ...         4  5656.76       2048\n",
       "4  IntelCore2Duo_DDR2667_2GB        1.6      1  ...         5  5899.16       2048\n",
       "\n",
       "[5 rows x 23 columns]"
      ]
     },
     "execution_count": 39,
     "metadata": {
      "tags": []
     },
     "output_type": "execute_result"
    }
   ],
   "source": [
    "encoded_data_frame.head()"
   ]
  },
  {
   "cell_type": "code",
   "execution_count": 0,
   "metadata": {
    "colab": {
     "base_uri": "https://localhost:8080/",
     "height": 241
    },
    "colab_type": "code",
    "id": "jV5-CA2OPY-Z",
    "outputId": "491e4c64-677d-4388-b3db-1df11ff4737b"
   },
   "outputs": [
    {
     "data": {
      "text/html": [
       "<div>\n",
       "<style scoped>\n",
       "    .dataframe tbody tr th:only-of-type {\n",
       "        vertical-align: middle;\n",
       "    }\n",
       "\n",
       "    .dataframe tbody tr th {\n",
       "        vertical-align: top;\n",
       "    }\n",
       "\n",
       "    .dataframe thead th {\n",
       "        text-align: right;\n",
       "    }\n",
       "</style>\n",
       "<table border=\"1\" class=\"dataframe\">\n",
       "  <thead>\n",
       "    <tr style=\"text-align: right;\">\n",
       "      <th></th>\n",
       "      <th>arch</th>\n",
       "      <th>cpu-clock</th>\n",
       "      <th>isa_1</th>\n",
       "      <th>l1d_assoc</th>\n",
       "      <th>l1d_cache_lines</th>\n",
       "      <th>l1d_shared_by_threads</th>\n",
       "      <th>l1d_size</th>\n",
       "      <th>l2_assoc</th>\n",
       "      <th>l2_cache_lines</th>\n",
       "      <th>l2_shared_by_threads</th>\n",
       "      <th>l2_size</th>\n",
       "      <th>l3_assoc</th>\n",
       "      <th>l3_cache_lines</th>\n",
       "      <th>l3_shared_by_threads</th>\n",
       "      <th>l3_size</th>\n",
       "      <th>mem-size</th>\n",
       "      <th>mem-type_1</th>\n",
       "      <th>mem_clock</th>\n",
       "      <th>num-cpus</th>\n",
       "      <th>runtime</th>\n",
       "      <th>bus_speed</th>\n",
       "    </tr>\n",
       "  </thead>\n",
       "  <tbody>\n",
       "    <tr>\n",
       "      <th>0</th>\n",
       "      <td>IntelXeonE52620_DDR41866_16GB</td>\n",
       "      <td>2.4</td>\n",
       "      <td>1</td>\n",
       "      <td>8</td>\n",
       "      <td>64</td>\n",
       "      <td>1</td>\n",
       "      <td>32</td>\n",
       "      <td>8</td>\n",
       "      <td>64</td>\n",
       "      <td>1</td>\n",
       "      <td>256</td>\n",
       "      <td>8</td>\n",
       "      <td>64</td>\n",
       "      <td>12</td>\n",
       "      <td>15360</td>\n",
       "      <td>16</td>\n",
       "      <td>1</td>\n",
       "      <td>1866</td>\n",
       "      <td>1</td>\n",
       "      <td>12945.40</td>\n",
       "      <td>32768</td>\n",
       "    </tr>\n",
       "    <tr>\n",
       "      <th>1</th>\n",
       "      <td>IntelXeonE52620_DDR41866_16GB</td>\n",
       "      <td>2.4</td>\n",
       "      <td>1</td>\n",
       "      <td>8</td>\n",
       "      <td>64</td>\n",
       "      <td>1</td>\n",
       "      <td>32</td>\n",
       "      <td>8</td>\n",
       "      <td>64</td>\n",
       "      <td>1</td>\n",
       "      <td>256</td>\n",
       "      <td>8</td>\n",
       "      <td>64</td>\n",
       "      <td>12</td>\n",
       "      <td>15360</td>\n",
       "      <td>16</td>\n",
       "      <td>1</td>\n",
       "      <td>1866</td>\n",
       "      <td>2</td>\n",
       "      <td>10084.36</td>\n",
       "      <td>32768</td>\n",
       "    </tr>\n",
       "    <tr>\n",
       "      <th>2</th>\n",
       "      <td>IntelXeonE52620_DDR41866_16GB</td>\n",
       "      <td>2.4</td>\n",
       "      <td>1</td>\n",
       "      <td>8</td>\n",
       "      <td>64</td>\n",
       "      <td>1</td>\n",
       "      <td>32</td>\n",
       "      <td>8</td>\n",
       "      <td>64</td>\n",
       "      <td>1</td>\n",
       "      <td>256</td>\n",
       "      <td>8</td>\n",
       "      <td>64</td>\n",
       "      <td>12</td>\n",
       "      <td>15360</td>\n",
       "      <td>16</td>\n",
       "      <td>1</td>\n",
       "      <td>1866</td>\n",
       "      <td>3</td>\n",
       "      <td>9943.28</td>\n",
       "      <td>32768</td>\n",
       "    </tr>\n",
       "    <tr>\n",
       "      <th>3</th>\n",
       "      <td>IntelXeonE52620_DDR41866_16GB</td>\n",
       "      <td>2.4</td>\n",
       "      <td>1</td>\n",
       "      <td>8</td>\n",
       "      <td>64</td>\n",
       "      <td>1</td>\n",
       "      <td>32</td>\n",
       "      <td>8</td>\n",
       "      <td>64</td>\n",
       "      <td>1</td>\n",
       "      <td>256</td>\n",
       "      <td>8</td>\n",
       "      <td>64</td>\n",
       "      <td>12</td>\n",
       "      <td>15360</td>\n",
       "      <td>16</td>\n",
       "      <td>1</td>\n",
       "      <td>1866</td>\n",
       "      <td>4</td>\n",
       "      <td>9433.28</td>\n",
       "      <td>32768</td>\n",
       "    </tr>\n",
       "    <tr>\n",
       "      <th>4</th>\n",
       "      <td>IntelXeonE52620_DDR41866_16GB</td>\n",
       "      <td>2.4</td>\n",
       "      <td>1</td>\n",
       "      <td>8</td>\n",
       "      <td>64</td>\n",
       "      <td>1</td>\n",
       "      <td>32</td>\n",
       "      <td>8</td>\n",
       "      <td>64</td>\n",
       "      <td>1</td>\n",
       "      <td>256</td>\n",
       "      <td>8</td>\n",
       "      <td>64</td>\n",
       "      <td>12</td>\n",
       "      <td>15360</td>\n",
       "      <td>16</td>\n",
       "      <td>1</td>\n",
       "      <td>1866</td>\n",
       "      <td>5</td>\n",
       "      <td>8592.68</td>\n",
       "      <td>32768</td>\n",
       "    </tr>\n",
       "  </tbody>\n",
       "</table>\n",
       "</div>"
      ],
      "text/plain": [
       "                            arch  cpu-clock  ...   runtime  bus_speed\n",
       "0  IntelXeonE52620_DDR41866_16GB        2.4  ...  12945.40      32768\n",
       "1  IntelXeonE52620_DDR41866_16GB        2.4  ...  10084.36      32768\n",
       "2  IntelXeonE52620_DDR41866_16GB        2.4  ...   9943.28      32768\n",
       "3  IntelXeonE52620_DDR41866_16GB        2.4  ...   9433.28      32768\n",
       "4  IntelXeonE52620_DDR41866_16GB        2.4  ...   8592.68      32768\n",
       "\n",
       "[5 rows x 21 columns]"
      ]
     },
     "execution_count": 40,
     "metadata": {
      "tags": []
     },
     "output_type": "execute_result"
    }
   ],
   "source": [
    "encoded_data_frame_n.head()"
   ]
  },
  {
   "cell_type": "code",
   "execution_count": 0,
   "metadata": {
    "colab": {
     "base_uri": "https://localhost:8080/",
     "height": 136
    },
    "colab_type": "code",
    "id": "blMY6nwRPY-f",
    "outputId": "d3bd282e-590b-40b6-fe75-3d9da5806893"
   },
   "outputs": [
    {
     "data": {
      "text/plain": [
       "Index(['arch', 'cpu-clock', 'isa_1', 'l1d_assoc', 'l1d_cache_lines',\n",
       "       'l1d_shared_by_threads', 'l1d_size', 'l2_assoc', 'l2_cache_lines',\n",
       "       'l2_shared_by_threads', 'l2_size', 'l3_assoc', 'l3_cache_lines',\n",
       "       'l3_shared_by_threads', 'l3_size', 'mem-size', 'mem-type_1',\n",
       "       'mem-type_2', 'mem-type_3', 'mem_clock', 'num-cpus', 'runtime',\n",
       "       'bus_speed'],\n",
       "      dtype='object')"
      ]
     },
     "execution_count": 41,
     "metadata": {
      "tags": []
     },
     "output_type": "execute_result"
    }
   ],
   "source": [
    "encoded_data_frame.columns"
   ]
  },
  {
   "cell_type": "code",
   "execution_count": 0,
   "metadata": {
    "colab": {
     "base_uri": "https://localhost:8080/",
     "height": 119
    },
    "colab_type": "code",
    "id": "c3gTDhCAPY-l",
    "outputId": "eda9c23f-dd03-439f-f287-9a1b47a92cf1"
   },
   "outputs": [
    {
     "data": {
      "text/plain": [
       "Index(['arch', 'cpu-clock', 'isa_1', 'l1d_assoc', 'l1d_cache_lines',\n",
       "       'l1d_shared_by_threads', 'l1d_size', 'l2_assoc', 'l2_cache_lines',\n",
       "       'l2_shared_by_threads', 'l2_size', 'l3_assoc', 'l3_cache_lines',\n",
       "       'l3_shared_by_threads', 'l3_size', 'mem-size', 'mem-type_1',\n",
       "       'mem_clock', 'num-cpus', 'runtime', 'bus_speed'],\n",
       "      dtype='object')"
      ]
     },
     "execution_count": 42,
     "metadata": {
      "tags": []
     },
     "output_type": "execute_result"
    }
   ],
   "source": [
    "encoded_data_frame_n.columns"
   ]
  },
  {
   "cell_type": "code",
   "execution_count": 0,
   "metadata": {
    "colab": {},
    "colab_type": "code",
    "id": "gdW80wzNPY-r"
   },
   "outputs": [],
   "source": [
    "total_data_n = encoded_data_frame_n.drop(columns = ['arch','mem-type_1' ])"
   ]
  },
  {
   "cell_type": "code",
   "execution_count": 0,
   "metadata": {
    "colab": {},
    "colab_type": "code",
    "id": "FI5GNgHyPY-w"
   },
   "outputs": [],
   "source": [
    "total_data = encoded_data_frame.drop(columns = ['arch','mem-type_1' ,'mem-type_2' ,'mem-type_3' ])"
   ]
  },
  {
   "cell_type": "code",
   "execution_count": 0,
   "metadata": {
    "colab": {
     "base_uri": "https://localhost:8080/",
     "height": 221
    },
    "colab_type": "code",
    "id": "FwLKC55GPY-3",
    "outputId": "744b8090-855b-44be-e994-1d414d18bb80"
   },
   "outputs": [
    {
     "data": {
      "text/plain": [
       "(Index(['cpu-clock', 'isa_1', 'l1d_assoc', 'l1d_cache_lines',\n",
       "        'l1d_shared_by_threads', 'l1d_size', 'l2_assoc', 'l2_cache_lines',\n",
       "        'l2_shared_by_threads', 'l2_size', 'l3_assoc', 'l3_cache_lines',\n",
       "        'l3_shared_by_threads', 'l3_size', 'mem-size', 'mem_clock', 'num-cpus',\n",
       "        'runtime', 'bus_speed'],\n",
       "       dtype='object'),\n",
       " Index(['cpu-clock', 'isa_1', 'l1d_assoc', 'l1d_cache_lines',\n",
       "        'l1d_shared_by_threads', 'l1d_size', 'l2_assoc', 'l2_cache_lines',\n",
       "        'l2_shared_by_threads', 'l2_size', 'l3_assoc', 'l3_cache_lines',\n",
       "        'l3_shared_by_threads', 'l3_size', 'mem-size', 'mem_clock', 'num-cpus',\n",
       "        'runtime', 'bus_speed'],\n",
       "       dtype='object'))"
      ]
     },
     "execution_count": 45,
     "metadata": {
      "tags": []
     },
     "output_type": "execute_result"
    }
   ],
   "source": [
    "total_data.columns, total_data_n.columns"
   ]
  },
  {
   "cell_type": "code",
   "execution_count": 0,
   "metadata": {
    "colab": {},
    "colab_type": "code",
    "id": "__UxO5IZPY--"
   },
   "outputs": [],
   "source": [
    "total_data = total_data.fillna(0)\n",
    "total_data_n = total_data_n.fillna(0)"
   ]
  },
  {
   "cell_type": "code",
   "execution_count": 0,
   "metadata": {
    "colab": {},
    "colab_type": "code",
    "id": "kgRQWlyrPY_E"
   },
   "outputs": [],
   "source": [
    "X_Intel = total_data.drop(columns = ['runtime']).to_numpy()\n",
    "Y_Intel = total_data['runtime'].to_numpy()"
   ]
  },
  {
   "cell_type": "code",
   "execution_count": 0,
   "metadata": {
    "colab": {},
    "colab_type": "code",
    "id": "xj8_o2sGPY_J"
   },
   "outputs": [],
   "source": [
    "X_ARM = total_data_n.drop(columns = ['runtime']).to_numpy()\n",
    "Y_ARM = total_data_n['runtime'].to_numpy()"
   ]
  },
  {
   "cell_type": "code",
   "execution_count": 0,
   "metadata": {
    "colab": {
     "base_uri": "https://localhost:8080/",
     "height": 34
    },
    "colab_type": "code",
    "id": "_GYdAqd-PY_O",
    "outputId": "6e266078-5810-45f3-a36b-2e09d9c38321"
   },
   "outputs": [
    {
     "data": {
      "text/plain": [
       "((280, 18), (40, 18), (280,), (40,))"
      ]
     },
     "execution_count": 49,
     "metadata": {
      "tags": []
     },
     "output_type": "execute_result"
    }
   ],
   "source": [
    "X_Intel.shape, X_ARM.shape, Y_Intel.shape, Y_ARM.shape"
   ]
  },
  {
   "cell_type": "code",
   "execution_count": 0,
   "metadata": {
    "colab": {
     "base_uri": "https://localhost:8080/",
     "height": 85
    },
    "colab_type": "code",
    "id": "xQM6d2M2PY_U",
    "outputId": "16762660-42f1-475c-e12e-d441a00a3d0c"
   },
   "outputs": [
    {
     "data": {
      "text/plain": [
       "(array([7049.8 , 5936.48, 6163.2 , 5656.76, 5899.16, 5675.4 , 5378.96,\n",
       "        5242.44, 7049.8 , 5936.48]),\n",
       " array([12945.4 , 10084.36,  9943.28,  9433.28,  8592.68,  7829.96,\n",
       "         7747.32,  7541.84, 15577.2 , 12911.44]))"
      ]
     },
     "execution_count": 50,
     "metadata": {
      "tags": []
     },
     "output_type": "execute_result"
    }
   ],
   "source": [
    "Y_Intel[:10], Y_ARM[:10] "
   ]
  },
  {
   "cell_type": "code",
   "execution_count": 0,
   "metadata": {
    "colab": {
     "base_uri": "https://localhost:8080/",
     "height": 51
    },
    "colab_type": "code",
    "id": "wzbI3cIbPY_c",
    "outputId": "ddbdabf8-1d17-48a3-e59f-93ab0df29e44"
   },
   "outputs": [
    {
     "name": "stdout",
     "output_type": "stream",
     "text": [
      "(4, 18) (36, 18) (4,) (36,)\n",
      "(284, 18) (284,) (36, 18) (36,)\n"
     ]
    }
   ],
   "source": [
    "# Separating ARM data to 1% and 99%\n",
    "X_train_ARM, X_test_ARM, Y_train_ARM, Y_test_ARM = train_test_split(X_ARM, Y_ARM, test_size = 0.90, random_state=42)\n",
    "print(X_train_ARM.shape, X_test_ARM.shape, Y_train_ARM.shape, Y_test_ARM.shape)\n",
    "X_train_Intel = np.append(X_Intel, X_train_ARM,axis = 0)\n",
    "Y_train_Intel = np.append(Y_Intel, Y_train_ARM,axis = 0)\n",
    "print(X_train_Intel.shape, Y_train_Intel.shape, X_test_ARM.shape, Y_test_ARM.shape)"
   ]
  },
  {
   "cell_type": "code",
   "execution_count": 0,
   "metadata": {
    "colab": {
     "base_uri": "https://localhost:8080/",
     "height": 34
    },
    "colab_type": "code",
    "id": "hd6E2_KdPY_h",
    "outputId": "52362dd4-26e3-4387-a600-4624c91576eb"
   },
   "outputs": [
    {
     "name": "stdout",
     "output_type": "stream",
     "text": [
      "(280, 18) (280, 1) (4, 18) (4, 1) (36, 18) (36, 1)\n"
     ]
    }
   ],
   "source": [
    "scaler_x = StandardScaler()\n",
    "X_Intel = scaler_x.fit_transform(X_Intel)\n",
    "X_train_ARM = scaler_x.fit_transform(X_train_ARM)\n",
    "X_test_ARM = scaler_x.fit_transform(X_test_ARM)\n",
    "scaler_y = StandardScaler()\n",
    "Y_Intel = np.reshape(Y_Intel, (len(Y_Intel),1))\n",
    "Y_test_ARM = np.reshape(Y_test_ARM, (len(Y_test_ARM),1))\n",
    "Y_train_ARM = np.reshape(Y_train_ARM, (len(Y_train_ARM),1))\n",
    "Y_Intel = scaler_y.fit_transform(Y_Intel)\n",
    "Y_test_ARM = scaler_y.fit_transform(Y_test_ARM)\n",
    "Y_train_ARM = scaler_y.fit_transform(Y_train_ARM)\n",
    "print(X_Intel.shape, Y_Intel.shape, X_train_ARM.shape, Y_train_ARM.shape, X_test_ARM.shape, Y_test_ARM.shape)"
   ]
  },
  {
   "cell_type": "code",
   "execution_count": 0,
   "metadata": {
    "colab": {},
    "colab_type": "code",
    "id": "eEfGmTi8PY_s"
   },
   "outputs": [],
   "source": [
    "def absolute_percentage_error(Y_test, Y_pred):\n",
    "    error = 0\n",
    "    for i in range(len(Y_test)):\n",
    "        if(Y_test[i]!= 0 ):\n",
    "            error = error + (abs(Y_test[i] - Y_pred[i]))/Y_test[i]\n",
    "        \n",
    "    error = error/ len(Y_test)\n",
    "    return error"
   ]
  },
  {
   "cell_type": "code",
   "execution_count": 0,
   "metadata": {
    "colab": {
     "base_uri": "https://localhost:8080/",
     "height": 755
    },
    "colab_type": "code",
    "id": "6YqBJdtvPY_y",
    "outputId": "879b6bbd-a977-444d-ab4b-417c0732b77a"
   },
   "outputs": [
    {
     "name": "stdout",
     "output_type": "stream",
     "text": [
      "Model: \"sequential_2\"\n",
      "_________________________________________________________________\n",
      "Layer (type)                 Output Shape              Param #   \n",
      "=================================================================\n",
      "dense_5 (Dense)              (None, 64)                1216      \n",
      "_________________________________________________________________\n",
      "dense_6 (Dense)              (None, 64)                4160      \n",
      "_________________________________________________________________\n",
      "dense_7 (Dense)              (None, 64)                4160      \n",
      "_________________________________________________________________\n",
      "dense_8 (Dense)              (None, 1)                 65        \n",
      "=================================================================\n",
      "Total params: 9,601\n",
      "Trainable params: 9,601\n",
      "Non-trainable params: 0\n",
      "_________________________________________________________________\n",
      "Model : DNN 2 None\n"
     ]
    },
    {
     "data": {
      "image/png": "[encoded data removed]",
      "text/plain": [
       "<IPython.core.display.Image object>"
      ]
     },
     "execution_count": 54,
     "metadata": {
      "tags": []
     },
     "output_type": "execute_result"
    }
   ],
   "source": [
    "dnn_2 = Sequential()\n",
    "dnn_2.add(Dense(64, input_dim = 18, activation='relu'))\n",
    "# dnn_2.add(Dropout(0.4))\n",
    "dnn_2.add(Dense(64, activation='relu'))\n",
    "# dnn_2.add(Dropout(0.4))\n",
    "dnn_2.add(Dense(64, activation='relu'))\n",
    "# dnn_2.add(Dropout(0.4))\n",
    "dnn_2.add(Dense(1, activation='linear'))\n",
    "print('Model : DNN 2', dnn_2.summary())\n",
    "plot_model(dnn_2)"
   ]
  },
  {
   "cell_type": "code",
   "execution_count": 0,
   "metadata": {
    "colab": {
     "base_uri": "https://localhost:8080/",
     "height": 1000
    },
    "colab_type": "code",
    "id": "_6Uox_BtPY_6",
    "outputId": "006be984-e7d1-4285-e393-dadca219349e"
   },
   "outputs": [
    {
     "name": "stdout",
     "output_type": "stream",
     "text": [
      "Epoch 1/100\n",
      " - 0s - loss: 0.6398 - mean_absolute_error: 0.6398\n",
      "Epoch 2/100\n",
      " - 0s - loss: 0.6216 - mean_absolute_error: 0.6216\n",
      "Epoch 3/100\n",
      " - 0s - loss: 0.6209 - mean_absolute_error: 0.6209\n",
      "Epoch 4/100\n",
      " - 0s - loss: 0.6269 - mean_absolute_error: 0.6269\n",
      "Epoch 5/100\n",
      " - 0s - loss: 0.6188 - mean_absolute_error: 0.6188\n",
      "Epoch 6/100\n",
      " - 0s - loss: 0.6206 - mean_absolute_error: 0.6206\n",
      "Epoch 7/100\n",
      " - 0s - loss: 0.6195 - mean_absolute_error: 0.6195\n",
      "Epoch 8/100\n",
      " - 0s - loss: 0.6164 - mean_absolute_error: 0.6164\n",
      "Epoch 9/100\n",
      " - 0s - loss: 0.6142 - mean_absolute_error: 0.6142\n",
      "Epoch 10/100\n",
      " - 0s - loss: 0.6181 - mean_absolute_error: 0.6181\n",
      "Epoch 11/100\n",
      " - 0s - loss: 0.6172 - mean_absolute_error: 0.6172\n",
      "Epoch 12/100\n",
      " - 0s - loss: 0.6190 - mean_absolute_error: 0.6190\n",
      "Epoch 13/100\n",
      " - 0s - loss: 0.6215 - mean_absolute_error: 0.6215\n",
      "Epoch 14/100\n",
      " - 0s - loss: 0.6150 - mean_absolute_error: 0.6150\n",
      "Epoch 15/100\n",
      " - 0s - loss: 0.6206 - mean_absolute_error: 0.6206\n",
      "Epoch 16/100\n",
      " - 0s - loss: 0.6154 - mean_absolute_error: 0.6154\n",
      "Epoch 17/100\n",
      " - 0s - loss: 0.6140 - mean_absolute_error: 0.6140\n",
      "Epoch 18/100\n",
      " - 0s - loss: 0.6132 - mean_absolute_error: 0.6132\n",
      "Epoch 19/100\n",
      " - 0s - loss: 0.6110 - mean_absolute_error: 0.6110\n",
      "Epoch 20/100\n",
      " - 0s - loss: 0.6129 - mean_absolute_error: 0.6129\n",
      "Epoch 21/100\n",
      " - 0s - loss: 0.6155 - mean_absolute_error: 0.6155\n",
      "Epoch 22/100\n",
      " - 0s - loss: 0.6090 - mean_absolute_error: 0.6090\n",
      "Epoch 23/100\n",
      " - 0s - loss: 0.6122 - mean_absolute_error: 0.6122\n",
      "Epoch 24/100\n",
      " - 0s - loss: 0.6109 - mean_absolute_error: 0.6109\n",
      "Epoch 25/100\n",
      " - 0s - loss: 0.6166 - mean_absolute_error: 0.6166\n",
      "Epoch 26/100\n",
      " - 0s - loss: 0.6199 - mean_absolute_error: 0.6199\n",
      "Epoch 27/100\n",
      " - 0s - loss: 0.6148 - mean_absolute_error: 0.6148\n",
      "Epoch 28/100\n",
      " - 0s - loss: 0.6112 - mean_absolute_error: 0.6112\n",
      "Epoch 29/100\n",
      " - 0s - loss: 0.6096 - mean_absolute_error: 0.6096\n",
      "Epoch 30/100\n",
      " - 0s - loss: 0.6116 - mean_absolute_error: 0.6116\n",
      "Epoch 31/100\n",
      " - 0s - loss: 0.6116 - mean_absolute_error: 0.6116\n",
      "Epoch 32/100\n",
      " - 0s - loss: 0.6109 - mean_absolute_error: 0.6109\n",
      "Epoch 33/100\n",
      " - 0s - loss: 0.6104 - mean_absolute_error: 0.6104\n",
      "Epoch 34/100\n",
      " - 0s - loss: 0.6112 - mean_absolute_error: 0.6112\n",
      "Epoch 35/100\n",
      " - 0s - loss: 0.6070 - mean_absolute_error: 0.6070\n",
      "Epoch 36/100\n",
      " - 0s - loss: 0.6110 - mean_absolute_error: 0.6110\n",
      "Epoch 37/100\n",
      " - 0s - loss: 0.6091 - mean_absolute_error: 0.6091\n",
      "Epoch 38/100\n",
      " - 0s - loss: 0.6107 - mean_absolute_error: 0.6107\n",
      "Epoch 39/100\n",
      " - 0s - loss: 0.6095 - mean_absolute_error: 0.6095\n",
      "Epoch 40/100\n",
      " - 0s - loss: 0.6078 - mean_absolute_error: 0.6078\n",
      "Epoch 41/100\n",
      " - 0s - loss: 0.6090 - mean_absolute_error: 0.6090\n",
      "Epoch 42/100\n",
      " - 0s - loss: 0.6119 - mean_absolute_error: 0.6119\n",
      "Epoch 43/100\n",
      " - 0s - loss: 0.6078 - mean_absolute_error: 0.6078\n",
      "Epoch 44/100\n",
      " - 0s - loss: 0.6076 - mean_absolute_error: 0.6076\n",
      "Epoch 45/100\n",
      " - 0s - loss: 0.6077 - mean_absolute_error: 0.6077\n",
      "Epoch 46/100\n",
      " - 0s - loss: 0.6078 - mean_absolute_error: 0.6078\n",
      "Epoch 47/100\n",
      " - 0s - loss: 0.6093 - mean_absolute_error: 0.6093\n",
      "Epoch 48/100\n",
      " - 0s - loss: 0.6052 - mean_absolute_error: 0.6052\n",
      "Epoch 49/100\n",
      " - 0s - loss: 0.6074 - mean_absolute_error: 0.6074\n",
      "Epoch 50/100\n",
      " - 0s - loss: 0.6118 - mean_absolute_error: 0.6118\n",
      "Epoch 51/100\n",
      " - 0s - loss: 0.6084 - mean_absolute_error: 0.6084\n",
      "Epoch 52/100\n",
      " - 0s - loss: 0.6067 - mean_absolute_error: 0.6067\n",
      "Epoch 53/100\n",
      " - 0s - loss: 0.6081 - mean_absolute_error: 0.6081\n",
      "Epoch 54/100\n",
      " - 0s - loss: 0.6092 - mean_absolute_error: 0.6092\n",
      "Epoch 55/100\n",
      " - 0s - loss: 0.6057 - mean_absolute_error: 0.6057\n",
      "Epoch 56/100\n",
      " - 0s - loss: 0.6076 - mean_absolute_error: 0.6076\n",
      "Epoch 57/100\n",
      " - 0s - loss: 0.6073 - mean_absolute_error: 0.6073\n",
      "Epoch 58/100\n",
      " - 0s - loss: 0.6070 - mean_absolute_error: 0.6070\n",
      "Epoch 59/100\n",
      " - 0s - loss: 0.6076 - mean_absolute_error: 0.6076\n",
      "Epoch 60/100\n",
      " - 0s - loss: 0.6066 - mean_absolute_error: 0.6066\n",
      "Epoch 61/100\n",
      " - 0s - loss: 0.6074 - mean_absolute_error: 0.6074\n",
      "Epoch 62/100\n",
      " - 0s - loss: 0.6060 - mean_absolute_error: 0.6060\n",
      "Epoch 63/100\n",
      " - 0s - loss: 0.6062 - mean_absolute_error: 0.6062\n",
      "Epoch 64/100\n",
      " - 0s - loss: 0.6059 - mean_absolute_error: 0.6059\n",
      "Epoch 65/100\n",
      " - 0s - loss: 0.6050 - mean_absolute_error: 0.6050\n",
      "Epoch 66/100\n",
      " - 0s - loss: 0.6055 - mean_absolute_error: 0.6055\n",
      "Epoch 67/100\n",
      " - 0s - loss: 0.6064 - mean_absolute_error: 0.6064\n",
      "Epoch 68/100\n",
      " - 0s - loss: 0.6070 - mean_absolute_error: 0.6070\n",
      "Epoch 69/100\n",
      " - 0s - loss: 0.6068 - mean_absolute_error: 0.6068\n",
      "Epoch 70/100\n",
      " - 0s - loss: 0.6026 - mean_absolute_error: 0.6026\n",
      "Epoch 71/100\n",
      " - 0s - loss: 0.6049 - mean_absolute_error: 0.6049\n",
      "Epoch 72/100\n",
      " - 0s - loss: 0.6079 - mean_absolute_error: 0.6079\n",
      "Epoch 73/100\n",
      " - 0s - loss: 0.6051 - mean_absolute_error: 0.6051\n",
      "Epoch 74/100\n",
      " - 0s - loss: 0.6071 - mean_absolute_error: 0.6071\n",
      "Epoch 75/100\n",
      " - 0s - loss: 0.6087 - mean_absolute_error: 0.6087\n",
      "Epoch 76/100\n",
      " - 0s - loss: 0.6040 - mean_absolute_error: 0.6040\n",
      "Epoch 77/100\n",
      " - 0s - loss: 0.6077 - mean_absolute_error: 0.6077\n",
      "Epoch 78/100\n",
      " - 0s - loss: 0.6113 - mean_absolute_error: 0.6113\n",
      "Epoch 79/100\n",
      " - 0s - loss: 0.6032 - mean_absolute_error: 0.6032\n",
      "Epoch 80/100\n",
      " - 0s - loss: 0.6038 - mean_absolute_error: 0.6038\n",
      "Epoch 81/100\n",
      " - 0s - loss: 0.6050 - mean_absolute_error: 0.6050\n",
      "Epoch 82/100\n",
      " - 0s - loss: 0.6022 - mean_absolute_error: 0.6022\n",
      "Epoch 83/100\n",
      " - 0s - loss: 0.6073 - mean_absolute_error: 0.6073\n",
      "Epoch 84/100\n",
      " - 0s - loss: 0.6025 - mean_absolute_error: 0.6025\n",
      "Epoch 85/100\n",
      " - 0s - loss: 0.6026 - mean_absolute_error: 0.6026\n",
      "Epoch 86/100\n",
      " - 0s - loss: 0.6055 - mean_absolute_error: 0.6055\n",
      "Epoch 87/100\n",
      " - 0s - loss: 0.6012 - mean_absolute_error: 0.6012\n",
      "Epoch 88/100\n",
      " - 0s - loss: 0.6040 - mean_absolute_error: 0.6040\n",
      "Epoch 89/100\n",
      " - 0s - loss: 0.6044 - mean_absolute_error: 0.6044\n",
      "Epoch 90/100\n",
      " - 0s - loss: 0.6053 - mean_absolute_error: 0.6053\n",
      "Epoch 91/100\n",
      " - 0s - loss: 0.6035 - mean_absolute_error: 0.6035\n",
      "Epoch 92/100\n",
      " - 0s - loss: 0.6027 - mean_absolute_error: 0.6027\n",
      "Epoch 93/100\n",
      " - 0s - loss: 0.6031 - mean_absolute_error: 0.6031\n",
      "Epoch 94/100\n",
      " - 0s - loss: 0.6035 - mean_absolute_error: 0.6035\n",
      "Epoch 95/100\n",
      " - 0s - loss: 0.6020 - mean_absolute_error: 0.6020\n",
      "Epoch 96/100\n",
      " - 0s - loss: 0.6017 - mean_absolute_error: 0.6017\n",
      "Epoch 97/100\n",
      " - 0s - loss: 0.6047 - mean_absolute_error: 0.6047\n",
      "Epoch 98/100\n",
      " - 0s - loss: 0.6031 - mean_absolute_error: 0.6031\n",
      "Epoch 99/100\n",
      " - 0s - loss: 0.6043 - mean_absolute_error: 0.6043\n",
      "Epoch 100/100\n",
      " - 0s - loss: 0.6052 - mean_absolute_error: 0.6052\n"
     ]
    },
    {
     "data": {
      "text/plain": [
       "<keras.callbacks.History at 0x7f9b418e6c88>"
      ]
     },
     "execution_count": 55,
     "metadata": {
      "tags": []
     },
     "output_type": "execute_result"
    }
   ],
   "source": [
    "dnn_2.compile(loss='mae', optimizer='adam', metrics=['mae'])\n",
    "dnn_2.fit(X_Intel, Y_Intel, epochs = 100, batch_size = 10, verbose = 2)"
   ]
  },
  {
   "cell_type": "code",
   "execution_count": 0,
   "metadata": {
    "colab": {
     "base_uri": "https://localhost:8080/",
     "height": 119
    },
    "colab_type": "code",
    "id": "VRdnw9J7lmzM",
    "outputId": "b6b404d4-b8b3-4e8c-9b69-a208434ca97b"
   },
   "outputs": [
    {
     "name": "stdout",
     "output_type": "stream",
     "text": [
      "<keras.layers.core.Dense object at 0x7f9b418ddf60>\n",
      "<keras.layers.core.Dense object at 0x7f9b418dde48>\n",
      "<keras.layers.core.Dense object at 0x7f9b418ddf60> False\n",
      "<keras.layers.core.Dense object at 0x7f9b418dde48> False\n",
      "<keras.layers.core.Dense object at 0x7f9b418edeb8> True\n",
      "<keras.layers.core.Dense object at 0x7f9b4072b4e0> True\n"
     ]
    }
   ],
   "source": [
    "# Freeze the layers except the last 2 dense layers\n",
    "for layer in dnn_2.layers[:-2]:\n",
    "    layer.trainable = False\n",
    "    print(layer)\n",
    "\n",
    "# Check the trainable status of the individual layers\n",
    "for layer in dnn_2.layers:\n",
    "    print(layer, layer.trainable)"
   ]
  },
  {
   "cell_type": "code",
   "execution_count": 0,
   "metadata": {
    "colab": {
     "base_uri": "https://localhost:8080/",
     "height": 1000
    },
    "colab_type": "code",
    "id": "vz67fVoLmf3x",
    "outputId": "f467c3cf-7170-4509-b362-249d9ad60c2b"
   },
   "outputs": [
    {
     "name": "stdout",
     "output_type": "stream",
     "text": [
      "Epoch 1/100\n",
      " - 0s - loss: 0.8769 - mean_absolute_error: 0.8769\n",
      "Epoch 2/100\n",
      " - 0s - loss: 0.8542 - mean_absolute_error: 0.8542\n",
      "Epoch 3/100\n",
      " - 0s - loss: 0.8368 - mean_absolute_error: 0.8368\n",
      "Epoch 4/100\n",
      " - 0s - loss: 0.8018 - mean_absolute_error: 0.8018\n",
      "Epoch 5/100\n",
      " - 0s - loss: 0.7820 - mean_absolute_error: 0.7820\n",
      "Epoch 6/100\n",
      " - 0s - loss: 0.7432 - mean_absolute_error: 0.7432\n",
      "Epoch 7/100\n",
      " - 0s - loss: 0.7044 - mean_absolute_error: 0.7044\n",
      "Epoch 8/100\n",
      " - 0s - loss: 0.6734 - mean_absolute_error: 0.6734\n",
      "Epoch 9/100\n",
      " - 0s - loss: 0.6445 - mean_absolute_error: 0.6445\n"
     ]
    },
    {
     "name": "stderr",
     "output_type": "stream",
     "text": [
      "/usr/local/lib/python3.6/dist-packages/keras/engine/training.py:493: UserWarning: Discrepancy between trainable weights and collected trainable weights, did you set `model.trainable` without calling `model.compile` after ?\n",
      "  'Discrepancy between trainable weights and collected trainable'\n"
     ]
    },
    {
     "name": "stdout",
     "output_type": "stream",
     "text": [
      "Epoch 10/100\n",
      " - 0s - loss: 0.6427 - mean_absolute_error: 0.6427\n",
      "Epoch 11/100\n",
      " - 0s - loss: 0.5870 - mean_absolute_error: 0.5870\n",
      "Epoch 12/100\n",
      " - 0s - loss: 0.6170 - mean_absolute_error: 0.6170\n",
      "Epoch 13/100\n",
      " - 0s - loss: 0.6001 - mean_absolute_error: 0.6001\n",
      "Epoch 14/100\n",
      " - 0s - loss: 0.5273 - mean_absolute_error: 0.5273\n",
      "Epoch 15/100\n",
      " - 0s - loss: 0.4505 - mean_absolute_error: 0.4505\n",
      "Epoch 16/100\n",
      " - 0s - loss: 0.4529 - mean_absolute_error: 0.4529\n",
      "Epoch 17/100\n",
      " - 0s - loss: 0.4520 - mean_absolute_error: 0.4520\n",
      "Epoch 18/100\n",
      " - 0s - loss: 0.4067 - mean_absolute_error: 0.4067\n",
      "Epoch 19/100\n",
      " - 0s - loss: 0.4205 - mean_absolute_error: 0.4205\n",
      "Epoch 20/100\n",
      " - 0s - loss: 0.4179 - mean_absolute_error: 0.4179\n",
      "Epoch 21/100\n",
      " - 0s - loss: 0.3926 - mean_absolute_error: 0.3926\n",
      "Epoch 22/100\n",
      " - 0s - loss: 0.3840 - mean_absolute_error: 0.3840\n",
      "Epoch 23/100\n",
      " - 0s - loss: 0.3855 - mean_absolute_error: 0.3855\n",
      "Epoch 24/100\n",
      " - 0s - loss: 0.3662 - mean_absolute_error: 0.3662\n",
      "Epoch 25/100\n",
      " - 0s - loss: 0.3883 - mean_absolute_error: 0.3883\n",
      "Epoch 26/100\n",
      " - 0s - loss: 0.4325 - mean_absolute_error: 0.4325\n",
      "Epoch 27/100\n",
      " - 0s - loss: 0.4128 - mean_absolute_error: 0.4128\n",
      "Epoch 28/100\n",
      " - 0s - loss: 0.3405 - mean_absolute_error: 0.3405\n",
      "Epoch 29/100\n",
      " - 0s - loss: 0.4283 - mean_absolute_error: 0.4283\n",
      "Epoch 30/100\n",
      " - 0s - loss: 0.4446 - mean_absolute_error: 0.4446\n",
      "Epoch 31/100\n",
      " - 0s - loss: 0.4123 - mean_absolute_error: 0.4123\n",
      "Epoch 32/100\n",
      " - 0s - loss: 0.3761 - mean_absolute_error: 0.3761\n",
      "Epoch 33/100\n",
      " - 0s - loss: 0.3915 - mean_absolute_error: 0.3915\n",
      "Epoch 34/100\n",
      " - 0s - loss: 0.3796 - mean_absolute_error: 0.3796\n",
      "Epoch 35/100\n",
      " - 0s - loss: 0.3891 - mean_absolute_error: 0.3891\n",
      "Epoch 36/100\n",
      " - 0s - loss: 0.4026 - mean_absolute_error: 0.4026\n",
      "Epoch 37/100\n",
      " - 0s - loss: 0.3866 - mean_absolute_error: 0.3866\n",
      "Epoch 38/100\n",
      " - 0s - loss: 0.3688 - mean_absolute_error: 0.3688\n",
      "Epoch 39/100\n",
      " - 0s - loss: 0.3830 - mean_absolute_error: 0.3830\n",
      "Epoch 40/100\n",
      " - 0s - loss: 0.3709 - mean_absolute_error: 0.3709\n",
      "Epoch 41/100\n",
      " - 0s - loss: 0.3548 - mean_absolute_error: 0.3548\n",
      "Epoch 42/100\n",
      " - 0s - loss: 0.3939 - mean_absolute_error: 0.3939\n",
      "Epoch 43/100\n",
      " - 0s - loss: 0.3916 - mean_absolute_error: 0.3916\n",
      "Epoch 44/100\n",
      " - 0s - loss: 0.3759 - mean_absolute_error: 0.3759\n",
      "Epoch 45/100\n",
      " - 0s - loss: 0.3570 - mean_absolute_error: 0.3570\n",
      "Epoch 46/100\n",
      " - 0s - loss: 0.4013 - mean_absolute_error: 0.4013\n",
      "Epoch 47/100\n",
      " - 0s - loss: 0.3919 - mean_absolute_error: 0.3919\n",
      "Epoch 48/100\n",
      " - 0s - loss: 0.3481 - mean_absolute_error: 0.3481\n",
      "Epoch 49/100\n",
      " - 0s - loss: 0.3738 - mean_absolute_error: 0.3738\n",
      "Epoch 50/100\n",
      " - 0s - loss: 0.3763 - mean_absolute_error: 0.3763\n",
      "Epoch 51/100\n",
      " - 0s - loss: 0.3548 - mean_absolute_error: 0.3548\n",
      "Epoch 52/100\n",
      " - 0s - loss: 0.3463 - mean_absolute_error: 0.3463\n",
      "Epoch 53/100\n",
      " - 0s - loss: 0.3523 - mean_absolute_error: 0.3523\n",
      "Epoch 54/100\n",
      " - 0s - loss: 0.3493 - mean_absolute_error: 0.3493\n",
      "Epoch 55/100\n",
      " - 0s - loss: 0.3437 - mean_absolute_error: 0.3437\n",
      "Epoch 56/100\n",
      " - 0s - loss: 0.3687 - mean_absolute_error: 0.3687\n",
      "Epoch 57/100\n",
      " - 0s - loss: 0.3816 - mean_absolute_error: 0.3816\n",
      "Epoch 58/100\n",
      " - 0s - loss: 0.3647 - mean_absolute_error: 0.3647\n",
      "Epoch 59/100\n",
      " - 0s - loss: 0.3818 - mean_absolute_error: 0.3818\n",
      "Epoch 60/100\n",
      " - 0s - loss: 0.4069 - mean_absolute_error: 0.4069\n",
      "Epoch 61/100\n",
      " - 0s - loss: 0.3902 - mean_absolute_error: 0.3902\n",
      "Epoch 62/100\n",
      " - 0s - loss: 0.3687 - mean_absolute_error: 0.3687\n",
      "Epoch 63/100\n",
      " - 0s - loss: 0.3951 - mean_absolute_error: 0.3951\n",
      "Epoch 64/100\n",
      " - 0s - loss: 0.3949 - mean_absolute_error: 0.3949\n",
      "Epoch 65/100\n",
      " - 0s - loss: 0.3616 - mean_absolute_error: 0.3616\n",
      "Epoch 66/100\n",
      " - 0s - loss: 0.3676 - mean_absolute_error: 0.3676\n",
      "Epoch 67/100\n",
      " - 0s - loss: 0.3700 - mean_absolute_error: 0.3700\n",
      "Epoch 68/100\n",
      " - 0s - loss: 0.3428 - mean_absolute_error: 0.3428\n",
      "Epoch 69/100\n",
      " - 0s - loss: 0.3820 - mean_absolute_error: 0.3820\n",
      "Epoch 70/100\n",
      " - 0s - loss: 0.3847 - mean_absolute_error: 0.3847\n",
      "Epoch 71/100\n",
      " - 0s - loss: 0.3615 - mean_absolute_error: 0.3615\n",
      "Epoch 72/100\n",
      " - 0s - loss: 0.3721 - mean_absolute_error: 0.3721\n",
      "Epoch 73/100\n",
      " - 0s - loss: 0.3829 - mean_absolute_error: 0.3829\n",
      "Epoch 74/100\n",
      " - 0s - loss: 0.3801 - mean_absolute_error: 0.3801\n",
      "Epoch 75/100\n",
      " - 0s - loss: 0.3648 - mean_absolute_error: 0.3648\n",
      "Epoch 76/100\n",
      " - 0s - loss: 0.3608 - mean_absolute_error: 0.3608\n",
      "Epoch 77/100\n",
      " - 0s - loss: 0.3496 - mean_absolute_error: 0.3496\n",
      "Epoch 78/100\n",
      " - 0s - loss: 0.3380 - mean_absolute_error: 0.3380\n",
      "Epoch 79/100\n",
      " - 0s - loss: 0.3761 - mean_absolute_error: 0.3761\n",
      "Epoch 80/100\n",
      " - 0s - loss: 0.3708 - mean_absolute_error: 0.3708\n",
      "Epoch 81/100\n",
      " - 0s - loss: 0.3600 - mean_absolute_error: 0.3600\n",
      "Epoch 82/100\n",
      " - 0s - loss: 0.3570 - mean_absolute_error: 0.3570\n",
      "Epoch 83/100\n",
      " - 0s - loss: 0.3658 - mean_absolute_error: 0.3658\n",
      "Epoch 84/100\n",
      " - 0s - loss: 0.3489 - mean_absolute_error: 0.3489\n",
      "Epoch 85/100\n",
      " - 0s - loss: 0.3571 - mean_absolute_error: 0.3571\n",
      "Epoch 86/100\n",
      " - 0s - loss: 0.3567 - mean_absolute_error: 0.3567\n",
      "Epoch 87/100\n",
      " - 0s - loss: 0.3483 - mean_absolute_error: 0.3483\n",
      "Epoch 88/100\n",
      " - 0s - loss: 0.3547 - mean_absolute_error: 0.3547\n",
      "Epoch 89/100\n",
      " - 0s - loss: 0.3612 - mean_absolute_error: 0.3612\n",
      "Epoch 90/100\n",
      " - 0s - loss: 0.3530 - mean_absolute_error: 0.3530\n",
      "Epoch 91/100\n",
      " - 0s - loss: 0.3511 - mean_absolute_error: 0.3511\n",
      "Epoch 92/100\n",
      " - 0s - loss: 0.3468 - mean_absolute_error: 0.3468\n",
      "Epoch 93/100\n",
      " - 0s - loss: 0.3484 - mean_absolute_error: 0.3484\n",
      "Epoch 94/100\n",
      " - 0s - loss: 0.3468 - mean_absolute_error: 0.3468\n",
      "Epoch 95/100\n",
      " - 0s - loss: 0.3501 - mean_absolute_error: 0.3501\n",
      "Epoch 96/100\n",
      " - 0s - loss: 0.3364 - mean_absolute_error: 0.3364\n",
      "Epoch 97/100\n",
      " - 0s - loss: 0.3533 - mean_absolute_error: 0.3533\n",
      "Epoch 98/100\n",
      " - 0s - loss: 0.3493 - mean_absolute_error: 0.3493\n",
      "Epoch 99/100\n",
      " - 0s - loss: 0.3573 - mean_absolute_error: 0.3573\n",
      "Epoch 100/100\n",
      " - 0s - loss: 0.3486 - mean_absolute_error: 0.3486\n"
     ]
    },
    {
     "data": {
      "text/plain": [
       "<keras.callbacks.History at 0x7f9b40566400>"
      ]
     },
     "execution_count": 57,
     "metadata": {
      "tags": []
     },
     "output_type": "execute_result"
    }
   ],
   "source": [
    "dnn_2.fit(X_train_ARM, Y_train_ARM, epochs = 100, batch_size = 1, verbose = 2)"
   ]
  },
  {
   "cell_type": "code",
   "execution_count": 0,
   "metadata": {
    "colab": {
     "base_uri": "https://localhost:8080/",
     "height": 282
    },
    "colab_type": "code",
    "id": "1pyUnY8eRHyH",
    "outputId": "7c2a302b-39bf-41ce-9cd8-f03550e77944"
   },
   "outputs": [
    {
     "data": {
      "text/plain": [
       "[<matplotlib.lines.Line2D at 0x7f9b4056add8>]"
      ]
     },
     "execution_count": 58,
     "metadata": {
      "tags": []
     },
     "output_type": "execute_result"
    },
    {
     "data": {
      "image/png": "[encoded data removed]",
      "text/plain": [
       "<Figure size 432x288 with 1 Axes>"
      ]
     },
     "metadata": {
      "tags": []
     },
     "output_type": "display_data"
    }
   ],
   "source": [
    "Y_pred = dnn_2.predict(X_test_ARM)\n",
    "Y_pred = scaler_y.inverse_transform(Y_pred)\n",
    "Y_fold = scaler_y.inverse_transform(Y_test_ARM)\n",
    "plt.plot(Y_pred)\n",
    "plt.plot(Y_fold)"
   ]
  },
  {
   "cell_type": "code",
   "execution_count": 0,
   "metadata": {
    "colab": {
     "base_uri": "https://localhost:8080/",
     "height": 401
    },
    "colab_type": "code",
    "id": "r2KsMmqzRYz_",
    "outputId": "7ee6eeb7-8860-403e-ab58-9f32cde87403"
   },
   "outputs": [
    {
     "name": "stdout",
     "output_type": "stream",
     "text": [
      "MSE: \n",
      " 109220831576425.19\n",
      "\n",
      "R2: \n",
      " -0.0756089798055748\n",
      "\n",
      "MAPE: \n",
      " 0.22134535175901088\n"
     ]
    },
    {
     "data": {
      "image/png": "[encoded data removed]",
      "text/plain": [
       "<Figure size 432x288 with 1 Axes>"
      ]
     },
     "metadata": {
      "tags": []
     },
     "output_type": "display_data"
    }
   ],
   "source": [
    "plt.figure()\n",
    "plt.plot(Y_fold, 'b')\n",
    "plt.plot(Y_pred, 'r')\n",
    "Y_fold = scaler_y.inverse_transform(Y_fold)\n",
    "Y_pred = scaler_y.inverse_transform(Y_pred)\n",
    "r2_scores = (r2_score(Y_fold, Y_pred))\n",
    "mse_scores = (mean_squared_error(Y_fold, Y_pred))\n",
    "mape_scores = (absolute_percentage_error(Y_fold, Y_pred))\n",
    "print('MSE: \\n', mse_scores)\n",
    "print('\\nR2: \\n', r2_scores)\n",
    "print('\\nMAPE: \\n', mape_scores[0])"
   ]
  },
  {
   "cell_type": "code",
   "execution_count": 0,
   "metadata": {
    "colab": {},
    "colab_type": "code",
    "id": "2cog4vU9SH6W"
   },
   "outputs": [],
   "source": []
  }
 ],
 "metadata": {
  "accelerator": "GPU",
  "colab": {
   "name": "DNN_transfer_learning_Qsort_Physical.ipynb",
   "provenance": [],
   "toc_visible": true
  },
  "kernelspec": {
   "display_name": "Python 3",
   "language": "python",
   "name": "python3"
  },
  "language_info": {
   "codemirror_mode": {
    "name": "ipython",
    "version": 3
   },
   "file_extension": ".py",
   "mimetype": "text/x-python",
   "name": "python",
   "nbconvert_exporter": "python",
   "pygments_lexer": "ipython3",
   "version": "3.7.3"
  }
 },
 "nbformat": 4,
 "nbformat_minor": 1
}
