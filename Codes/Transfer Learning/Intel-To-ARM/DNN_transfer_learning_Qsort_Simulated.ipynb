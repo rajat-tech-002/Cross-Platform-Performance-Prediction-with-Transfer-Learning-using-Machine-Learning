{
  "nbformat": 4,
  "nbformat_minor": 0,
  "metadata": {
    "kernelspec": {
      "name": "python3",
      "display_name": "Python 3"
    },
    "language_info": {
      "codemirror_mode": {
        "name": "ipython",
        "version": 3
      },
      "file_extension": ".py",
      "mimetype": "text/x-python",
      "name": "python",
      "nbconvert_exporter": "python",
      "pygments_lexer": "ipython3",
      "version": "3.7.3"
    },
    "colab": {
      "name": "DNN_transfer_learning_Qsort_Simulated.ipynb",
      "provenance": [],
      "toc_visible": true
    },
    "accelerator": "GPU"
  },
  "cells": [
    {
      "cell_type": "code",
      "metadata": {
        "id": "B20-BaAfPY7y",
        "colab_type": "code",
        "outputId": "f08002ca-3b8e-460d-c5d9-4d5c51f847c9",
        "colab": {
          "base_uri": "https://localhost:8080/",
          "height": 80
        }
      },
      "source": [
        "from sklearn.preprocessing import StandardScaler\n",
        "from sklearn.preprocessing import MinMaxScaler\n",
        "from sklearn.model_selection import train_test_split\n",
        "from sklearn.metrics import mean_squared_error, r2_score\n",
        "from sklearn.metrics import mean_absolute_error\n",
        "from sklearn.model_selection import GridSearchCV \n",
        "from sklearn.model_selection import KFold\n",
        "from sklearn.metrics import accuracy_score\n",
        "from keras.layers import Dense, Dropout\n",
        "from keras.models import Sequential\n",
        "from keras.optimizers import SGD\n",
        "from matplotlib import pyplot as plt\n",
        "import matplotlib as mpl\n",
        "import seaborn as sns\n",
        "import numpy as np\n",
        "import pandas as pd\n",
        "import category_encoders as ce\n",
        "import os\n",
        "import pickle\n",
        "import gc\n",
        "from tqdm import tqdm\n",
        "from sklearn.model_selection import ShuffleSplit\n",
        "from sklearn.svm import SVR\n",
        "from sklearn.linear_model import LinearRegression\n",
        "from sklearn import linear_model\n",
        "from sklearn.neighbors import KNeighborsRegressor\n",
        "from sklearn.gaussian_process import GaussianProcessRegressor\n",
        "from sklearn.tree import DecisionTreeRegressor\n",
        "from sklearn.ensemble import RandomForestRegressor\n",
        "from sklearn.ensemble import ExtraTreesRegressor\n",
        "from sklearn import ensemble\n",
        "import xgboost as xgb\n",
        "from numpy import loadtxt\n",
        "from keras.utils.vis_utils import plot_model\n",
        "import pydot"
      ],
      "execution_count": 0,
      "outputs": [
        {
          "output_type": "stream",
          "text": [
            "Using TensorFlow backend.\n"
          ],
          "name": "stderr"
        },
        {
          "output_type": "display_data",
          "data": {
            "text/html": [
              "<p style=\"color: red;\">\n",
              "The default version of TensorFlow in Colab will switch to TensorFlow 2.x on the 27th of March, 2020.<br>\n",
              "We recommend you <a href=\"https://www.tensorflow.org/guide/migrate\" target=\"_blank\">upgrade</a> now\n",
              "or ensure your notebook will continue to use TensorFlow 1.x via the <code>%tensorflow_version 1.x</code> magic:\n",
              "<a href=\"https://colab.research.google.com/notebooks/tensorflow_version.ipynb\" target=\"_blank\">more info</a>.</p>\n"
            ],
            "text/plain": [
              "<IPython.core.display.HTML object>"
            ]
          },
          "metadata": {
            "tags": []
          }
        }
      ]
    },
    {
      "cell_type": "code",
      "metadata": {
        "id": "DCM-6XSaPlnW",
        "colab_type": "code",
        "outputId": "a6a90f99-e186-4a02-93d2-bf7ada17c226",
        "colab": {
          "base_uri": "https://localhost:8080/",
          "height": 292
        }
      },
      "source": [
        "pip install category_encoders"
      ],
      "execution_count": 0,
      "outputs": [
        {
          "output_type": "stream",
          "text": [
            "Collecting category_encoders\n",
            "\u001b[?25l  Downloading https://files.pythonhosted.org/packages/a0/52/c54191ad3782de633ea3d6ee3bb2837bda0cf3bc97644bb6375cf14150a0/category_encoders-2.1.0-py2.py3-none-any.whl (100kB)\n",
            "\r\u001b[K     |███▎                            | 10kB 30.0MB/s eta 0:00:01\r\u001b[K     |██████▌                         | 20kB 3.0MB/s eta 0:00:01\r\u001b[K     |█████████▉                      | 30kB 4.1MB/s eta 0:00:01\r\u001b[K     |█████████████                   | 40kB 2.8MB/s eta 0:00:01\r\u001b[K     |████████████████▍               | 51kB 3.2MB/s eta 0:00:01\r\u001b[K     |███████████████████▋            | 61kB 3.8MB/s eta 0:00:01\r\u001b[K     |██████████████████████▉         | 71kB 4.0MB/s eta 0:00:01\r\u001b[K     |██████████████████████████▏     | 81kB 4.4MB/s eta 0:00:01\r\u001b[K     |█████████████████████████████▍  | 92kB 4.9MB/s eta 0:00:01\r\u001b[K     |████████████████████████████████| 102kB 3.7MB/s \n",
            "\u001b[?25hRequirement already satisfied: pandas>=0.21.1 in /usr/local/lib/python3.6/dist-packages (from category_encoders) (0.25.3)\n",
            "Requirement already satisfied: scikit-learn>=0.20.0 in /usr/local/lib/python3.6/dist-packages (from category_encoders) (0.22.2.post1)\n",
            "Requirement already satisfied: numpy>=1.11.3 in /usr/local/lib/python3.6/dist-packages (from category_encoders) (1.18.2)\n",
            "Requirement already satisfied: patsy>=0.4.1 in /usr/local/lib/python3.6/dist-packages (from category_encoders) (0.5.1)\n",
            "Requirement already satisfied: statsmodels>=0.6.1 in /usr/local/lib/python3.6/dist-packages (from category_encoders) (0.10.2)\n",
            "Requirement already satisfied: scipy>=0.19.0 in /usr/local/lib/python3.6/dist-packages (from category_encoders) (1.4.1)\n",
            "Requirement already satisfied: python-dateutil>=2.6.1 in /usr/local/lib/python3.6/dist-packages (from pandas>=0.21.1->category_encoders) (2.8.1)\n",
            "Requirement already satisfied: pytz>=2017.2 in /usr/local/lib/python3.6/dist-packages (from pandas>=0.21.1->category_encoders) (2018.9)\n",
            "Requirement already satisfied: joblib>=0.11 in /usr/local/lib/python3.6/dist-packages (from scikit-learn>=0.20.0->category_encoders) (0.14.1)\n",
            "Requirement already satisfied: six in /usr/local/lib/python3.6/dist-packages (from patsy>=0.4.1->category_encoders) (1.12.0)\n",
            "Installing collected packages: category-encoders\n",
            "Successfully installed category-encoders-2.1.0\n"
          ],
          "name": "stdout"
        }
      ]
    },
    {
      "cell_type": "code",
      "metadata": {
        "id": "IoISvsWDPY8P",
        "colab_type": "code",
        "colab": {}
      },
      "source": [
        "def encode_text_features(encode_decode, data_frame, encoder_isa=None, encoder_mem_type=None):\n",
        "    # Implement Categorical OneHot encoding for ISA and mem-type\n",
        "    if encode_decode == 'encode':\n",
        "        encoder_isa = ce.one_hot.OneHotEncoder(cols=['isa'])\n",
        "        encoder_mem_type = ce.one_hot.OneHotEncoder(cols=['mem-type'])\n",
        "        encoder_isa.fit(data_frame, verbose=1)\n",
        "        df_new1 = encoder_isa.transform(data_frame)\n",
        "        encoder_mem_type.fit(df_new1, verbose=1)\n",
        "        df_new = encoder_mem_type.transform(df_new1)\n",
        "        encoded_data_frame = df_new\n",
        "    else:\n",
        "        df_new1 = encoder_isa.transform(data_frame)\n",
        "        df_new = encoder_mem_type.transform(df_new1)\n",
        "        encoded_data_frame = df_new\n",
        "        \n",
        "    return encoded_data_frame, encoder_isa, encoder_mem_type"
      ],
      "execution_count": 0,
      "outputs": []
    },
    {
      "cell_type": "code",
      "metadata": {
        "id": "Sq7T5i17PY8b",
        "colab_type": "code",
        "colab": {}
      },
      "source": [
        "all_datasets = 'C:\\\\Users\\\\Rajat\\\\Desktop\\\\PROJECT_MODE\\\\Paper_3_Rajat\\\\Transfer_Learning\\\\'\n",
        "dfn = pd.read_csv('Arm_Qsort_Simulated.csv')\n",
        "df = pd.read_csv( 'Intel_Qsort_Simulated.csv')"
      ],
      "execution_count": 0,
      "outputs": []
    },
    {
      "cell_type": "code",
      "metadata": {
        "id": "SGDXIFQDPY8n",
        "colab_type": "code",
        "outputId": "fa49d55f-40f2-4adf-c467-85ebaf45b5b0",
        "colab": {
          "base_uri": "https://localhost:8080/",
          "height": 241
        }
      },
      "source": [
        "df.head()"
      ],
      "execution_count": 0,
      "outputs": [
        {
          "output_type": "execute_result",
          "data": {
            "text/html": [
              "<div>\n",
              "<style scoped>\n",
              "    .dataframe tbody tr th:only-of-type {\n",
              "        vertical-align: middle;\n",
              "    }\n",
              "\n",
              "    .dataframe tbody tr th {\n",
              "        vertical-align: top;\n",
              "    }\n",
              "\n",
              "    .dataframe thead th {\n",
              "        text-align: right;\n",
              "    }\n",
              "</style>\n",
              "<table border=\"1\" class=\"dataframe\">\n",
              "  <thead>\n",
              "    <tr style=\"text-align: right;\">\n",
              "      <th></th>\n",
              "      <th>arch</th>\n",
              "      <th>cpu-clock</th>\n",
              "      <th>isa</th>\n",
              "      <th>l1d_assoc</th>\n",
              "      <th>l1d_cache_lines</th>\n",
              "      <th>l1d_shared_by_threads</th>\n",
              "      <th>l1d_size</th>\n",
              "      <th>l2_assoc</th>\n",
              "      <th>l2_cache_lines</th>\n",
              "      <th>l2_shared_by_threads</th>\n",
              "      <th>l2_size</th>\n",
              "      <th>l3_assoc</th>\n",
              "      <th>l3_cache_lines</th>\n",
              "      <th>l3_shared_by_threads</th>\n",
              "      <th>l3_size</th>\n",
              "      <th>mem-size</th>\n",
              "      <th>mem-type</th>\n",
              "      <th>mem_clock</th>\n",
              "      <th>num-cpus</th>\n",
              "      <th>PS</th>\n",
              "      <th>runtime</th>\n",
              "    </tr>\n",
              "  </thead>\n",
              "  <tbody>\n",
              "    <tr>\n",
              "      <th>0</th>\n",
              "      <td>IntelCorei97900X_DDR42666_2GB</td>\n",
              "      <td>3.3</td>\n",
              "      <td>X86_64</td>\n",
              "      <td>8</td>\n",
              "      <td>64</td>\n",
              "      <td>1</td>\n",
              "      <td>32</td>\n",
              "      <td>16</td>\n",
              "      <td>64</td>\n",
              "      <td>1</td>\n",
              "      <td>1024</td>\n",
              "      <td>16</td>\n",
              "      <td>64</td>\n",
              "      <td>10</td>\n",
              "      <td>16</td>\n",
              "      <td>2</td>\n",
              "      <td>DDR4</td>\n",
              "      <td>2666</td>\n",
              "      <td>10</td>\n",
              "      <td>1000</td>\n",
              "      <td>442</td>\n",
              "    </tr>\n",
              "    <tr>\n",
              "      <th>1</th>\n",
              "      <td>IntelCorei97900X_DDR42666_3GB</td>\n",
              "      <td>3.3</td>\n",
              "      <td>X86_64</td>\n",
              "      <td>8</td>\n",
              "      <td>64</td>\n",
              "      <td>1</td>\n",
              "      <td>32</td>\n",
              "      <td>16</td>\n",
              "      <td>64</td>\n",
              "      <td>1</td>\n",
              "      <td>1024</td>\n",
              "      <td>16</td>\n",
              "      <td>64</td>\n",
              "      <td>10</td>\n",
              "      <td>16</td>\n",
              "      <td>3</td>\n",
              "      <td>DDR4</td>\n",
              "      <td>2666</td>\n",
              "      <td>10</td>\n",
              "      <td>1000</td>\n",
              "      <td>442</td>\n",
              "    </tr>\n",
              "    <tr>\n",
              "      <th>2</th>\n",
              "      <td>IntelCorei97900X_DDR42666_4GB</td>\n",
              "      <td>3.3</td>\n",
              "      <td>X86_64</td>\n",
              "      <td>8</td>\n",
              "      <td>64</td>\n",
              "      <td>1</td>\n",
              "      <td>32</td>\n",
              "      <td>16</td>\n",
              "      <td>64</td>\n",
              "      <td>1</td>\n",
              "      <td>1024</td>\n",
              "      <td>16</td>\n",
              "      <td>64</td>\n",
              "      <td>10</td>\n",
              "      <td>16</td>\n",
              "      <td>4</td>\n",
              "      <td>DDR4</td>\n",
              "      <td>2666</td>\n",
              "      <td>10</td>\n",
              "      <td>1000</td>\n",
              "      <td>442</td>\n",
              "    </tr>\n",
              "    <tr>\n",
              "      <th>3</th>\n",
              "      <td>IntelCorei97900X_DDR42666_6GB</td>\n",
              "      <td>3.3</td>\n",
              "      <td>X86_64</td>\n",
              "      <td>8</td>\n",
              "      <td>64</td>\n",
              "      <td>1</td>\n",
              "      <td>32</td>\n",
              "      <td>16</td>\n",
              "      <td>64</td>\n",
              "      <td>1</td>\n",
              "      <td>1024</td>\n",
              "      <td>16</td>\n",
              "      <td>64</td>\n",
              "      <td>10</td>\n",
              "      <td>16</td>\n",
              "      <td>6</td>\n",
              "      <td>DDR4</td>\n",
              "      <td>2666</td>\n",
              "      <td>10</td>\n",
              "      <td>1000</td>\n",
              "      <td>442</td>\n",
              "    </tr>\n",
              "    <tr>\n",
              "      <th>4</th>\n",
              "      <td>IntelCorei97900X_DDR42666_7GB</td>\n",
              "      <td>3.3</td>\n",
              "      <td>X86_64</td>\n",
              "      <td>8</td>\n",
              "      <td>64</td>\n",
              "      <td>1</td>\n",
              "      <td>32</td>\n",
              "      <td>16</td>\n",
              "      <td>64</td>\n",
              "      <td>1</td>\n",
              "      <td>1024</td>\n",
              "      <td>16</td>\n",
              "      <td>64</td>\n",
              "      <td>10</td>\n",
              "      <td>16</td>\n",
              "      <td>7</td>\n",
              "      <td>DDR4</td>\n",
              "      <td>2666</td>\n",
              "      <td>10</td>\n",
              "      <td>1000</td>\n",
              "      <td>442</td>\n",
              "    </tr>\n",
              "  </tbody>\n",
              "</table>\n",
              "</div>"
            ],
            "text/plain": [
              "                            arch  cpu-clock     isa  ...  num-cpus    PS  runtime\n",
              "0  IntelCorei97900X_DDR42666_2GB        3.3  X86_64  ...        10  1000      442\n",
              "1  IntelCorei97900X_DDR42666_3GB        3.3  X86_64  ...        10  1000      442\n",
              "2  IntelCorei97900X_DDR42666_4GB        3.3  X86_64  ...        10  1000      442\n",
              "3  IntelCorei97900X_DDR42666_6GB        3.3  X86_64  ...        10  1000      442\n",
              "4  IntelCorei97900X_DDR42666_7GB        3.3  X86_64  ...        10  1000      442\n",
              "\n",
              "[5 rows x 21 columns]"
            ]
          },
          "metadata": {
            "tags": []
          },
          "execution_count": 6
        }
      ]
    },
    {
      "cell_type": "code",
      "metadata": {
        "id": "aATDyN0fPY9l",
        "colab_type": "code",
        "outputId": "8f2b978a-f328-4241-fa11-b543a7cbf84f",
        "colab": {
          "base_uri": "https://localhost:8080/",
          "height": 241
        }
      },
      "source": [
        "dfn.head()"
      ],
      "execution_count": 0,
      "outputs": [
        {
          "output_type": "execute_result",
          "data": {
            "text/html": [
              "<div>\n",
              "<style scoped>\n",
              "    .dataframe tbody tr th:only-of-type {\n",
              "        vertical-align: middle;\n",
              "    }\n",
              "\n",
              "    .dataframe tbody tr th {\n",
              "        vertical-align: top;\n",
              "    }\n",
              "\n",
              "    .dataframe thead th {\n",
              "        text-align: right;\n",
              "    }\n",
              "</style>\n",
              "<table border=\"1\" class=\"dataframe\">\n",
              "  <thead>\n",
              "    <tr style=\"text-align: right;\">\n",
              "      <th></th>\n",
              "      <th>arch</th>\n",
              "      <th>cpu-clock</th>\n",
              "      <th>isa</th>\n",
              "      <th>l1d_assoc</th>\n",
              "      <th>l1d_cache_lines</th>\n",
              "      <th>l1d_shared_by_threads</th>\n",
              "      <th>l1d_size</th>\n",
              "      <th>l2_assoc</th>\n",
              "      <th>l2_cache_lines</th>\n",
              "      <th>l2_shared_by_threads</th>\n",
              "      <th>l2_size</th>\n",
              "      <th>l3_assoc</th>\n",
              "      <th>l3_cache_lines</th>\n",
              "      <th>l3_shared_by_threads</th>\n",
              "      <th>l3_size</th>\n",
              "      <th>mem-size</th>\n",
              "      <th>mem-type</th>\n",
              "      <th>mem_clock</th>\n",
              "      <th>num-cpus</th>\n",
              "      <th>PS</th>\n",
              "      <th>runtime</th>\n",
              "    </tr>\n",
              "  </thead>\n",
              "  <tbody>\n",
              "    <tr>\n",
              "      <th>0</th>\n",
              "      <td>ARM_QcomSnpS4_MSM8227_LPDDR2400_2GB</td>\n",
              "      <td>1.0</td>\n",
              "      <td>ARM</td>\n",
              "      <td>8</td>\n",
              "      <td>64</td>\n",
              "      <td>1</td>\n",
              "      <td>4</td>\n",
              "      <td>8</td>\n",
              "      <td>64</td>\n",
              "      <td>1</td>\n",
              "      <td>16</td>\n",
              "      <td>16</td>\n",
              "      <td>64</td>\n",
              "      <td>2</td>\n",
              "      <td>1</td>\n",
              "      <td>2</td>\n",
              "      <td>LPDDR2</td>\n",
              "      <td>400</td>\n",
              "      <td>2</td>\n",
              "      <td>1000</td>\n",
              "      <td>1247</td>\n",
              "    </tr>\n",
              "    <tr>\n",
              "      <th>1</th>\n",
              "      <td>ARM_QcomSnpS4_MSM8227_LPDDR2400_3GB</td>\n",
              "      <td>1.0</td>\n",
              "      <td>ARM</td>\n",
              "      <td>8</td>\n",
              "      <td>64</td>\n",
              "      <td>1</td>\n",
              "      <td>4</td>\n",
              "      <td>8</td>\n",
              "      <td>64</td>\n",
              "      <td>1</td>\n",
              "      <td>16</td>\n",
              "      <td>16</td>\n",
              "      <td>64</td>\n",
              "      <td>2</td>\n",
              "      <td>1</td>\n",
              "      <td>3</td>\n",
              "      <td>LPDDR2</td>\n",
              "      <td>400</td>\n",
              "      <td>2</td>\n",
              "      <td>1000</td>\n",
              "      <td>1247</td>\n",
              "    </tr>\n",
              "    <tr>\n",
              "      <th>2</th>\n",
              "      <td>ARM_QcomSnpS4_MSM8227_LPDDR2400_4GB</td>\n",
              "      <td>1.0</td>\n",
              "      <td>ARM</td>\n",
              "      <td>8</td>\n",
              "      <td>64</td>\n",
              "      <td>1</td>\n",
              "      <td>4</td>\n",
              "      <td>8</td>\n",
              "      <td>64</td>\n",
              "      <td>1</td>\n",
              "      <td>16</td>\n",
              "      <td>16</td>\n",
              "      <td>64</td>\n",
              "      <td>2</td>\n",
              "      <td>1</td>\n",
              "      <td>4</td>\n",
              "      <td>LPDDR2</td>\n",
              "      <td>400</td>\n",
              "      <td>2</td>\n",
              "      <td>1000</td>\n",
              "      <td>1247</td>\n",
              "    </tr>\n",
              "    <tr>\n",
              "      <th>3</th>\n",
              "      <td>ARM_QcomSnpS4_MSM8227_LPDDR2400_6GB</td>\n",
              "      <td>1.0</td>\n",
              "      <td>ARM</td>\n",
              "      <td>8</td>\n",
              "      <td>64</td>\n",
              "      <td>1</td>\n",
              "      <td>4</td>\n",
              "      <td>8</td>\n",
              "      <td>64</td>\n",
              "      <td>1</td>\n",
              "      <td>16</td>\n",
              "      <td>16</td>\n",
              "      <td>64</td>\n",
              "      <td>2</td>\n",
              "      <td>1</td>\n",
              "      <td>6</td>\n",
              "      <td>LPDDR2</td>\n",
              "      <td>400</td>\n",
              "      <td>2</td>\n",
              "      <td>1000</td>\n",
              "      <td>1247</td>\n",
              "    </tr>\n",
              "    <tr>\n",
              "      <th>4</th>\n",
              "      <td>ARM_QcomSnpS4_MSM8227_LPDDR2400_7GB</td>\n",
              "      <td>1.0</td>\n",
              "      <td>ARM</td>\n",
              "      <td>8</td>\n",
              "      <td>64</td>\n",
              "      <td>1</td>\n",
              "      <td>4</td>\n",
              "      <td>8</td>\n",
              "      <td>64</td>\n",
              "      <td>1</td>\n",
              "      <td>16</td>\n",
              "      <td>16</td>\n",
              "      <td>64</td>\n",
              "      <td>2</td>\n",
              "      <td>1</td>\n",
              "      <td>7</td>\n",
              "      <td>LPDDR2</td>\n",
              "      <td>400</td>\n",
              "      <td>2</td>\n",
              "      <td>1000</td>\n",
              "      <td>1247</td>\n",
              "    </tr>\n",
              "  </tbody>\n",
              "</table>\n",
              "</div>"
            ],
            "text/plain": [
              "                                  arch  cpu-clock  isa  ...  num-cpus    PS  runtime\n",
              "0  ARM_QcomSnpS4_MSM8227_LPDDR2400_2GB        1.0  ARM  ...         2  1000     1247\n",
              "1  ARM_QcomSnpS4_MSM8227_LPDDR2400_3GB        1.0  ARM  ...         2  1000     1247\n",
              "2  ARM_QcomSnpS4_MSM8227_LPDDR2400_4GB        1.0  ARM  ...         2  1000     1247\n",
              "3  ARM_QcomSnpS4_MSM8227_LPDDR2400_6GB        1.0  ARM  ...         2  1000     1247\n",
              "4  ARM_QcomSnpS4_MSM8227_LPDDR2400_7GB        1.0  ARM  ...         2  1000     1247\n",
              "\n",
              "[5 rows x 21 columns]"
            ]
          },
          "metadata": {
            "tags": []
          },
          "execution_count": 7
        }
      ]
    },
    {
      "cell_type": "code",
      "metadata": {
        "id": "24Pvfj2GPY9z",
        "colab_type": "code",
        "outputId": "4c90257b-aef9-494c-d5b3-259b9c9d612d",
        "colab": {
          "base_uri": "https://localhost:8080/",
          "height": 255
        }
      },
      "source": [
        "df.columns, len(df.columns), dfn.columns, len(dfn.columns) # bus-speed is extra in physical"
      ],
      "execution_count": 0,
      "outputs": [
        {
          "output_type": "execute_result",
          "data": {
            "text/plain": [
              "(Index(['arch', 'cpu-clock', 'isa', 'l1d_assoc', 'l1d_cache_lines',\n",
              "        'l1d_shared_by_threads', 'l1d_size', 'l2_assoc', 'l2_cache_lines',\n",
              "        'l2_shared_by_threads', 'l2_size', 'l3_assoc', 'l3_cache_lines',\n",
              "        'l3_shared_by_threads', 'l3_size', 'mem-size', 'mem-type', 'mem_clock',\n",
              "        'num-cpus', 'PS', 'runtime'],\n",
              "       dtype='object'),\n",
              " 21,\n",
              " Index(['arch', 'cpu-clock', 'isa', 'l1d_assoc', 'l1d_cache_lines',\n",
              "        'l1d_shared_by_threads', 'l1d_size', 'l2_assoc', 'l2_cache_lines',\n",
              "        'l2_shared_by_threads', 'l2_size', 'l3_assoc', 'l3_cache_lines',\n",
              "        'l3_shared_by_threads', 'l3_size', 'mem-size', 'mem-type', 'mem_clock',\n",
              "        'num-cpus', 'PS', 'runtime'],\n",
              "       dtype='object'),\n",
              " 21)"
            ]
          },
          "metadata": {
            "tags": []
          },
          "execution_count": 8
        }
      ]
    },
    {
      "cell_type": "code",
      "metadata": {
        "id": "VEbKBnGIPY9_",
        "colab_type": "code",
        "outputId": "24590ef3-2136-464c-aea0-bed7b0890b4a",
        "colab": {
          "base_uri": "https://localhost:8080/",
          "height": 34
        }
      },
      "source": [
        "len(df),len(dfn)"
      ],
      "execution_count": 0,
      "outputs": [
        {
          "output_type": "execute_result",
          "data": {
            "text/plain": [
              "(1470, 720)"
            ]
          },
          "metadata": {
            "tags": []
          },
          "execution_count": 9
        }
      ]
    },
    {
      "cell_type": "code",
      "metadata": {
        "id": "NdUy29hmPY-F",
        "colab_type": "code",
        "colab": {}
      },
      "source": [
        "encoded_data_frame, encoder_isa, encoder_mem_type = encode_text_features('encode', df, encoder_isa = None, encoder_mem_type=None)"
      ],
      "execution_count": 0,
      "outputs": []
    },
    {
      "cell_type": "code",
      "metadata": {
        "id": "w9OfqWqhPY-L",
        "colab_type": "code",
        "colab": {}
      },
      "source": [
        "encoded_data_frame_n, encoder_isa_n, encoder_mem_type_n = encode_text_features('encode', dfn, encoder_isa = None, encoder_mem_type=None)"
      ],
      "execution_count": 0,
      "outputs": []
    },
    {
      "cell_type": "code",
      "metadata": {
        "id": "vV0ZAkEEPY-T",
        "colab_type": "code",
        "outputId": "4895e5b0-6f28-450f-b5bd-cd6f416207c4",
        "colab": {
          "base_uri": "https://localhost:8080/",
          "height": 241
        }
      },
      "source": [
        "encoded_data_frame.head()"
      ],
      "execution_count": 0,
      "outputs": [
        {
          "output_type": "execute_result",
          "data": {
            "text/html": [
              "<div>\n",
              "<style scoped>\n",
              "    .dataframe tbody tr th:only-of-type {\n",
              "        vertical-align: middle;\n",
              "    }\n",
              "\n",
              "    .dataframe tbody tr th {\n",
              "        vertical-align: top;\n",
              "    }\n",
              "\n",
              "    .dataframe thead th {\n",
              "        text-align: right;\n",
              "    }\n",
              "</style>\n",
              "<table border=\"1\" class=\"dataframe\">\n",
              "  <thead>\n",
              "    <tr style=\"text-align: right;\">\n",
              "      <th></th>\n",
              "      <th>arch</th>\n",
              "      <th>cpu-clock</th>\n",
              "      <th>isa_1</th>\n",
              "      <th>l1d_assoc</th>\n",
              "      <th>l1d_cache_lines</th>\n",
              "      <th>l1d_shared_by_threads</th>\n",
              "      <th>l1d_size</th>\n",
              "      <th>l2_assoc</th>\n",
              "      <th>l2_cache_lines</th>\n",
              "      <th>l2_shared_by_threads</th>\n",
              "      <th>l2_size</th>\n",
              "      <th>l3_assoc</th>\n",
              "      <th>l3_cache_lines</th>\n",
              "      <th>l3_shared_by_threads</th>\n",
              "      <th>l3_size</th>\n",
              "      <th>mem-size</th>\n",
              "      <th>mem-type_1</th>\n",
              "      <th>mem-type_2</th>\n",
              "      <th>mem-type_3</th>\n",
              "      <th>mem_clock</th>\n",
              "      <th>num-cpus</th>\n",
              "      <th>PS</th>\n",
              "      <th>runtime</th>\n",
              "    </tr>\n",
              "  </thead>\n",
              "  <tbody>\n",
              "    <tr>\n",
              "      <th>0</th>\n",
              "      <td>IntelCorei97900X_DDR42666_2GB</td>\n",
              "      <td>3.3</td>\n",
              "      <td>1</td>\n",
              "      <td>8</td>\n",
              "      <td>64</td>\n",
              "      <td>1</td>\n",
              "      <td>32</td>\n",
              "      <td>16</td>\n",
              "      <td>64</td>\n",
              "      <td>1</td>\n",
              "      <td>1024</td>\n",
              "      <td>16</td>\n",
              "      <td>64</td>\n",
              "      <td>10</td>\n",
              "      <td>16</td>\n",
              "      <td>2</td>\n",
              "      <td>1</td>\n",
              "      <td>0</td>\n",
              "      <td>0</td>\n",
              "      <td>2666</td>\n",
              "      <td>10</td>\n",
              "      <td>1000</td>\n",
              "      <td>442</td>\n",
              "    </tr>\n",
              "    <tr>\n",
              "      <th>1</th>\n",
              "      <td>IntelCorei97900X_DDR42666_3GB</td>\n",
              "      <td>3.3</td>\n",
              "      <td>1</td>\n",
              "      <td>8</td>\n",
              "      <td>64</td>\n",
              "      <td>1</td>\n",
              "      <td>32</td>\n",
              "      <td>16</td>\n",
              "      <td>64</td>\n",
              "      <td>1</td>\n",
              "      <td>1024</td>\n",
              "      <td>16</td>\n",
              "      <td>64</td>\n",
              "      <td>10</td>\n",
              "      <td>16</td>\n",
              "      <td>3</td>\n",
              "      <td>1</td>\n",
              "      <td>0</td>\n",
              "      <td>0</td>\n",
              "      <td>2666</td>\n",
              "      <td>10</td>\n",
              "      <td>1000</td>\n",
              "      <td>442</td>\n",
              "    </tr>\n",
              "    <tr>\n",
              "      <th>2</th>\n",
              "      <td>IntelCorei97900X_DDR42666_4GB</td>\n",
              "      <td>3.3</td>\n",
              "      <td>1</td>\n",
              "      <td>8</td>\n",
              "      <td>64</td>\n",
              "      <td>1</td>\n",
              "      <td>32</td>\n",
              "      <td>16</td>\n",
              "      <td>64</td>\n",
              "      <td>1</td>\n",
              "      <td>1024</td>\n",
              "      <td>16</td>\n",
              "      <td>64</td>\n",
              "      <td>10</td>\n",
              "      <td>16</td>\n",
              "      <td>4</td>\n",
              "      <td>1</td>\n",
              "      <td>0</td>\n",
              "      <td>0</td>\n",
              "      <td>2666</td>\n",
              "      <td>10</td>\n",
              "      <td>1000</td>\n",
              "      <td>442</td>\n",
              "    </tr>\n",
              "    <tr>\n",
              "      <th>3</th>\n",
              "      <td>IntelCorei97900X_DDR42666_6GB</td>\n",
              "      <td>3.3</td>\n",
              "      <td>1</td>\n",
              "      <td>8</td>\n",
              "      <td>64</td>\n",
              "      <td>1</td>\n",
              "      <td>32</td>\n",
              "      <td>16</td>\n",
              "      <td>64</td>\n",
              "      <td>1</td>\n",
              "      <td>1024</td>\n",
              "      <td>16</td>\n",
              "      <td>64</td>\n",
              "      <td>10</td>\n",
              "      <td>16</td>\n",
              "      <td>6</td>\n",
              "      <td>1</td>\n",
              "      <td>0</td>\n",
              "      <td>0</td>\n",
              "      <td>2666</td>\n",
              "      <td>10</td>\n",
              "      <td>1000</td>\n",
              "      <td>442</td>\n",
              "    </tr>\n",
              "    <tr>\n",
              "      <th>4</th>\n",
              "      <td>IntelCorei97900X_DDR42666_7GB</td>\n",
              "      <td>3.3</td>\n",
              "      <td>1</td>\n",
              "      <td>8</td>\n",
              "      <td>64</td>\n",
              "      <td>1</td>\n",
              "      <td>32</td>\n",
              "      <td>16</td>\n",
              "      <td>64</td>\n",
              "      <td>1</td>\n",
              "      <td>1024</td>\n",
              "      <td>16</td>\n",
              "      <td>64</td>\n",
              "      <td>10</td>\n",
              "      <td>16</td>\n",
              "      <td>7</td>\n",
              "      <td>1</td>\n",
              "      <td>0</td>\n",
              "      <td>0</td>\n",
              "      <td>2666</td>\n",
              "      <td>10</td>\n",
              "      <td>1000</td>\n",
              "      <td>442</td>\n",
              "    </tr>\n",
              "  </tbody>\n",
              "</table>\n",
              "</div>"
            ],
            "text/plain": [
              "                            arch  cpu-clock  isa_1  ...  num-cpus    PS  runtime\n",
              "0  IntelCorei97900X_DDR42666_2GB        3.3      1  ...        10  1000      442\n",
              "1  IntelCorei97900X_DDR42666_3GB        3.3      1  ...        10  1000      442\n",
              "2  IntelCorei97900X_DDR42666_4GB        3.3      1  ...        10  1000      442\n",
              "3  IntelCorei97900X_DDR42666_6GB        3.3      1  ...        10  1000      442\n",
              "4  IntelCorei97900X_DDR42666_7GB        3.3      1  ...        10  1000      442\n",
              "\n",
              "[5 rows x 23 columns]"
            ]
          },
          "metadata": {
            "tags": []
          },
          "execution_count": 12
        }
      ]
    },
    {
      "cell_type": "code",
      "metadata": {
        "id": "jV5-CA2OPY-Z",
        "colab_type": "code",
        "outputId": "8e63f60e-70ad-4328-814d-e23580beefb7",
        "colab": {
          "base_uri": "https://localhost:8080/",
          "height": 241
        }
      },
      "source": [
        "encoded_data_frame_n.head()"
      ],
      "execution_count": 0,
      "outputs": [
        {
          "output_type": "execute_result",
          "data": {
            "text/html": [
              "<div>\n",
              "<style scoped>\n",
              "    .dataframe tbody tr th:only-of-type {\n",
              "        vertical-align: middle;\n",
              "    }\n",
              "\n",
              "    .dataframe tbody tr th {\n",
              "        vertical-align: top;\n",
              "    }\n",
              "\n",
              "    .dataframe thead th {\n",
              "        text-align: right;\n",
              "    }\n",
              "</style>\n",
              "<table border=\"1\" class=\"dataframe\">\n",
              "  <thead>\n",
              "    <tr style=\"text-align: right;\">\n",
              "      <th></th>\n",
              "      <th>arch</th>\n",
              "      <th>cpu-clock</th>\n",
              "      <th>isa_1</th>\n",
              "      <th>l1d_assoc</th>\n",
              "      <th>l1d_cache_lines</th>\n",
              "      <th>l1d_shared_by_threads</th>\n",
              "      <th>l1d_size</th>\n",
              "      <th>l2_assoc</th>\n",
              "      <th>l2_cache_lines</th>\n",
              "      <th>l2_shared_by_threads</th>\n",
              "      <th>l2_size</th>\n",
              "      <th>l3_assoc</th>\n",
              "      <th>l3_cache_lines</th>\n",
              "      <th>l3_shared_by_threads</th>\n",
              "      <th>l3_size</th>\n",
              "      <th>mem-size</th>\n",
              "      <th>mem-type_1</th>\n",
              "      <th>mem-type_2</th>\n",
              "      <th>mem-type_3</th>\n",
              "      <th>mem_clock</th>\n",
              "      <th>num-cpus</th>\n",
              "      <th>PS</th>\n",
              "      <th>runtime</th>\n",
              "    </tr>\n",
              "  </thead>\n",
              "  <tbody>\n",
              "    <tr>\n",
              "      <th>0</th>\n",
              "      <td>ARM_QcomSnpS4_MSM8227_LPDDR2400_2GB</td>\n",
              "      <td>1.0</td>\n",
              "      <td>1</td>\n",
              "      <td>8</td>\n",
              "      <td>64</td>\n",
              "      <td>1</td>\n",
              "      <td>4</td>\n",
              "      <td>8</td>\n",
              "      <td>64</td>\n",
              "      <td>1</td>\n",
              "      <td>16</td>\n",
              "      <td>16</td>\n",
              "      <td>64</td>\n",
              "      <td>2</td>\n",
              "      <td>1</td>\n",
              "      <td>2</td>\n",
              "      <td>1</td>\n",
              "      <td>0</td>\n",
              "      <td>0</td>\n",
              "      <td>400</td>\n",
              "      <td>2</td>\n",
              "      <td>1000</td>\n",
              "      <td>1247</td>\n",
              "    </tr>\n",
              "    <tr>\n",
              "      <th>1</th>\n",
              "      <td>ARM_QcomSnpS4_MSM8227_LPDDR2400_3GB</td>\n",
              "      <td>1.0</td>\n",
              "      <td>1</td>\n",
              "      <td>8</td>\n",
              "      <td>64</td>\n",
              "      <td>1</td>\n",
              "      <td>4</td>\n",
              "      <td>8</td>\n",
              "      <td>64</td>\n",
              "      <td>1</td>\n",
              "      <td>16</td>\n",
              "      <td>16</td>\n",
              "      <td>64</td>\n",
              "      <td>2</td>\n",
              "      <td>1</td>\n",
              "      <td>3</td>\n",
              "      <td>1</td>\n",
              "      <td>0</td>\n",
              "      <td>0</td>\n",
              "      <td>400</td>\n",
              "      <td>2</td>\n",
              "      <td>1000</td>\n",
              "      <td>1247</td>\n",
              "    </tr>\n",
              "    <tr>\n",
              "      <th>2</th>\n",
              "      <td>ARM_QcomSnpS4_MSM8227_LPDDR2400_4GB</td>\n",
              "      <td>1.0</td>\n",
              "      <td>1</td>\n",
              "      <td>8</td>\n",
              "      <td>64</td>\n",
              "      <td>1</td>\n",
              "      <td>4</td>\n",
              "      <td>8</td>\n",
              "      <td>64</td>\n",
              "      <td>1</td>\n",
              "      <td>16</td>\n",
              "      <td>16</td>\n",
              "      <td>64</td>\n",
              "      <td>2</td>\n",
              "      <td>1</td>\n",
              "      <td>4</td>\n",
              "      <td>1</td>\n",
              "      <td>0</td>\n",
              "      <td>0</td>\n",
              "      <td>400</td>\n",
              "      <td>2</td>\n",
              "      <td>1000</td>\n",
              "      <td>1247</td>\n",
              "    </tr>\n",
              "    <tr>\n",
              "      <th>3</th>\n",
              "      <td>ARM_QcomSnpS4_MSM8227_LPDDR2400_6GB</td>\n",
              "      <td>1.0</td>\n",
              "      <td>1</td>\n",
              "      <td>8</td>\n",
              "      <td>64</td>\n",
              "      <td>1</td>\n",
              "      <td>4</td>\n",
              "      <td>8</td>\n",
              "      <td>64</td>\n",
              "      <td>1</td>\n",
              "      <td>16</td>\n",
              "      <td>16</td>\n",
              "      <td>64</td>\n",
              "      <td>2</td>\n",
              "      <td>1</td>\n",
              "      <td>6</td>\n",
              "      <td>1</td>\n",
              "      <td>0</td>\n",
              "      <td>0</td>\n",
              "      <td>400</td>\n",
              "      <td>2</td>\n",
              "      <td>1000</td>\n",
              "      <td>1247</td>\n",
              "    </tr>\n",
              "    <tr>\n",
              "      <th>4</th>\n",
              "      <td>ARM_QcomSnpS4_MSM8227_LPDDR2400_7GB</td>\n",
              "      <td>1.0</td>\n",
              "      <td>1</td>\n",
              "      <td>8</td>\n",
              "      <td>64</td>\n",
              "      <td>1</td>\n",
              "      <td>4</td>\n",
              "      <td>8</td>\n",
              "      <td>64</td>\n",
              "      <td>1</td>\n",
              "      <td>16</td>\n",
              "      <td>16</td>\n",
              "      <td>64</td>\n",
              "      <td>2</td>\n",
              "      <td>1</td>\n",
              "      <td>7</td>\n",
              "      <td>1</td>\n",
              "      <td>0</td>\n",
              "      <td>0</td>\n",
              "      <td>400</td>\n",
              "      <td>2</td>\n",
              "      <td>1000</td>\n",
              "      <td>1247</td>\n",
              "    </tr>\n",
              "  </tbody>\n",
              "</table>\n",
              "</div>"
            ],
            "text/plain": [
              "                                  arch  cpu-clock  ...    PS  runtime\n",
              "0  ARM_QcomSnpS4_MSM8227_LPDDR2400_2GB        1.0  ...  1000     1247\n",
              "1  ARM_QcomSnpS4_MSM8227_LPDDR2400_3GB        1.0  ...  1000     1247\n",
              "2  ARM_QcomSnpS4_MSM8227_LPDDR2400_4GB        1.0  ...  1000     1247\n",
              "3  ARM_QcomSnpS4_MSM8227_LPDDR2400_6GB        1.0  ...  1000     1247\n",
              "4  ARM_QcomSnpS4_MSM8227_LPDDR2400_7GB        1.0  ...  1000     1247\n",
              "\n",
              "[5 rows x 23 columns]"
            ]
          },
          "metadata": {
            "tags": []
          },
          "execution_count": 13
        }
      ]
    },
    {
      "cell_type": "code",
      "metadata": {
        "id": "blMY6nwRPY-f",
        "colab_type": "code",
        "outputId": "a0dbe4c8-71a9-4569-f7ab-a9940ea61511",
        "colab": {
          "base_uri": "https://localhost:8080/",
          "height": 119
        }
      },
      "source": [
        "encoded_data_frame.columns"
      ],
      "execution_count": 0,
      "outputs": [
        {
          "output_type": "execute_result",
          "data": {
            "text/plain": [
              "Index(['arch', 'cpu-clock', 'isa_1', 'l1d_assoc', 'l1d_cache_lines',\n",
              "       'l1d_shared_by_threads', 'l1d_size', 'l2_assoc', 'l2_cache_lines',\n",
              "       'l2_shared_by_threads', 'l2_size', 'l3_assoc', 'l3_cache_lines',\n",
              "       'l3_shared_by_threads', 'l3_size', 'mem-size', 'mem-type_1',\n",
              "       'mem-type_2', 'mem-type_3', 'mem_clock', 'num-cpus', 'PS', 'runtime'],\n",
              "      dtype='object')"
            ]
          },
          "metadata": {
            "tags": []
          },
          "execution_count": 14
        }
      ]
    },
    {
      "cell_type": "code",
      "metadata": {
        "id": "c3gTDhCAPY-l",
        "colab_type": "code",
        "outputId": "796141c9-2523-42f0-a7d3-8298ce67c275",
        "colab": {
          "base_uri": "https://localhost:8080/",
          "height": 119
        }
      },
      "source": [
        "encoded_data_frame_n.columns"
      ],
      "execution_count": 0,
      "outputs": [
        {
          "output_type": "execute_result",
          "data": {
            "text/plain": [
              "Index(['arch', 'cpu-clock', 'isa_1', 'l1d_assoc', 'l1d_cache_lines',\n",
              "       'l1d_shared_by_threads', 'l1d_size', 'l2_assoc', 'l2_cache_lines',\n",
              "       'l2_shared_by_threads', 'l2_size', 'l3_assoc', 'l3_cache_lines',\n",
              "       'l3_shared_by_threads', 'l3_size', 'mem-size', 'mem-type_1',\n",
              "       'mem-type_2', 'mem-type_3', 'mem_clock', 'num-cpus', 'PS', 'runtime'],\n",
              "      dtype='object')"
            ]
          },
          "metadata": {
            "tags": []
          },
          "execution_count": 15
        }
      ]
    },
    {
      "cell_type": "code",
      "metadata": {
        "id": "gdW80wzNPY-r",
        "colab_type": "code",
        "colab": {}
      },
      "source": [
        "total_data_n = encoded_data_frame_n.drop(columns = ['arch'])"
      ],
      "execution_count": 0,
      "outputs": []
    },
    {
      "cell_type": "code",
      "metadata": {
        "id": "FI5GNgHyPY-w",
        "colab_type": "code",
        "colab": {}
      },
      "source": [
        "total_data = encoded_data_frame.drop(columns = ['arch'])"
      ],
      "execution_count": 0,
      "outputs": []
    },
    {
      "cell_type": "code",
      "metadata": {
        "id": "FwLKC55GPY-3",
        "colab_type": "code",
        "outputId": "4c06ae1b-3edc-4e66-ceb9-4525244fdd1e",
        "colab": {
          "base_uri": "https://localhost:8080/",
          "height": 221
        }
      },
      "source": [
        "total_data.columns, total_data_n.columns"
      ],
      "execution_count": 0,
      "outputs": [
        {
          "output_type": "execute_result",
          "data": {
            "text/plain": [
              "(Index(['cpu-clock', 'isa_1', 'l1d_assoc', 'l1d_cache_lines',\n",
              "        'l1d_shared_by_threads', 'l1d_size', 'l2_assoc', 'l2_cache_lines',\n",
              "        'l2_shared_by_threads', 'l2_size', 'l3_assoc', 'l3_cache_lines',\n",
              "        'l3_shared_by_threads', 'l3_size', 'mem-size', 'mem-type_1',\n",
              "        'mem-type_2', 'mem-type_3', 'mem_clock', 'num-cpus', 'PS', 'runtime'],\n",
              "       dtype='object'),\n",
              " Index(['cpu-clock', 'isa_1', 'l1d_assoc', 'l1d_cache_lines',\n",
              "        'l1d_shared_by_threads', 'l1d_size', 'l2_assoc', 'l2_cache_lines',\n",
              "        'l2_shared_by_threads', 'l2_size', 'l3_assoc', 'l3_cache_lines',\n",
              "        'l3_shared_by_threads', 'l3_size', 'mem-size', 'mem-type_1',\n",
              "        'mem-type_2', 'mem-type_3', 'mem_clock', 'num-cpus', 'PS', 'runtime'],\n",
              "       dtype='object'))"
            ]
          },
          "metadata": {
            "tags": []
          },
          "execution_count": 18
        }
      ]
    },
    {
      "cell_type": "code",
      "metadata": {
        "id": "__UxO5IZPY--",
        "colab_type": "code",
        "colab": {}
      },
      "source": [
        "total_data = total_data.fillna(0)\n",
        "total_data_n = total_data_n.fillna(0)"
      ],
      "execution_count": 0,
      "outputs": []
    },
    {
      "cell_type": "code",
      "metadata": {
        "id": "kgRQWlyrPY_E",
        "colab_type": "code",
        "colab": {}
      },
      "source": [
        "X_Intel = total_data.drop(columns = ['runtime']).to_numpy()\n",
        "Y_Intel = total_data['runtime'].to_numpy()"
      ],
      "execution_count": 0,
      "outputs": []
    },
    {
      "cell_type": "code",
      "metadata": {
        "id": "xj8_o2sGPY_J",
        "colab_type": "code",
        "colab": {}
      },
      "source": [
        "X_ARM = total_data_n.drop(columns = ['runtime']).to_numpy()\n",
        "Y_ARM = total_data_n['runtime'].to_numpy()"
      ],
      "execution_count": 0,
      "outputs": []
    },
    {
      "cell_type": "code",
      "metadata": {
        "id": "_GYdAqd-PY_O",
        "colab_type": "code",
        "outputId": "48e31a7e-8100-4376-e3e8-d8fe635a0d75",
        "colab": {
          "base_uri": "https://localhost:8080/",
          "height": 34
        }
      },
      "source": [
        "X_Intel.shape, X_ARM.shape, Y_Intel.shape, Y_ARM.shape"
      ],
      "execution_count": 0,
      "outputs": [
        {
          "output_type": "execute_result",
          "data": {
            "text/plain": [
              "((1470, 21), (720, 21), (1470,), (720,))"
            ]
          },
          "metadata": {
            "tags": []
          },
          "execution_count": 22
        }
      ]
    },
    {
      "cell_type": "code",
      "metadata": {
        "id": "xQM6d2M2PY_U",
        "colab_type": "code",
        "outputId": "9cb63a54-9c57-45dc-bcc3-676533e0f3c2",
        "colab": {
          "base_uri": "https://localhost:8080/",
          "height": 51
        }
      },
      "source": [
        "Y_Intel[:10], Y_ARM[:10] "
      ],
      "execution_count": 0,
      "outputs": [
        {
          "output_type": "execute_result",
          "data": {
            "text/plain": [
              "(array([442, 442, 442, 442, 442, 525, 525, 525, 525, 525]),\n",
              " array([1247, 1247, 1247, 1247, 1247, 1067, 1067, 1067, 1067, 1067]))"
            ]
          },
          "metadata": {
            "tags": []
          },
          "execution_count": 23
        }
      ]
    },
    {
      "cell_type": "code",
      "metadata": {
        "id": "wzbI3cIbPY_c",
        "colab_type": "code",
        "outputId": "7bafe41f-d279-4060-a0e4-cbc477b93c33",
        "colab": {
          "base_uri": "https://localhost:8080/",
          "height": 51
        }
      },
      "source": [
        "# Separating ARM data to 1% and 99%\n",
        "X_train_ARM, X_test_ARM, Y_train_ARM, Y_test_ARM = train_test_split(X_ARM, Y_ARM, test_size = 0.99, random_state=42)\n",
        "print(X_train_ARM.shape, X_test_ARM.shape, Y_train_ARM.shape, Y_test_ARM.shape)\n",
        "X_train_Intel = np.append(X_Intel, X_train_ARM,axis = 0)\n",
        "Y_train_Intel = np.append(Y_Intel, Y_train_ARM,axis = 0)\n",
        "print(X_train_Intel.shape, Y_train_Intel.shape, X_test_ARM.shape, Y_test_ARM.shape)"
      ],
      "execution_count": 0,
      "outputs": [
        {
          "output_type": "stream",
          "text": [
            "(7, 21) (713, 21) (7,) (713,)\n",
            "(1477, 21) (1477,) (713, 21) (713,)\n"
          ],
          "name": "stdout"
        }
      ]
    },
    {
      "cell_type": "code",
      "metadata": {
        "id": "hd6E2_KdPY_h",
        "colab_type": "code",
        "outputId": "f60409af-385a-4bbf-d39f-f4f69d6dd77c",
        "colab": {
          "base_uri": "https://localhost:8080/",
          "height": 34
        }
      },
      "source": [
        "scaler_x = StandardScaler()\n",
        "X_Intel = scaler_x.fit_transform(X_Intel)\n",
        "X_train_ARM = scaler_x.fit_transform(X_train_ARM)\n",
        "X_test_ARM = scaler_x.fit_transform(X_test_ARM)\n",
        "scaler_y = StandardScaler()\n",
        "Y_Intel = np.reshape(Y_Intel, (len(Y_Intel),1))\n",
        "Y_test_ARM = np.reshape(Y_test_ARM, (len(Y_test_ARM),1))\n",
        "Y_train_ARM = np.reshape(Y_train_ARM, (len(Y_train_ARM),1))\n",
        "Y_Intel = scaler_y.fit_transform(Y_Intel)\n",
        "Y_test_ARM = scaler_y.fit_transform(Y_test_ARM)\n",
        "Y_train_ARM = scaler_y.fit_transform(Y_train_ARM)\n",
        "print(X_Intel.shape, Y_Intel.shape, X_train_ARM.shape, Y_train_ARM.shape, X_test_ARM.shape, Y_test_ARM.shape)"
      ],
      "execution_count": 0,
      "outputs": [
        {
          "output_type": "stream",
          "text": [
            "(1470, 21) (1470, 1) (7, 21) (7, 1) (713, 21) (713, 1)\n"
          ],
          "name": "stdout"
        }
      ]
    },
    {
      "cell_type": "code",
      "metadata": {
        "id": "eEfGmTi8PY_s",
        "colab_type": "code",
        "colab": {}
      },
      "source": [
        "def absolute_percentage_error(Y_test, Y_pred):\n",
        "    error = 0\n",
        "    for i in range(len(Y_test)):\n",
        "        if(Y_test[i]!= 0 ):\n",
        "            error = error + (abs(Y_test[i] - Y_pred[i]))/Y_test[i]\n",
        "        \n",
        "    error = error/ len(Y_test)\n",
        "    return error"
      ],
      "execution_count": 0,
      "outputs": []
    },
    {
      "cell_type": "code",
      "metadata": {
        "id": "6YqBJdtvPY_y",
        "colab_type": "code",
        "outputId": "e3c52eab-0e2c-4c49-c10b-372988f70105",
        "colab": {
          "base_uri": "https://localhost:8080/",
          "height": 877
        }
      },
      "source": [
        "dnn_2 = Sequential()\n",
        "dnn_2.add(Dense(64, input_dim = 21, activation='relu'))\n",
        "# dnn_2.add(Dropout(0.4))\n",
        "dnn_2.add(Dense(64, activation='relu'))\n",
        "# dnn_2.add(Dropout(0.4))\n",
        "dnn_2.add(Dense(64, activation='relu'))\n",
        "# dnn_2.add(Dropout(0.4))\n",
        "dnn_2.add(Dense(1, activation='linear'))\n",
        "print('Model : DNN 2', dnn_2.summary())\n",
        "plot_model(dnn_2)"
      ],
      "execution_count": 0,
      "outputs": [
        {
          "output_type": "stream",
          "text": [
            "WARNING:tensorflow:From /usr/local/lib/python3.6/dist-packages/keras/backend/tensorflow_backend.py:66: The name tf.get_default_graph is deprecated. Please use tf.compat.v1.get_default_graph instead.\n",
            "\n",
            "WARNING:tensorflow:From /usr/local/lib/python3.6/dist-packages/keras/backend/tensorflow_backend.py:541: The name tf.placeholder is deprecated. Please use tf.compat.v1.placeholder instead.\n",
            "\n",
            "WARNING:tensorflow:From /usr/local/lib/python3.6/dist-packages/keras/backend/tensorflow_backend.py:4432: The name tf.random_uniform is deprecated. Please use tf.random.uniform instead.\n",
            "\n",
            "Model: \"sequential_1\"\n",
            "_________________________________________________________________\n",
            "Layer (type)                 Output Shape              Param #   \n",
            "=================================================================\n",
            "dense_1 (Dense)              (None, 64)                1408      \n",
            "_________________________________________________________________\n",
            "dense_2 (Dense)              (None, 64)                4160      \n",
            "_________________________________________________________________\n",
            "dense_3 (Dense)              (None, 64)                4160      \n",
            "_________________________________________________________________\n",
            "dense_4 (Dense)              (None, 1)                 65        \n",
            "=================================================================\n",
            "Total params: 9,793\n",
            "Trainable params: 9,793\n",
            "Non-trainable params: 0\n",
            "_________________________________________________________________\n",
            "Model : DNN 2 None\n"
          ],
          "name": "stdout"
        },
        {
          "output_type": "execute_result",
          "data": {
            "image/png": "[encoded data removed]",
            "text/plain": [
              "<IPython.core.display.Image object>"
            ]
          },
          "metadata": {
            "tags": []
          },
          "execution_count": 27
        }
      ]
    },
    {
      "cell_type": "code",
      "metadata": {
        "id": "_6Uox_BtPY_6",
        "colab_type": "code",
        "outputId": "c2dd3a9b-ec28-4959-9daf-5a21ac33ce9f",
        "colab": {
          "base_uri": "https://localhost:8080/",
          "height": 1000
        }
      },
      "source": [
        "dnn_2.compile(loss='mae', optimizer='adam', metrics=['mae'])\n",
        "dnn_2.fit(X_Intel, Y_Intel, epochs = 100, batch_size = 10, verbose = 2)"
      ],
      "execution_count": 0,
      "outputs": [
        {
          "output_type": "stream",
          "text": [
            "WARNING:tensorflow:From /usr/local/lib/python3.6/dist-packages/keras/optimizers.py:793: The name tf.train.Optimizer is deprecated. Please use tf.compat.v1.train.Optimizer instead.\n",
            "\n",
            "WARNING:tensorflow:From /usr/local/lib/python3.6/dist-packages/keras/backend/tensorflow_backend.py:1033: The name tf.assign_add is deprecated. Please use tf.compat.v1.assign_add instead.\n",
            "\n",
            "WARNING:tensorflow:From /usr/local/lib/python3.6/dist-packages/keras/backend/tensorflow_backend.py:1020: The name tf.assign is deprecated. Please use tf.compat.v1.assign instead.\n",
            "\n",
            "WARNING:tensorflow:From /usr/local/lib/python3.6/dist-packages/keras/backend/tensorflow_backend.py:3005: The name tf.Session is deprecated. Please use tf.compat.v1.Session instead.\n",
            "\n",
            "Epoch 1/100\n",
            "WARNING:tensorflow:From /usr/local/lib/python3.6/dist-packages/keras/backend/tensorflow_backend.py:190: The name tf.get_default_session is deprecated. Please use tf.compat.v1.get_default_session instead.\n",
            "\n",
            "WARNING:tensorflow:From /usr/local/lib/python3.6/dist-packages/keras/backend/tensorflow_backend.py:197: The name tf.ConfigProto is deprecated. Please use tf.compat.v1.ConfigProto instead.\n",
            "\n",
            "WARNING:tensorflow:From /usr/local/lib/python3.6/dist-packages/keras/backend/tensorflow_backend.py:207: The name tf.global_variables is deprecated. Please use tf.compat.v1.global_variables instead.\n",
            "\n",
            "WARNING:tensorflow:From /usr/local/lib/python3.6/dist-packages/keras/backend/tensorflow_backend.py:216: The name tf.is_variable_initialized is deprecated. Please use tf.compat.v1.is_variable_initialized instead.\n",
            "\n",
            "WARNING:tensorflow:From /usr/local/lib/python3.6/dist-packages/keras/backend/tensorflow_backend.py:223: The name tf.variables_initializer is deprecated. Please use tf.compat.v1.variables_initializer instead.\n",
            "\n",
            " - 9s - loss: 0.2265 - mean_absolute_error: 0.2265\n",
            "Epoch 2/100\n",
            " - 0s - loss: 0.0904 - mean_absolute_error: 0.0904\n",
            "Epoch 3/100\n",
            " - 0s - loss: 0.0655 - mean_absolute_error: 0.0655\n",
            "Epoch 4/100\n",
            " - 0s - loss: 0.0536 - mean_absolute_error: 0.0536\n",
            "Epoch 5/100\n",
            " - 0s - loss: 0.0519 - mean_absolute_error: 0.0519\n",
            "Epoch 6/100\n",
            " - 0s - loss: 0.0502 - mean_absolute_error: 0.0502\n",
            "Epoch 7/100\n",
            " - 0s - loss: 0.0423 - mean_absolute_error: 0.0423\n",
            "Epoch 8/100\n",
            " - 0s - loss: 0.0387 - mean_absolute_error: 0.0387\n",
            "Epoch 9/100\n",
            " - 0s - loss: 0.0380 - mean_absolute_error: 0.0380\n",
            "Epoch 10/100\n",
            " - 0s - loss: 0.0367 - mean_absolute_error: 0.0367\n",
            "Epoch 11/100\n",
            " - 0s - loss: 0.0358 - mean_absolute_error: 0.0358\n",
            "Epoch 12/100\n",
            " - 0s - loss: 0.0344 - mean_absolute_error: 0.0344\n",
            "Epoch 13/100\n",
            " - 0s - loss: 0.0335 - mean_absolute_error: 0.0335\n",
            "Epoch 14/100\n",
            " - 0s - loss: 0.0321 - mean_absolute_error: 0.0321\n",
            "Epoch 15/100\n",
            " - 0s - loss: 0.0327 - mean_absolute_error: 0.0327\n",
            "Epoch 16/100\n",
            " - 0s - loss: 0.0376 - mean_absolute_error: 0.0376\n",
            "Epoch 17/100\n",
            " - 0s - loss: 0.0280 - mean_absolute_error: 0.0280\n",
            "Epoch 18/100\n",
            " - 0s - loss: 0.0321 - mean_absolute_error: 0.0321\n",
            "Epoch 19/100\n",
            " - 0s - loss: 0.0295 - mean_absolute_error: 0.0295\n",
            "Epoch 20/100\n",
            " - 0s - loss: 0.0269 - mean_absolute_error: 0.0269\n",
            "Epoch 21/100\n",
            " - 0s - loss: 0.0320 - mean_absolute_error: 0.0320\n",
            "Epoch 22/100\n",
            " - 0s - loss: 0.0260 - mean_absolute_error: 0.0260\n",
            "Epoch 23/100\n",
            " - 0s - loss: 0.0261 - mean_absolute_error: 0.0261\n",
            "Epoch 24/100\n",
            " - 0s - loss: 0.0290 - mean_absolute_error: 0.0290\n",
            "Epoch 25/100\n",
            " - 0s - loss: 0.0259 - mean_absolute_error: 0.0259\n",
            "Epoch 26/100\n",
            " - 0s - loss: 0.0280 - mean_absolute_error: 0.0280\n",
            "Epoch 27/100\n",
            " - 0s - loss: 0.0266 - mean_absolute_error: 0.0266\n",
            "Epoch 28/100\n",
            " - 0s - loss: 0.0259 - mean_absolute_error: 0.0259\n",
            "Epoch 29/100\n",
            " - 0s - loss: 0.0275 - mean_absolute_error: 0.0275\n",
            "Epoch 30/100\n",
            " - 0s - loss: 0.0267 - mean_absolute_error: 0.0267\n",
            "Epoch 31/100\n",
            " - 0s - loss: 0.0258 - mean_absolute_error: 0.0258\n",
            "Epoch 32/100\n",
            " - 0s - loss: 0.0263 - mean_absolute_error: 0.0263\n",
            "Epoch 33/100\n",
            " - 0s - loss: 0.0219 - mean_absolute_error: 0.0219\n",
            "Epoch 34/100\n",
            " - 0s - loss: 0.0233 - mean_absolute_error: 0.0233\n",
            "Epoch 35/100\n",
            " - 0s - loss: 0.0234 - mean_absolute_error: 0.0234\n",
            "Epoch 36/100\n",
            " - 0s - loss: 0.0208 - mean_absolute_error: 0.0208\n",
            "Epoch 37/100\n",
            " - 0s - loss: 0.0243 - mean_absolute_error: 0.0243\n",
            "Epoch 38/100\n",
            " - 0s - loss: 0.0210 - mean_absolute_error: 0.0210\n",
            "Epoch 39/100\n",
            " - 0s - loss: 0.0209 - mean_absolute_error: 0.0209\n",
            "Epoch 40/100\n",
            " - 0s - loss: 0.0224 - mean_absolute_error: 0.0224\n",
            "Epoch 41/100\n",
            " - 0s - loss: 0.0223 - mean_absolute_error: 0.0223\n",
            "Epoch 42/100\n",
            " - 0s - loss: 0.0217 - mean_absolute_error: 0.0217\n",
            "Epoch 43/100\n",
            " - 0s - loss: 0.0204 - mean_absolute_error: 0.0204\n",
            "Epoch 44/100\n",
            " - 0s - loss: 0.0211 - mean_absolute_error: 0.0211\n",
            "Epoch 45/100\n",
            " - 0s - loss: 0.0202 - mean_absolute_error: 0.0202\n",
            "Epoch 46/100\n",
            " - 0s - loss: 0.0195 - mean_absolute_error: 0.0195\n",
            "Epoch 47/100\n",
            " - 0s - loss: 0.0188 - mean_absolute_error: 0.0188\n",
            "Epoch 48/100\n",
            " - 0s - loss: 0.0179 - mean_absolute_error: 0.0179\n",
            "Epoch 49/100\n",
            " - 0s - loss: 0.0193 - mean_absolute_error: 0.0193\n",
            "Epoch 50/100\n",
            " - 0s - loss: 0.0206 - mean_absolute_error: 0.0206\n",
            "Epoch 51/100\n",
            " - 0s - loss: 0.0178 - mean_absolute_error: 0.0178\n",
            "Epoch 52/100\n",
            " - 0s - loss: 0.0198 - mean_absolute_error: 0.0198\n",
            "Epoch 53/100\n",
            " - 0s - loss: 0.0219 - mean_absolute_error: 0.0219\n",
            "Epoch 54/100\n",
            " - 0s - loss: 0.0197 - mean_absolute_error: 0.0197\n",
            "Epoch 55/100\n",
            " - 0s - loss: 0.0207 - mean_absolute_error: 0.0207\n",
            "Epoch 56/100\n",
            " - 0s - loss: 0.0201 - mean_absolute_error: 0.0201\n",
            "Epoch 57/100\n",
            " - 0s - loss: 0.0194 - mean_absolute_error: 0.0194\n",
            "Epoch 58/100\n",
            " - 0s - loss: 0.0177 - mean_absolute_error: 0.0177\n",
            "Epoch 59/100\n",
            " - 0s - loss: 0.0183 - mean_absolute_error: 0.0183\n",
            "Epoch 60/100\n",
            " - 0s - loss: 0.0207 - mean_absolute_error: 0.0207\n",
            "Epoch 61/100\n",
            " - 0s - loss: 0.0184 - mean_absolute_error: 0.0184\n",
            "Epoch 62/100\n",
            " - 0s - loss: 0.0174 - mean_absolute_error: 0.0174\n",
            "Epoch 63/100\n",
            " - 0s - loss: 0.0171 - mean_absolute_error: 0.0171\n",
            "Epoch 64/100\n",
            " - 0s - loss: 0.0168 - mean_absolute_error: 0.0168\n",
            "Epoch 65/100\n",
            " - 0s - loss: 0.0193 - mean_absolute_error: 0.0193\n",
            "Epoch 66/100\n",
            " - 0s - loss: 0.0157 - mean_absolute_error: 0.0157\n",
            "Epoch 67/100\n",
            " - 0s - loss: 0.0162 - mean_absolute_error: 0.0162\n",
            "Epoch 68/100\n",
            " - 0s - loss: 0.0168 - mean_absolute_error: 0.0168\n",
            "Epoch 69/100\n",
            " - 0s - loss: 0.0205 - mean_absolute_error: 0.0205\n",
            "Epoch 70/100\n",
            " - 0s - loss: 0.0178 - mean_absolute_error: 0.0178\n",
            "Epoch 71/100\n",
            " - 0s - loss: 0.0167 - mean_absolute_error: 0.0167\n",
            "Epoch 72/100\n",
            " - 0s - loss: 0.0178 - mean_absolute_error: 0.0178\n",
            "Epoch 73/100\n",
            " - 0s - loss: 0.0197 - mean_absolute_error: 0.0197\n",
            "Epoch 74/100\n",
            " - 0s - loss: 0.0162 - mean_absolute_error: 0.0162\n",
            "Epoch 75/100\n",
            " - 0s - loss: 0.0149 - mean_absolute_error: 0.0149\n",
            "Epoch 76/100\n",
            " - 0s - loss: 0.0173 - mean_absolute_error: 0.0173\n",
            "Epoch 77/100\n",
            " - 0s - loss: 0.0180 - mean_absolute_error: 0.0180\n",
            "Epoch 78/100\n",
            " - 0s - loss: 0.0156 - mean_absolute_error: 0.0156\n",
            "Epoch 79/100\n",
            " - 0s - loss: 0.0182 - mean_absolute_error: 0.0182\n",
            "Epoch 80/100\n",
            " - 0s - loss: 0.0151 - mean_absolute_error: 0.0151\n",
            "Epoch 81/100\n",
            " - 0s - loss: 0.0152 - mean_absolute_error: 0.0152\n",
            "Epoch 82/100\n",
            " - 0s - loss: 0.0166 - mean_absolute_error: 0.0166\n",
            "Epoch 83/100\n",
            " - 0s - loss: 0.0177 - mean_absolute_error: 0.0177\n",
            "Epoch 84/100\n",
            " - 0s - loss: 0.0164 - mean_absolute_error: 0.0164\n",
            "Epoch 85/100\n",
            " - 0s - loss: 0.0169 - mean_absolute_error: 0.0169\n",
            "Epoch 86/100\n",
            " - 0s - loss: 0.0145 - mean_absolute_error: 0.0145\n",
            "Epoch 87/100\n",
            " - 0s - loss: 0.0168 - mean_absolute_error: 0.0168\n",
            "Epoch 88/100\n",
            " - 0s - loss: 0.0189 - mean_absolute_error: 0.0189\n",
            "Epoch 89/100\n",
            " - 0s - loss: 0.0155 - mean_absolute_error: 0.0155\n",
            "Epoch 90/100\n",
            " - 0s - loss: 0.0162 - mean_absolute_error: 0.0162\n",
            "Epoch 91/100\n",
            " - 0s - loss: 0.0155 - mean_absolute_error: 0.0155\n",
            "Epoch 92/100\n",
            " - 0s - loss: 0.0143 - mean_absolute_error: 0.0143\n",
            "Epoch 93/100\n",
            " - 0s - loss: 0.0171 - mean_absolute_error: 0.0171\n",
            "Epoch 94/100\n",
            " - 0s - loss: 0.0154 - mean_absolute_error: 0.0154\n",
            "Epoch 95/100\n",
            " - 0s - loss: 0.0167 - mean_absolute_error: 0.0167\n",
            "Epoch 96/100\n",
            " - 0s - loss: 0.0157 - mean_absolute_error: 0.0157\n",
            "Epoch 97/100\n",
            " - 0s - loss: 0.0160 - mean_absolute_error: 0.0160\n",
            "Epoch 98/100\n",
            " - 0s - loss: 0.0147 - mean_absolute_error: 0.0147\n",
            "Epoch 99/100\n",
            " - 0s - loss: 0.0136 - mean_absolute_error: 0.0136\n",
            "Epoch 100/100\n",
            " - 0s - loss: 0.0184 - mean_absolute_error: 0.0184\n"
          ],
          "name": "stdout"
        },
        {
          "output_type": "execute_result",
          "data": {
            "text/plain": [
              "<keras.callbacks.History at 0x7f4531afc8d0>"
            ]
          },
          "metadata": {
            "tags": []
          },
          "execution_count": 28
        }
      ]
    },
    {
      "cell_type": "code",
      "metadata": {
        "id": "VRdnw9J7lmzM",
        "colab_type": "code",
        "outputId": "7aad1392-5439-41d6-c333-fc0528b50adf",
        "colab": {
          "base_uri": "https://localhost:8080/",
          "height": 119
        }
      },
      "source": [
        "# Freeze the layers except the last 2 dense layers\n",
        "for layer in dnn_2.layers[:-2]:\n",
        "    layer.trainable = False\n",
        "    print(layer)\n",
        "\n",
        "# Check the trainable status of the individual layers\n",
        "for layer in dnn_2.layers:\n",
        "    print(layer, layer.trainable)"
      ],
      "execution_count": 0,
      "outputs": [
        {
          "output_type": "stream",
          "text": [
            "<keras.layers.core.Dense object at 0x7f4531afcf60>\n",
            "<keras.layers.core.Dense object at 0x7f4531af90f0>\n",
            "<keras.layers.core.Dense object at 0x7f4531afcf60> False\n",
            "<keras.layers.core.Dense object at 0x7f4531af90f0> False\n",
            "<keras.layers.core.Dense object at 0x7f4531af9c18> True\n",
            "<keras.layers.core.Dense object at 0x7f4531b1bf60> True\n"
          ],
          "name": "stdout"
        }
      ]
    },
    {
      "cell_type": "code",
      "metadata": {
        "id": "vz67fVoLmf3x",
        "colab_type": "code",
        "outputId": "daf6a438-a652-4c6c-9fae-266efc4d5c98",
        "colab": {
          "base_uri": "https://localhost:8080/",
          "height": 1000
        }
      },
      "source": [
        "dnn_2.fit(X_train_ARM, Y_train_ARM, epochs = 100, batch_size = 1, verbose = 2)"
      ],
      "execution_count": 0,
      "outputs": [
        {
          "output_type": "stream",
          "text": [
            "Epoch 1/100\n",
            " - 0s - loss: 0.1882 - mean_absolute_error: 0.1882\n",
            "Epoch 2/100\n",
            " - 0s - loss: 0.1327 - mean_absolute_error: 0.1327\n",
            "Epoch 3/100\n",
            " - 0s - loss: 0.0947 - mean_absolute_error: 0.0947\n",
            "Epoch 4/100\n",
            " - 0s - loss: 0.0945 - mean_absolute_error: 0.0945\n",
            "Epoch 5/100\n",
            " - 0s - loss: 0.0407 - mean_absolute_error: 0.0407\n",
            "Epoch 6/100\n",
            " - 0s - loss: 0.0936 - mean_absolute_error: 0.0936\n",
            "Epoch 7/100\n",
            " - 0s - loss: 0.0901 - mean_absolute_error: 0.0901\n",
            "Epoch 8/100\n",
            " - 0s - loss: 0.0977 - mean_absolute_error: 0.0977\n",
            "Epoch 9/100\n",
            " - 0s - loss: 0.0541 - mean_absolute_error: 0.0541\n"
          ],
          "name": "stdout"
        },
        {
          "output_type": "stream",
          "text": [
            "/usr/local/lib/python3.6/dist-packages/keras/engine/training.py:493: UserWarning: Discrepancy between trainable weights and collected trainable weights, did you set `model.trainable` without calling `model.compile` after ?\n",
            "  'Discrepancy between trainable weights and collected trainable'\n"
          ],
          "name": "stderr"
        },
        {
          "output_type": "stream",
          "text": [
            "Epoch 10/100\n",
            " - 0s - loss: 0.0860 - mean_absolute_error: 0.0860\n",
            "Epoch 11/100\n",
            " - 0s - loss: 0.0665 - mean_absolute_error: 0.0665\n",
            "Epoch 12/100\n",
            " - 0s - loss: 0.0700 - mean_absolute_error: 0.0700\n",
            "Epoch 13/100\n",
            " - 0s - loss: 0.0649 - mean_absolute_error: 0.0649\n",
            "Epoch 14/100\n",
            " - 0s - loss: 0.0403 - mean_absolute_error: 0.0403\n",
            "Epoch 15/100\n",
            " - 0s - loss: 0.0676 - mean_absolute_error: 0.0676\n",
            "Epoch 16/100\n",
            " - 0s - loss: 0.0701 - mean_absolute_error: 0.0701\n",
            "Epoch 17/100\n",
            " - 0s - loss: 0.0585 - mean_absolute_error: 0.0585\n",
            "Epoch 18/100\n",
            " - 0s - loss: 0.0388 - mean_absolute_error: 0.0388\n",
            "Epoch 19/100\n",
            " - 0s - loss: 0.0793 - mean_absolute_error: 0.0793\n",
            "Epoch 20/100\n",
            " - 0s - loss: 0.0539 - mean_absolute_error: 0.0539\n",
            "Epoch 21/100\n",
            " - 0s - loss: 0.0374 - mean_absolute_error: 0.0374\n",
            "Epoch 22/100\n",
            " - 0s - loss: 0.1040 - mean_absolute_error: 0.1040\n",
            "Epoch 23/100\n",
            " - 0s - loss: 0.0757 - mean_absolute_error: 0.0757\n",
            "Epoch 24/100\n",
            " - 0s - loss: 0.0326 - mean_absolute_error: 0.0326\n",
            "Epoch 25/100\n",
            " - 0s - loss: 0.0363 - mean_absolute_error: 0.0363\n",
            "Epoch 26/100\n",
            " - 0s - loss: 0.0696 - mean_absolute_error: 0.0696\n",
            "Epoch 27/100\n",
            " - 0s - loss: 0.0383 - mean_absolute_error: 0.0383\n",
            "Epoch 28/100\n",
            " - 0s - loss: 0.0687 - mean_absolute_error: 0.0687\n",
            "Epoch 29/100\n",
            " - 0s - loss: 0.0372 - mean_absolute_error: 0.0372\n",
            "Epoch 30/100\n",
            " - 0s - loss: 0.0735 - mean_absolute_error: 0.0735\n",
            "Epoch 31/100\n",
            " - 0s - loss: 0.0482 - mean_absolute_error: 0.0482\n",
            "Epoch 32/100\n",
            " - 0s - loss: 0.0437 - mean_absolute_error: 0.0437\n",
            "Epoch 33/100\n",
            " - 0s - loss: 0.0384 - mean_absolute_error: 0.0384\n",
            "Epoch 34/100\n",
            " - 0s - loss: 0.0420 - mean_absolute_error: 0.0420\n",
            "Epoch 35/100\n",
            " - 0s - loss: 0.0450 - mean_absolute_error: 0.0450\n",
            "Epoch 36/100\n",
            " - 0s - loss: 0.0276 - mean_absolute_error: 0.0276\n",
            "Epoch 37/100\n",
            " - 0s - loss: 0.0490 - mean_absolute_error: 0.0490\n",
            "Epoch 38/100\n",
            " - 0s - loss: 0.0228 - mean_absolute_error: 0.0228\n",
            "Epoch 39/100\n",
            " - 0s - loss: 0.0184 - mean_absolute_error: 0.0184\n",
            "Epoch 40/100\n",
            " - 0s - loss: 0.0594 - mean_absolute_error: 0.0594\n",
            "Epoch 41/100\n",
            " - 0s - loss: 0.0312 - mean_absolute_error: 0.0312\n",
            "Epoch 42/100\n",
            " - 0s - loss: 0.0588 - mean_absolute_error: 0.0588\n",
            "Epoch 43/100\n",
            " - 0s - loss: 0.0686 - mean_absolute_error: 0.0686\n",
            "Epoch 44/100\n",
            " - 0s - loss: 0.0378 - mean_absolute_error: 0.0378\n",
            "Epoch 45/100\n",
            " - 0s - loss: 0.0339 - mean_absolute_error: 0.0339\n",
            "Epoch 46/100\n",
            " - 0s - loss: 0.0233 - mean_absolute_error: 0.0233\n",
            "Epoch 47/100\n",
            " - 0s - loss: 0.0429 - mean_absolute_error: 0.0429\n",
            "Epoch 48/100\n",
            " - 0s - loss: 0.0234 - mean_absolute_error: 0.0234\n",
            "Epoch 49/100\n",
            " - 0s - loss: 0.0546 - mean_absolute_error: 0.0546\n",
            "Epoch 50/100\n",
            " - 0s - loss: 0.0341 - mean_absolute_error: 0.0341\n",
            "Epoch 51/100\n",
            " - 0s - loss: 0.0278 - mean_absolute_error: 0.0278\n",
            "Epoch 52/100\n",
            " - 0s - loss: 0.0167 - mean_absolute_error: 0.0167\n",
            "Epoch 53/100\n",
            " - 0s - loss: 0.0510 - mean_absolute_error: 0.0510\n",
            "Epoch 54/100\n",
            " - 0s - loss: 0.0364 - mean_absolute_error: 0.0364\n",
            "Epoch 55/100\n",
            " - 0s - loss: 0.0508 - mean_absolute_error: 0.0508\n",
            "Epoch 56/100\n",
            " - 0s - loss: 0.0407 - mean_absolute_error: 0.0407\n",
            "Epoch 57/100\n",
            " - 0s - loss: 0.0217 - mean_absolute_error: 0.0217\n",
            "Epoch 58/100\n",
            " - 0s - loss: 0.0286 - mean_absolute_error: 0.0286\n",
            "Epoch 59/100\n",
            " - 0s - loss: 0.0348 - mean_absolute_error: 0.0348\n",
            "Epoch 60/100\n",
            " - 0s - loss: 0.0268 - mean_absolute_error: 0.0268\n",
            "Epoch 61/100\n",
            " - 0s - loss: 0.0457 - mean_absolute_error: 0.0457\n",
            "Epoch 62/100\n",
            " - 0s - loss: 0.0376 - mean_absolute_error: 0.0376\n",
            "Epoch 63/100\n",
            " - 0s - loss: 0.0366 - mean_absolute_error: 0.0366\n",
            "Epoch 64/100\n",
            " - 0s - loss: 0.0363 - mean_absolute_error: 0.0363\n",
            "Epoch 65/100\n",
            " - 0s - loss: 0.0598 - mean_absolute_error: 0.0598\n",
            "Epoch 66/100\n",
            " - 0s - loss: 0.0661 - mean_absolute_error: 0.0661\n",
            "Epoch 67/100\n",
            " - 0s - loss: 0.0385 - mean_absolute_error: 0.0385\n",
            "Epoch 68/100\n",
            " - 0s - loss: 0.0294 - mean_absolute_error: 0.0294\n",
            "Epoch 69/100\n",
            " - 0s - loss: 0.0310 - mean_absolute_error: 0.0310\n",
            "Epoch 70/100\n",
            " - 0s - loss: 0.0397 - mean_absolute_error: 0.0397\n",
            "Epoch 71/100\n",
            " - 0s - loss: 0.0226 - mean_absolute_error: 0.0226\n",
            "Epoch 72/100\n",
            " - 0s - loss: 0.0519 - mean_absolute_error: 0.0519\n",
            "Epoch 73/100\n",
            " - 0s - loss: 0.0366 - mean_absolute_error: 0.0366\n",
            "Epoch 74/100\n",
            " - 0s - loss: 0.0354 - mean_absolute_error: 0.0354\n",
            "Epoch 75/100\n",
            " - 0s - loss: 0.0236 - mean_absolute_error: 0.0236\n",
            "Epoch 76/100\n",
            " - 0s - loss: 0.0342 - mean_absolute_error: 0.0342\n",
            "Epoch 77/100\n",
            " - 0s - loss: 0.0301 - mean_absolute_error: 0.0301\n",
            "Epoch 78/100\n",
            " - 0s - loss: 0.0178 - mean_absolute_error: 0.0178\n",
            "Epoch 79/100\n",
            " - 0s - loss: 0.0104 - mean_absolute_error: 0.0104\n",
            "Epoch 80/100\n",
            " - 0s - loss: 0.0290 - mean_absolute_error: 0.0290\n",
            "Epoch 81/100\n",
            " - 0s - loss: 0.0164 - mean_absolute_error: 0.0164\n",
            "Epoch 82/100\n",
            " - 0s - loss: 0.0321 - mean_absolute_error: 0.0321\n",
            "Epoch 83/100\n",
            " - 0s - loss: 0.0223 - mean_absolute_error: 0.0223\n",
            "Epoch 84/100\n",
            " - 0s - loss: 0.0220 - mean_absolute_error: 0.0220\n",
            "Epoch 85/100\n",
            " - 0s - loss: 0.0221 - mean_absolute_error: 0.0221\n",
            "Epoch 86/100\n",
            " - 0s - loss: 0.0203 - mean_absolute_error: 0.0203\n",
            "Epoch 87/100\n",
            " - 0s - loss: 0.0281 - mean_absolute_error: 0.0281\n",
            "Epoch 88/100\n",
            " - 0s - loss: 0.0363 - mean_absolute_error: 0.0363\n",
            "Epoch 89/100\n",
            " - 0s - loss: 0.0254 - mean_absolute_error: 0.0254\n",
            "Epoch 90/100\n",
            " - 0s - loss: 0.0449 - mean_absolute_error: 0.0449\n",
            "Epoch 91/100\n",
            " - 0s - loss: 0.0419 - mean_absolute_error: 0.0419\n",
            "Epoch 92/100\n",
            " - 0s - loss: 0.0179 - mean_absolute_error: 0.0179\n",
            "Epoch 93/100\n",
            " - 0s - loss: 0.0460 - mean_absolute_error: 0.0460\n",
            "Epoch 94/100\n",
            " - 0s - loss: 0.0406 - mean_absolute_error: 0.0406\n",
            "Epoch 95/100\n",
            " - 0s - loss: 0.0227 - mean_absolute_error: 0.0227\n",
            "Epoch 96/100\n",
            " - 0s - loss: 0.0654 - mean_absolute_error: 0.0654\n",
            "Epoch 97/100\n",
            " - 0s - loss: 0.0432 - mean_absolute_error: 0.0432\n",
            "Epoch 98/100\n",
            " - 0s - loss: 0.0379 - mean_absolute_error: 0.0379\n",
            "Epoch 99/100\n",
            " - 0s - loss: 0.0531 - mean_absolute_error: 0.0531\n",
            "Epoch 100/100\n",
            " - 0s - loss: 0.0326 - mean_absolute_error: 0.0326\n"
          ],
          "name": "stdout"
        },
        {
          "output_type": "execute_result",
          "data": {
            "text/plain": [
              "<keras.callbacks.History at 0x7f4520232358>"
            ]
          },
          "metadata": {
            "tags": []
          },
          "execution_count": 30
        }
      ]
    },
    {
      "cell_type": "code",
      "metadata": {
        "id": "1pyUnY8eRHyH",
        "colab_type": "code",
        "outputId": "fda495f0-f03e-464d-e9f3-631a2fae8e03",
        "colab": {
          "base_uri": "https://localhost:8080/",
          "height": 282
        }
      },
      "source": [
        "Y_pred = dnn_2.predict(X_test_ARM)\n",
        "Y_pred = scaler_y.inverse_transform(Y_pred)\n",
        "Y_fold = scaler_y.inverse_transform(Y_test_ARM)\n",
        "plt.plot(Y_pred)\n",
        "plt.plot(Y_fold)"
      ],
      "execution_count": 0,
      "outputs": [
        {
          "output_type": "execute_result",
          "data": {
            "text/plain": [
              "[<matplotlib.lines.Line2D at 0x7f4520238048>]"
            ]
          },
          "metadata": {
            "tags": []
          },
          "execution_count": 31
        },
        {
          "output_type": "display_data",
          "data": {
            "image/png": "[encoded data removed]",
            "text/plain": [
              "<Figure size 432x288 with 1 Axes>"
            ]
          },
          "metadata": {
            "tags": []
          }
        }
      ]
    },
    {
      "cell_type": "code",
      "metadata": {
        "id": "r2KsMmqzRYz_",
        "colab_type": "code",
        "outputId": "657671d8-2cf8-469e-8320-c2d259fd10ab",
        "colab": {
          "base_uri": "https://localhost:8080/",
          "height": 412
        }
      },
      "source": [
        "plt.figure()\n",
        "plt.plot(Y_fold, 'b')\n",
        "plt.plot(Y_pred, 'r')\n",
        "Y_fold = scaler_y.inverse_transform(Y_fold)\n",
        "Y_pred = scaler_y.inverse_transform(Y_pred)\n",
        "r2_scores = (r2_score(Y_fold, Y_pred))\n",
        "mse_scores = (mean_squared_error(Y_fold, Y_pred))\n",
        "mape_scores = (absolute_percentage_error(Y_fold, Y_pred))\n",
        "print('MSE: \\n', mse_scores)\n",
        "print('\\nR2: \\n', r2_scores)\n",
        "print('\\nMAPE: \\n', mape_scores[0])"
      ],
      "execution_count": 0,
      "outputs": [
        {
          "output_type": "stream",
          "text": [
            "MSE: \n",
            " 2.42322624895725e+18\n",
            "\n",
            "R2: \n",
            " 0.9152520898784735\n",
            "\n",
            "MAPE: \n",
            " 22.472688714227395\n"
          ],
          "name": "stdout"
        },
        {
          "output_type": "display_data",
          "data": {
            "image/png": "[encoded data removed]",
            "text/plain": [
              "<Figure size 432x288 with 1 Axes>"
            ]
          },
          "metadata": {
            "tags": []
          }
        }
      ]
    },
    {
      "cell_type": "code",
      "metadata": {
        "id": "2cog4vU9SH6W",
        "colab_type": "code",
        "colab": {}
      },
      "source": [
        ""
      ],
      "execution_count": 0,
      "outputs": []
    }
  ]
}